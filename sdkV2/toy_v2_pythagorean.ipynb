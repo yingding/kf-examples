{
 "cells": [
  {
   "cell_type": "markdown",
   "id": "252cdb8f-9f21-4c7a-a9e4-dc4f9c6669b3",
   "metadata": {},
   "source": [
    "## Toy notebook for v2 pipeline on KF 1.8.0 manifests\n",
    "* quick start v2 https://www.kubeflow.org/docs/components/pipelines/v2/pipelines/pipeline-basics/\n",
    "* migration guide https://www.kubeflow.org/docs/components/pipelines/v2/migration/\n",
    "\n",
    "\n",
    "The default Kubeflow 1.8.0 Notebooks has the following KF SDKs\n",
    "\n",
    "```console\n",
    "kfp                           2.4.0\n",
    "kfp-pipeline-spec             0.2.2\n",
    "kfp-server-api                2.0.3\n",
    "```"
   ]
  },
  {
   "cell_type": "code",
   "execution_count": 1,
   "id": "ce0db978-dac8-4138-871b-2f7aaa010e70",
   "metadata": {
    "tags": []
   },
   "outputs": [],
   "source": [
    "import sys"
   ]
  },
  {
   "cell_type": "code",
   "execution_count": 2,
   "id": "69a2ff30-ce4f-4007-b798-7c4006537c77",
   "metadata": {
    "tags": []
   },
   "outputs": [
    {
     "name": "stdout",
     "output_type": "stream",
     "text": [
      "current platform python version: 3.11.6\n"
     ]
    }
   ],
   "source": [
    "from platform import python_version\n",
    "print (f\"current platform python version: {python_version()}\")"
   ]
  },
  {
   "cell_type": "code",
   "execution_count": 3,
   "id": "8418f48c-bf85-4c5d-868e-74b8bc6059d6",
   "metadata": {
    "tags": []
   },
   "outputs": [],
   "source": [
    "# !{sys.executable} -m pip install --user --upgrade kfp==2.4.0"
   ]
  },
  {
   "cell_type": "code",
   "execution_count": 4,
   "id": "699e0034-12c6-438e-bd9a-8bda308038e2",
   "metadata": {
    "tags": []
   },
   "outputs": [],
   "source": [
    "# !{sys.executable} -m pip uninstall -y kfp-server-api\n",
    "# !{sys.executable} -m pip install --user --upgrade kfp-server-api==2.0.3\n",
    "# !{sys.executable} -m pip install --user --upgrade kfp-pipeline-spec==0.2.2"
   ]
  },
  {
   "cell_type": "code",
   "execution_count": 5,
   "id": "498cadad-1397-4680-9b7d-4e08ebefea51",
   "metadata": {
    "tags": []
   },
   "outputs": [
    {
     "name": "stdout",
     "output_type": "stream",
     "text": [
      "kfp                           2.4.0\n",
      "kfp-pipeline-spec             0.2.2\n",
      "kfp-server-api                2.0.3\n"
     ]
    }
   ],
   "source": [
    "!{sys.executable} -m pip list | grep kfp"
   ]
  },
  {
   "cell_type": "markdown",
   "id": "9a0ad84e-c5f6-445f-b08a-61851dcc8236",
   "metadata": {},
   "source": [
    "## (Optional) Restart kernel"
   ]
  },
  {
   "cell_type": "code",
   "execution_count": 6,
   "id": "dfde3aa1-f833-4b95-bb6d-d466cf7630ae",
   "metadata": {
    "tags": []
   },
   "outputs": [],
   "source": [
    "from kfp.dsl.pipeline_task import PipelineTask\n",
    "\n",
    "def set_res_limit(task: PipelineTask, mem_req=\"200Mi\", cpu_req=\"2000m\", mem_lim=\"4000Mi\", cpu_lim='4000m') -> PipelineTask:\n",
    "    \"\"\"set the resource limit for cpu and memory, no cpu and memory requirement sofar.\n",
    "    should the limit is set to small, the Task Pod would be stopped by kubernetes with OOMKilled status.\n",
    "    \n",
    "    Args:\n",
    "        task(PipelineTask): the KFP PipelineTask which need to be set the cpu and memory limits\n",
    "        cpu_limit(str): the str representation of cpu limit e.g. '1' as one cpu time, '0.5' as 1/2 cpu time\n",
    "        mem_limit(str): the str representation of memory limit e.g. '500M' for 500MB RAM\n",
    "        \n",
    "    Return:\n",
    "        (PipelineTask): the PipelineTask with the desired limitations set\n",
    "    \"\"\"\n",
    "    # return task.set_cpu_limit('1').set_memory_limit('500M')\n",
    "    return task.set_cpu_request(cpu_req)\\\n",
    "            .set_cpu_limit(cpu_lim)\\\n",
    "            .set_memory_request(mem_req)\\\n",
    "            .set_memory_limit(mem_lim)"
   ]
  },
  {
   "cell_type": "code",
   "execution_count": 7,
   "id": "31e7d0be-2e34-4e91-924f-5fef6ded2d7e",
   "metadata": {
    "tags": []
   },
   "outputs": [],
   "source": [
    "from kfp import dsl\n",
    "from kfp import compiler\n",
    "\n",
    "@dsl.component(base_image='python:3.10.13-bullseye')\n",
    "def square(x: float) -> float:\n",
    "    # need to cast to float otherwise will run into an error\n",
    "    return float(x ** 2)\n",
    "\n",
    "## use kubectl -n kubeflow-kindfor logs pythagorean-tr97s-2385800675 to show the error log from console\n",
    "@dsl.component(base_image='python:3.10.13-bullseye')\n",
    "def add(x: float, z: float) -> float:\n",
    "    # for some strange reason, the y param name is changed to \"true\", if i rename to z, it works\n",
    "    return float(x + z)\n",
    "\n",
    "@dsl.component(base_image='python:3.10.13-bullseye')\n",
    "def square_root(x: float) -> float:\n",
    "    return float(x ** .5)\n",
    "\n",
    "# @dsl.pipeline(name='pythagorean-theorem-pipeline',\n",
    "#               description='Solve for the length of a hypotenuse of a triangle with sides length `a` and `b`.',\n",
    "#               pipeline_root='gs://my-pipelines-bucket',\n",
    "#               display_name='Pythagorean pipeline.')\n",
    "@dsl.pipeline\n",
    "def pythagorean(a: float, b: float) -> float:\n",
    "    a_sq_task = square(x=a)\n",
    "    # if the limit is set to small, will be OOMKilled by kubernetes\n",
    "    #a_sq_task = set_res_limit(task=a_sq_task, cpu_req='500m', mem_req='200M')\n",
    "    b_sq_task = square(x=b)\n",
    "    #b_sq_task = set_res_limit(task=b_sq_task, cpu_req='500m', mem_req='200M')\n",
    "\n",
    "    sum_task = add(x=a_sq_task.output, z=b_sq_task.output)\n",
    "    #sum_task = set_res_limit(task=sum_task, cpu_req='1', mem_req='500M')\n",
    "\n",
    "    result_task = square_root(x=sum_task.output)\n",
    "    #result_task = set_res_limit(task=result_task, cpu_req='1', mem_req='500M')\n",
    "    return result_task.output"
   ]
  },
  {
   "cell_type": "code",
   "execution_count": 8,
   "id": "99ac2fd4-a6ab-43f2-bef8-1ef52abc6c31",
   "metadata": {
    "tags": []
   },
   "outputs": [],
   "source": [
    "compiler.Compiler().compile(\n",
    "    pipeline_func=pythagorean,\n",
    "    package_path=\"./pythagorean.yaml\"\n",
    ")"
   ]
  },
  {
   "cell_type": "code",
   "execution_count": 9,
   "id": "dac7580b-913a-47cb-a784-a2207bc4a65f",
   "metadata": {
    "tags": []
   },
   "outputs": [
    {
     "name": "stdout",
     "output_type": "stream",
     "text": [
      "kubeflow-kindfor\n"
     ]
    },
    {
     "name": "stderr",
     "output_type": "stream",
     "text": [
      "/opt/conda/lib/python3.11/site-packages/kfp/client/client.py:159: FutureWarning: This client only works with Kubeflow Pipeline v2.0.0-beta.2 and later versions.\n",
      "  warnings.warn(\n"
     ]
    }
   ],
   "source": [
    "from kfp.client import Client\n",
    "client = Client()\n",
    "NAMESPACE = client.get_user_namespace()\n",
    "print(NAMESPACE)"
   ]
  },
  {
   "cell_type": "code",
   "execution_count": 10,
   "id": "e6cac10e-acb2-44b4-a5c3-33aa3211d3fd",
   "metadata": {
    "tags": []
   },
   "outputs": [
    {
     "data": {
      "text/plain": [
       "{'experiments': [{'created_at': datetime.datetime(2023, 11, 16, 13, 19, 44, tzinfo=tzlocal()),\n",
       "                  'description': None,\n",
       "                  'display_name': 'demo',\n",
       "                  'experiment_id': '557b0023-3f89-4df6-bf8e-5091a646aa89',\n",
       "                  'namespace': 'kubeflow-kindfor',\n",
       "                  'storage_state': 'AVAILABLE'}],\n",
       " 'next_page_token': None,\n",
       " 'total_size': 1}"
      ]
     },
     "execution_count": 10,
     "metadata": {},
     "output_type": "execute_result"
    }
   ],
   "source": [
    "client.list_experiments(namespace=NAMESPACE)"
   ]
  },
  {
   "cell_type": "code",
   "execution_count": 11,
   "id": "a06d57d2-6d7f-4add-8f06-6debf8fac0b4",
   "metadata": {
    "tags": []
   },
   "outputs": [
    {
     "data": {
      "text/html": [
       "<a href=\"/pipeline/#/experiments/details/557b0023-3f89-4df6-bf8e-5091a646aa89\" target=\"_blank\" >Experiment details</a>."
      ],
      "text/plain": [
       "<IPython.core.display.HTML object>"
      ]
     },
     "metadata": {},
     "output_type": "display_data"
    },
    {
     "data": {
      "text/html": [
       "<a href=\"/pipeline/#/runs/details/3320fb21-7863-47b3-b0ae-ad66d421b145\" target=\"_blank\" >Run details</a>."
      ],
      "text/plain": [
       "<IPython.core.display.HTML object>"
      ]
     },
     "metadata": {},
     "output_type": "display_data"
    }
   ],
   "source": [
    "# ENABLE_CACHING = True\n",
    "ENABLE_CACHING = False\n",
    "EXPERIMENT_NAME = \"demo\"\n",
    "\n",
    "run = client.create_run_from_pipeline_func(\n",
    "    pipeline_func=pythagorean,\n",
    "    arguments = {\"a\": 1, \"b\": 2},\n",
    "    run_name=\"my test v2 run\",\n",
    "    experiment_name = EXPERIMENT_NAME,\n",
    "    namespace=NAMESPACE,\n",
    "    enable_caching=ENABLE_CACHING,\n",
    ")"
   ]
  },
  {
   "cell_type": "code",
   "execution_count": null,
   "id": "57ed6b38-4178-4932-a937-29f36e10ac6f",
   "metadata": {},
   "outputs": [],
   "source": []
  }
 ],
 "metadata": {
  "kernelspec": {
   "display_name": "Python 3 (ipykernel)",
   "language": "python",
   "name": "python3"
  },
  "language_info": {
   "codemirror_mode": {
    "name": "ipython",
    "version": 3
   },
   "file_extension": ".py",
   "mimetype": "text/x-python",
   "name": "python",
   "nbconvert_exporter": "python",
   "pygments_lexer": "ipython3",
   "version": "3.11.6"
  }
 },
 "nbformat": 4,
 "nbformat_minor": 5
}
