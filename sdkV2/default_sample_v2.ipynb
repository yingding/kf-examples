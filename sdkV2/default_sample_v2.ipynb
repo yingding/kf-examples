{
 "cells": [
  {
   "cell_type": "code",
   "execution_count": 1,
   "id": "03b2c5ce-b9ba-4e56-a1ca-5ac90980eebb",
   "metadata": {
    "tags": []
   },
   "outputs": [],
   "source": [
    "import sys"
   ]
  },
  {
   "cell_type": "code",
   "execution_count": 2,
   "id": "ac8179b2-442a-4751-bf6b-90201abac1c6",
   "metadata": {
    "tags": []
   },
   "outputs": [
    {
     "name": "stdout",
     "output_type": "stream",
     "text": [
      "current platform python version: 3.11.6\n"
     ]
    }
   ],
   "source": [
    "from platform import python_version\n",
    "print (f\"current platform python version: {python_version()}\")"
   ]
  },
  {
   "cell_type": "code",
   "execution_count": 3,
   "id": "7e8e87a1-148c-470b-9011-915333750eb0",
   "metadata": {
    "tags": []
   },
   "outputs": [],
   "source": [
    "#!{sys.executable} -m pip install --upgrade --user kfp==2.4.0 kfp-server-api==2.0.3 kfp-pipeline-spec==0.2.2\n",
    "#!{sys.executable} -m pip install --upgrade --user kfp-kubernetes==1.0.0"
   ]
  },
  {
   "cell_type": "code",
   "execution_count": 4,
   "id": "55529c40-9166-4ead-8de6-4a9fe0118714",
   "metadata": {
    "tags": []
   },
   "outputs": [
    {
     "name": "stdout",
     "output_type": "stream",
     "text": [
      "kfp                           2.4.0\n",
      "kfp-kubernetes                1.0.0\n",
      "kfp-pipeline-spec             0.2.2\n",
      "kfp-server-api                2.0.3\n"
     ]
    }
   ],
   "source": [
    "!{sys.executable} -m pip list | grep kfp"
   ]
  },
  {
   "cell_type": "code",
   "execution_count": 5,
   "id": "08cbab0f-7f23-4e99-a0d0-e40d7240af53",
   "metadata": {
    "tags": []
   },
   "outputs": [
    {
     "name": "stdout",
     "output_type": "stream",
     "text": [
      "kubeflow-kindfor\n"
     ]
    },
    {
     "name": "stderr",
     "output_type": "stream",
     "text": [
      "/opt/conda/lib/python3.11/site-packages/kfp/client/client.py:159: FutureWarning: This client only works with Kubeflow Pipeline v2.0.0-beta.2 and later versions.\n",
      "  warnings.warn(\n"
     ]
    }
   ],
   "source": [
    "from kfp.client import Client\n",
    "from kfp import dsl\n",
    "import kfp\n",
    "\n",
    "\n",
    "@dsl.component(\n",
    "    base_image='python:3.10.13-bullseye'    \n",
    ")\n",
    "def add(a: float, b: float) -> float:\n",
    "    '''Calculates sum of two arguments'''\n",
    "    return a + b\n",
    "\n",
    "\n",
    "@dsl.pipeline(\n",
    "    name='Addition pipeline',\n",
    "    description='An example pipeline that performs addition calculations.')\n",
    "def add_pipeline(\n",
    "    a: float = 1.0,\n",
    "    b: float = 7.0,\n",
    "):\n",
    "    first_add_task = add(a=a, b=4.0)\n",
    "    second_add_task = add(a=first_add_task.output, b=b)\n",
    "\n",
    "    \n",
    "client = Client()\n",
    "NAMESPACE = client.get_user_namespace()\n",
    "EXPERIMENT_NAME = \"demo\"\n",
    "ENABLE_CACHING = False\n",
    "print(NAMESPACE)"
   ]
  },
  {
   "cell_type": "code",
   "execution_count": 6,
   "id": "5f6ecc31-e083-4ee2-b09b-c19bec5de31f",
   "metadata": {},
   "outputs": [
    {
     "data": {
      "text/html": [
       "<a href=\"/pipeline/#/experiments/details/557b0023-3f89-4df6-bf8e-5091a646aa89\" target=\"_blank\" >Experiment details</a>."
      ],
      "text/plain": [
       "<IPython.core.display.HTML object>"
      ]
     },
     "metadata": {},
     "output_type": "display_data"
    },
    {
     "data": {
      "text/html": [
       "<a href=\"/pipeline/#/runs/details/ac863cbb-18cc-4fdb-9a35-bdc8852b9369\" target=\"_blank\" >Run details</a>."
      ],
      "text/plain": [
       "<IPython.core.display.HTML object>"
      ]
     },
     "metadata": {},
     "output_type": "display_data"
    },
    {
     "data": {
      "text/plain": [
       "RunPipelineResult(run_id=ac863cbb-18cc-4fdb-9a35-bdc8852b9369)"
      ]
     },
     "execution_count": 6,
     "metadata": {},
     "output_type": "execute_result"
    }
   ],
   "source": [
    "client.create_run_from_pipeline_func(\n",
    "    pipeline_func = add_pipeline, \n",
    "    experiment_name = EXPERIMENT_NAME,\n",
    "    namespace = NAMESPACE,\n",
    "    enable_caching=ENABLE_CACHING,\n",
    "    # mode=kfp.dsl.PipelineExecutionMode.V2_COMPATIBLE,\n",
    "    arguments={\n",
    "        'a': 7.0,\n",
    "        'b': 8.0\n",
    "    })"
   ]
  },
  {
   "cell_type": "code",
   "execution_count": null,
   "id": "ca920a1e-af15-4019-9400-ffe9a5663f01",
   "metadata": {},
   "outputs": [],
   "source": []
  }
 ],
 "metadata": {
  "kernelspec": {
   "display_name": "Python 3 (ipykernel)",
   "language": "python",
   "name": "python3"
  },
  "language_info": {
   "codemirror_mode": {
    "name": "ipython",
    "version": 3
   },
   "file_extension": ".py",
   "mimetype": "text/x-python",
   "name": "python",
   "nbconvert_exporter": "python",
   "pygments_lexer": "ipython3",
   "version": "3.11.6"
  }
 },
 "nbformat": 4,
 "nbformat_minor": 5
}
