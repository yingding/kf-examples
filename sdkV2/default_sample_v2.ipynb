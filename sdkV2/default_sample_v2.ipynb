{
 "cells": [
  {
   "cell_type": "code",
   "execution_count": 1,
   "id": "08cbab0f-7f23-4e99-a0d0-e40d7240af53",
   "metadata": {
    "tags": []
   },
   "outputs": [
    {
     "name": "stdout",
     "output_type": "stream",
     "text": [
      "kubeflow-kindfor\n"
     ]
    },
    {
     "name": "stderr",
     "output_type": "stream",
     "text": [
      "/opt/conda/lib/python3.11/site-packages/kfp/client/client.py:159: FutureWarning: This client only works with Kubeflow Pipeline v2.0.0-beta.2 and later versions.\n",
      "  warnings.warn(\n"
     ]
    },
    {
     "data": {
      "text/html": [
       "<a href=\"/pipeline/#/experiments/details/557b0023-3f89-4df6-bf8e-5091a646aa89\" target=\"_blank\" >Experiment details</a>."
      ],
      "text/plain": [
       "<IPython.core.display.HTML object>"
      ]
     },
     "metadata": {},
     "output_type": "display_data"
    },
    {
     "data": {
      "text/html": [
       "<a href=\"/pipeline/#/runs/details/f224d5c2-6156-4490-822d-dd127c9dfad4\" target=\"_blank\" >Run details</a>."
      ],
      "text/plain": [
       "<IPython.core.display.HTML object>"
      ]
     },
     "metadata": {},
     "output_type": "display_data"
    },
    {
     "data": {
      "text/plain": [
       "RunPipelineResult(run_id=f224d5c2-6156-4490-822d-dd127c9dfad4)"
      ]
     },
     "execution_count": 1,
     "metadata": {},
     "output_type": "execute_result"
    }
   ],
   "source": [
    "from kfp.client import Client\n",
    "from kfp import dsl\n",
    "import kfp\n",
    "\n",
    "\n",
    "@dsl.component(base_image='python:3.10.13-bullseye')\n",
    "def add(a: float, b: float) -> float:\n",
    "    '''Calculates sum of two arguments'''\n",
    "    return a + b\n",
    "\n",
    "\n",
    "@dsl.pipeline(\n",
    "    name='Addition pipeline',\n",
    "    description='An example pipeline that performs addition calculations.')\n",
    "def add_pipeline(\n",
    "    a: float = 1.0,\n",
    "    b: float = 7.0,\n",
    "):\n",
    "    first_add_task = add(a=a, b=4.0)\n",
    "    second_add_task = add(a=first_add_task.output, b=b)\n",
    "\n",
    "    \n",
    "client = Client()\n",
    "NAMESPACE = client.get_user_namespace()\n",
    "EXPERIMENT_NAME = \"demo\"\n",
    "ENABLE_CACHING = False\n",
    "print(NAMESPACE)\n",
    "\n",
    "client.create_run_from_pipeline_func(\n",
    "    pipeline_func = add_pipeline, \n",
    "    experiment_name = EXPERIMENT_NAME,\n",
    "    namespace = NAMESPACE,\n",
    "    enable_caching=ENABLE_CACHING,\n",
    "    arguments={\n",
    "        'a': 7.0,\n",
    "        'b': 8.0\n",
    "    })"
   ]
  },
  {
   "cell_type": "code",
   "execution_count": null,
   "id": "ca920a1e-af15-4019-9400-ffe9a5663f01",
   "metadata": {},
   "outputs": [],
   "source": []
  }
 ],
 "metadata": {
  "kernelspec": {
   "display_name": "Python 3 (ipykernel)",
   "language": "python",
   "name": "python3"
  },
  "language_info": {
   "codemirror_mode": {
    "name": "ipython",
    "version": 3
   },
   "file_extension": ".py",
   "mimetype": "text/x-python",
   "name": "python",
   "nbconvert_exporter": "python",
   "pygments_lexer": "ipython3",
   "version": "3.11.6"
  }
 },
 "nbformat": 4,
 "nbformat_minor": 5
}
