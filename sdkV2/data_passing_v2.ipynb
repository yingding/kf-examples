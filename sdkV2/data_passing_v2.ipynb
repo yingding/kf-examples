{
 "cells": [
  {
   "cell_type": "markdown",
   "id": "a7ef252f-b32b-4aa1-81d7-788702f8359a",
   "metadata": {},
   "source": [
    "# Introduction\n",
    "Author: Yingding Wang\\\n",
    "Created on: 05.01.2024\n",
    "\n",
    "This notebook file demonstrate the simple Kubeflow V2 pipeline on Kubeflow 1.8.0 manifests deployment with ml pipeline api server 2.0.5. \n",
    "\n",
    "## KFP v2 docs\n",
    "* KFP v1 to v2 migration https://www.kubeflow.org/docs/components/pipelines/v2/migration/\n",
    "* Hello world v2 https://www.kubeflow.org/docs/components/pipelines/v2/hello-world/"
   ]
  },
  {
   "cell_type": "code",
   "execution_count": 1,
   "id": "6b7a807f-8c2f-4c32-b784-7f27ee4bca80",
   "metadata": {},
   "outputs": [
    {
     "name": "stdout",
     "output_type": "stream",
     "text": [
      "current platform python version: 3.11.6\n"
     ]
    }
   ],
   "source": [
    "import sys\n",
    "from platform import python_version\n",
    "print (f\"current platform python version: {python_version()}\")"
   ]
  },
  {
   "cell_type": "code",
   "execution_count": 2,
   "id": "bc278c70-4168-4175-8b5e-5a57089e91f6",
   "metadata": {},
   "outputs": [],
   "source": [
    "#!{sys.executable} -m pip install --upgrade --user kfp==2.5.0 kfp-kubernetes==1.0.0 kfp-server-api==2.0.5"
   ]
  },
  {
   "cell_type": "code",
   "execution_count": 3,
   "id": "f93c14f9-e2c7-4998-abf8-96a6ce4cffab",
   "metadata": {},
   "outputs": [
    {
     "name": "stdout",
     "output_type": "stream",
     "text": [
      "kfp                           2.4.0\n",
      "kfp-kubernetes                1.0.0\n",
      "kfp-pipeline-spec             0.2.2\n",
      "kfp-server-api                2.0.5\n"
     ]
    }
   ],
   "source": [
    "!{sys.executable} -m pip list | grep kfp"
   ]
  },
  {
   "cell_type": "code",
   "execution_count": 4,
   "id": "6a10cdb4-84c6-4e03-b766-788729acd8a1",
   "metadata": {},
   "outputs": [],
   "source": [
    "from kfp.dsl.pipeline_task import PipelineTask\n",
    "\n",
    "def set_res_limit(task: PipelineTask, mem_req=\"200Mi\", cpu_req=\"2000m\", mem_lim=\"4000Mi\", cpu_lim='4000m') -> PipelineTask:\n",
    "    \"\"\"set the resource limit for cpu and memory, no cpu and memory requirement sofar.\n",
    "    should the limit is set to small, the Task Pod would be stopped by kubernetes with OOMKilled status.\n",
    "    \n",
    "    Args:\n",
    "        task(PipelineTask): the KFP PipelineTask which need to be set the cpu and memory limits\n",
    "        cpu_limit(str): the str representation of cpu limit e.g. '1' as one cpu time, '0.5' as 1/2 cpu time\n",
    "        mem_limit(str): the str representation of memory limit e.g. '500M' for 500MB RAM\n",
    "        \n",
    "    Return:\n",
    "        (PipelineTask): the PipelineTask with the desired limitations set\n",
    "    \"\"\"\n",
    "    # return task.set_cpu_limit('1').set_memory_limit('500M')\n",
    "    return task.set_cpu_request(cpu_req)\\\n",
    "            .set_cpu_limit(cpu_lim)\\\n",
    "            .set_memory_request(mem_req)\\\n",
    "            .set_memory_limit(mem_lim)"
   ]
  },
  {
   "cell_type": "markdown",
   "id": "d6e7a3f6-6a00-48bb-86ba-d74e111ebc68",
   "metadata": {},
   "source": [
    "### Simple pipeline\n",
    "* hello world v2 https://www.kubeflow.org/docs/components/pipelines/v2/hello-world/"
   ]
  },
  {
   "cell_type": "code",
   "execution_count": 5,
   "id": "0d81a2ad-e1a8-4e32-87d8-bbbae457f167",
   "metadata": {},
   "outputs": [],
   "source": [
    "from dataclasses import dataclass\n",
    "\n",
    "@dataclass\n",
    "class Settings():\n",
    "    # base_image='python:3.10.13-bullseye' \n",
    "    base_image='python:3.11.7-bullseye'\n",
    "\n",
    "settings = Settings()\n",
    "\n",
    "def gen_compiled_file_path(file_name: str, pipeline_path_dir=\"./compiled\") -> str:\n",
    "    \"\"\"\n",
    "    In KFP SDK v2, YAML is the preferred serialization format. Json will also work\n",
    "    Reference:\n",
    "    https://www.kubeflow.org/docs/components/pipelines/v2/migration/#sdk-v1-v2-namespace-to-sdk-v2\n",
    "    \"\"\"\n",
    "    return f\"{pipeline_path_dir}/{file_name}.yaml\""
   ]
  },
  {
   "cell_type": "markdown",
   "id": "2fb35924-6182-4ff0-b9b8-7852e32f02fc",
   "metadata": {},
   "source": [
    "## Pass Artifacts and Parameters\n",
    "* Parameters (Data Type with small amount of data): https://www.kubeflow.org/docs/components/pipelines/v2/data-types/parameters/\n",
    "* Artifacts (Data Types for tracking ML artifacts): https://www.kubeflow.org/docs/components/pipelines/v2/data-types/artifacts/\n",
    "\n",
    "Python object type, dict, array possible: https://www.kubeflow.org/docs/components/pipelines/v2/data-types/parameters/\n",
    "\n",
    "Multiple output parameters with NamedTuple\n",
    "```python\n",
    "from kfp import dsl\n",
    "from typing import NamedTuple\n",
    "\n",
    "@dsl.component\n",
    "def my_comp() -> NamedTuple('outputs', a=int, b=str):\n",
    "    outputs = NamedTuple('outputs', a=int, b=str)\n",
    "    return outputs(1, 'hello')\n",
    "```"
   ]
  },
  {
   "cell_type": "code",
   "execution_count": 6,
   "id": "dbb07cb2-1ecf-4c0a-bb04-44c9dd4109bf",
   "metadata": {},
   "outputs": [],
   "source": [
    "from kfp import dsl\n",
    "\n",
    "@dsl.component(\n",
    "    base_image=settings.base_image,\n",
    ")\n",
    "def say_hello(name: str) -> str:\n",
    "    hello_text = f\"Hello, {name}!\"\n",
    "    print(hello_text)\n",
    "    return hello_text\n",
    "\n",
    "@dsl.pipeline(\n",
    "    name='Helloworld pipeline',\n",
    "    description='An example kfp v2 simple pipeline'\n",
    ")\n",
    "def hello_pipeline(recipient: str) -> str:\n",
    "    # key word argument required, name=...\n",
    "    hello_task = say_hello(name=recipient)\n",
    "    # set resource limit for the task pod 200Mi, 1CPU\n",
    "    hello_task = set_res_limit(task=hello_task, mem_req=\"200Mi\", cpu_req=\"1000m\", mem_lim=\"500Mi\", cpu_lim='1000m')\n",
    "    return hello_task.output\n",
    "\n",
    "my_pipeline = hello_pipeline"
   ]
  },
  {
   "cell_type": "code",
   "execution_count": 7,
   "id": "fff6e678-7e1f-4b5d-981b-08d8fb7cfab0",
   "metadata": {},
   "outputs": [],
   "source": [
    "from kfp import compiler\n",
    "import os\n",
    "\n",
    "component_file_name = \"hello_component\"\n",
    "component_file_path = gen_compiled_file_path(component_file_name)\n",
    "\n",
    "my_pipeline_file_name = \"hello_pipeline_v2\"\n",
    "pipeline_package_path = gen_compiled_file_path(my_pipeline_file_name)\n",
    "\n",
    "pipeline_path_dir=\"./compiled\"\n",
    "if not os.path.exists(pipeline_path_dir):\n",
    "    os.makedirs(pipeline_path_dir)\n",
    "\n",
    "# compile component, instead of using output_component_file in the @dsl.component decorator\n",
    "compiler.Compiler().compile(\n",
    "    pipeline_func=say_hello,\n",
    "    package_path=component_file_path\n",
    ")\n",
    "\n",
    "compiler.Compiler().compile(\n",
    "    pipeline_func=my_pipeline,\n",
    "    package_path=pipeline_package_path\n",
    ")"
   ]
  },
  {
   "cell_type": "code",
   "execution_count": 8,
   "id": "d19bc545-e0e8-41b9-8b0e-fd870af81349",
   "metadata": {},
   "outputs": [
    {
     "name": "stdout",
     "output_type": "stream",
     "text": [
      "kubeflow-kindfor\n"
     ]
    }
   ],
   "source": [
    "from kfp.client import Client\n",
    "import warnings\n",
    "\n",
    "'''suppress kfp v2 client FutureWarning\n",
    "https://stackoverflow.com/questions/14463277/how-to-disable-python-warnings/14463362#14463362\n",
    "'''\n",
    "with warnings.catch_warnings(action=\"ignore\", category=FutureWarning):\n",
    "    # kubeflow pipeline poddefault is passing the credential to the client\n",
    "    client = Client()\n",
    "\n",
    "NAMESPACE = client.get_user_namespace()\n",
    "EXPERIMENT_NAME = \"demo\"\n",
    "print(NAMESPACE)\n",
    "\n",
    "args = {\n",
    "    'recipient': 'World',\n",
    "}\n",
    "ENABLE_CACHING = True"
   ]
  },
  {
   "cell_type": "markdown",
   "id": "90a54a95-68a0-441f-9907-8b1dcb9a4b1e",
   "metadata": {},
   "source": [
    "### Run from pipeline function"
   ]
  },
  {
   "cell_type": "code",
   "execution_count": 9,
   "id": "c2265bdf-1d92-47bc-b7f4-6f4afa462af3",
   "metadata": {},
   "outputs": [
    {
     "data": {
      "text/html": [
       "<a href=\"/pipeline/#/experiments/details/20ad43d6-4e20-494c-9a81-52869a440fd3\" target=\"_blank\" >Experiment details</a>."
      ],
      "text/plain": [
       "<IPython.core.display.HTML object>"
      ]
     },
     "metadata": {},
     "output_type": "display_data"
    },
    {
     "data": {
      "text/html": [
       "<a href=\"/pipeline/#/runs/details/1bb4c34a-fd68-41bd-9ece-025576f7b171\" target=\"_blank\" >Run details</a>."
      ],
      "text/plain": [
       "<IPython.core.display.HTML object>"
      ]
     },
     "metadata": {},
     "output_type": "display_data"
    },
    {
     "data": {
      "text/plain": [
       "RunPipelineResult(run_id=1bb4c34a-fd68-41bd-9ece-025576f7b171)"
      ]
     },
     "execution_count": 9,
     "metadata": {},
     "output_type": "execute_result"
    }
   ],
   "source": [
    "run = client.create_run_from_pipeline_func(\n",
    "    pipeline_func = my_pipeline, \n",
    "    experiment_name = EXPERIMENT_NAME,\n",
    "    namespace = NAMESPACE,\n",
    "    enable_caching=ENABLE_CACHING,\n",
    "    arguments=args,\n",
    ")\n",
    "run"
   ]
  },
  {
   "cell_type": "markdown",
   "id": "1b8e0d4b-f624-4134-b0dd-42356a9ecaf1",
   "metadata": {},
   "source": [
    "### Upload pipeline"
   ]
  },
  {
   "cell_type": "code",
   "execution_count": 10,
   "id": "cc1d3773-9038-4c36-9cc6-15b7a2d1b5dc",
   "metadata": {},
   "outputs": [
    {
     "name": "stdout",
     "output_type": "stream",
     "text": [
      "pipeline: helloworld-pipeline exists in namespace: kubeflow-kindfor\n",
      "has id: 5ad9f545-de4e-4b69-83ec-b885d88d17bc\n"
     ]
    }
   ],
   "source": [
    "PIPELINE_NAME = \"helloworld-pipeline\"\n",
    "\n",
    "import json\n",
    "\n",
    "# without given namespace all the shared pipeline will be shown\n",
    "# filter the pipeline list in namespace with json filter\n",
    "# by given namespace, search only the private pipeline, no namespace the shared pipeline\n",
    "result_dict = client.list_pipelines(\n",
    "    filter=json.dumps({\n",
    "                        \"predicates\": [{\n",
    "                            \"operation\": \"EQUALS\",\n",
    "                            \"key\": \"display_name\",\n",
    "                            \"stringValue\": PIPELINE_NAME,\n",
    "                        }]\n",
    "                    }),\n",
    "    namespace=NAMESPACE)\n",
    "pipelines = result_dict.pipelines\n",
    "\n",
    "if pipelines is None or len(pipelines) < 1:\n",
    "    # create pipeline only if there is none in the namespace\n",
    "    pipeline = client.upload_pipeline(\n",
    "        pipeline_package_path=pipeline_package_path,\n",
    "        pipeline_name=PIPELINE_NAME,\n",
    "        namespace=NAMESPACE\n",
    "    )\n",
    "else:\n",
    "    # get the first kfp_server_api.V2beta1Pipeline\n",
    "    pipeline_id = pipelines[0].pipeline_id\n",
    "    print(f\"pipeline: {PIPELINE_NAME} exists in namespace: {NAMESPACE}\\nhas id: {pipeline_id}\")"
   ]
  },
  {
   "cell_type": "markdown",
   "id": "681cf22f-415d-4fdf-93df-99529736131b",
   "metadata": {},
   "source": [
    "### Upload pipeline version"
   ]
  },
  {
   "cell_type": "code",
   "execution_count": 11,
   "id": "dc4cf6ad-acbd-44a5-bebf-e2ef3d794bdf",
   "metadata": {},
   "outputs": [
    {
     "name": "stdout",
     "output_type": "stream",
     "text": [
      "pipeline version: helloworld-pipeline-v2 exists in namespace: kubeflow-kindfor\n"
     ]
    }
   ],
   "source": [
    "VERSION_NAME=\"v2\"\n",
    "NEW_PIPELINE_VERSION_NAME=f\"{PIPELINE_NAME}-{VERSION_NAME}\"\n",
    "\n",
    "if pipeline_id is not None:\n",
    "    # get the pipeline version \n",
    "    pipeline_versions = client.list_pipeline_versions(\n",
    "    pipeline_id=pipeline_id,\n",
    "    filter=json.dumps({\n",
    "                        \"predicates\": [{\n",
    "                            \"operation\": \"EQUALS\",\n",
    "                            \"key\": \"display_name\",\n",
    "                            \"stringValue\": NEW_PIPELINE_VERSION_NAME,\n",
    "                        }]\n",
    "                    }),\n",
    "    ).pipeline_versions\n",
    "    # upload a new version if not exists\n",
    "    if pipeline_versions is None or len(pipeline_versions) < 1:\n",
    "        pipeline_version = client.upload_pipeline_version(\n",
    "            pipeline_package_path=pipeline_package_path,\n",
    "            pipeline_version_name=NEW_PIPELINE_VERSION_NAME,\n",
    "            pipeline_id=pipeline_id,\n",
    "        )\n",
    "    else:\n",
    "        # get the first kfp_server_api.models.v2beta1_pipeline_version.V2beta1PipelineVersion\n",
    "        pipeline_version = pipeline_versions[0]\n",
    "        print(f\"pipeline version: {pipeline_version.display_name} exists in namespace: {NAMESPACE}\")    "
   ]
  },
  {
   "cell_type": "markdown",
   "id": "9d4100ae-eb69-4028-b7eb-f9b421e56070",
   "metadata": {},
   "source": [
    "### (optional) KFP cli for upload pipeline\n",
    "\n",
    "The cli has no namespace option, for private pipeline in namespace use KFP client sdk instead\n",
    "\n",
    "* https://www.kubeflow.org/docs/components/pipelines/v2/cli/"
   ]
  },
  {
   "cell_type": "code",
   "execution_count": 12,
   "id": "f1d14eb9-e504-47b0-939f-e107865d5c8e",
   "metadata": {},
   "outputs": [],
   "source": [
    "# create pipeline\n",
    "# !kfp pipeline create -p helloworld-pipeline -d v1 $HOME/kf-examples/sdkV2/compiled/hello_pipeline_v2.yaml"
   ]
  },
  {
   "cell_type": "code",
   "execution_count": 13,
   "id": "97ea3319-7e37-4e33-baef-551dcb9424d2",
   "metadata": {},
   "outputs": [],
   "source": [
    "# list pipeline ids\n",
    "# !kfp pipeline list"
   ]
  },
  {
   "cell_type": "code",
   "execution_count": 14,
   "id": "0fc8eb11-3154-475e-9f7d-88cdcf67f9e6",
   "metadata": {},
   "outputs": [],
   "source": [
    "# show pipeline version with ids\n",
    "# !kfp pipeline list-versions 3f528a1d-9368-4f25-ae90-04f9490836d2"
   ]
  },
  {
   "cell_type": "code",
   "execution_count": 15,
   "id": "e128e834-c50c-49a2-a9e3-aea707a1f831",
   "metadata": {},
   "outputs": [],
   "source": [
    "# create a new version of the pipeline by id or name\n",
    "# !kfp pipeline create-version -p 3f528a1d-9368-4f25-ae90-04f9490836d2 -v helloworld-pipeline-v2 $HOME/kf-examples/sdkV2/compiled/hello_pipeline_v2.yaml"
   ]
  },
  {
   "cell_type": "code",
   "execution_count": 16,
   "id": "2ee7d781-4166-4bb7-87f7-7c051f839ad7",
   "metadata": {},
   "outputs": [],
   "source": [
    "# show pipeline version with ids\n",
    "# !kfp pipeline list-versions 3f528a1d-9368-4f25-ae90-04f9490836d2"
   ]
  },
  {
   "cell_type": "markdown",
   "id": "28d40d2b-ac7a-4e73-b445-e75a0214ef23",
   "metadata": {},
   "source": [
    "### (optional) Run from pipeline package using SDK"
   ]
  },
  {
   "cell_type": "code",
   "execution_count": 17,
   "id": "b1b16a6e-0789-4224-a730-bbfde498fd8e",
   "metadata": {},
   "outputs": [],
   "source": [
    "# run = client.create_run_from_pipeline_package(\n",
    "#     pipeline_file=pipeline_package_path,\n",
    "#     experiment_name = EXPERIMENT_NAME,\n",
    "#     namespace = NAMESPACE,\n",
    "#     enable_caching=ENABLE_CACHING,\n",
    "#     arguments=args,\n",
    "# )\n",
    "# run"
   ]
  },
  {
   "cell_type": "code",
   "execution_count": null,
   "id": "6c3ca884-2a2b-4603-ad9f-be5ca3ecb838",
   "metadata": {},
   "outputs": [],
   "source": []
  }
 ],
 "metadata": {
  "kernelspec": {
   "display_name": "Python 3 (ipykernel)",
   "language": "python",
   "name": "python3"
  },
  "language_info": {
   "codemirror_mode": {
    "name": "ipython",
    "version": 3
   },
   "file_extension": ".py",
   "mimetype": "text/x-python",
   "name": "python",
   "nbconvert_exporter": "python",
   "pygments_lexer": "ipython3",
   "version": "3.11.6"
  }
 },
 "nbformat": 4,
 "nbformat_minor": 5
}
