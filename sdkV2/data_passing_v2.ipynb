{
 "cells": [
  {
   "cell_type": "code",
   "execution_count": 2,
   "id": "6b7a807f-8c2f-4c32-b784-7f27ee4bca80",
   "metadata": {},
   "outputs": [
    {
     "name": "stdout",
     "output_type": "stream",
     "text": [
      "current platform python version: 3.11.6\n"
     ]
    }
   ],
   "source": [
    "import sys\n",
    "from platform import python_version\n",
    "print (f\"current platform python version: {python_version()}\")"
   ]
  },
  {
   "cell_type": "code",
   "execution_count": 3,
   "id": "bc278c70-4168-4175-8b5e-5a57089e91f6",
   "metadata": {},
   "outputs": [],
   "source": [
    "#!{sys.executable} -m pip install --upgrade --user kfp==2.4.0 kfp-kubernetes==1.0.0 kfp-server-api==2.0.5"
   ]
  },
  {
   "cell_type": "code",
   "execution_count": 4,
   "id": "f93c14f9-e2c7-4998-abf8-96a6ce4cffab",
   "metadata": {},
   "outputs": [
    {
     "name": "stdout",
     "output_type": "stream",
     "text": [
      "kfp                           2.4.0\n",
      "kfp-kubernetes                1.0.0\n",
      "kfp-pipeline-spec             0.2.2\n",
      "kfp-server-api                2.0.5\n"
     ]
    }
   ],
   "source": [
    "!{sys.executable} -m pip list | grep kfp"
   ]
  },
  {
   "cell_type": "code",
   "execution_count": 5,
   "id": "6a10cdb4-84c6-4e03-b766-788729acd8a1",
   "metadata": {},
   "outputs": [],
   "source": [
    "from kfp.dsl.pipeline_task import PipelineTask\n",
    "\n",
    "def set_res_limit(task: PipelineTask, mem_req=\"200Mi\", cpu_req=\"2000m\", mem_lim=\"4000Mi\", cpu_lim='4000m') -> PipelineTask:\n",
    "    \"\"\"set the resource limit for cpu and memory, no cpu and memory requirement sofar.\n",
    "    should the limit is set to small, the Task Pod would be stopped by kubernetes with OOMKilled status.\n",
    "    \n",
    "    Args:\n",
    "        task(PipelineTask): the KFP PipelineTask which need to be set the cpu and memory limits\n",
    "        cpu_limit(str): the str representation of cpu limit e.g. '1' as one cpu time, '0.5' as 1/2 cpu time\n",
    "        mem_limit(str): the str representation of memory limit e.g. '500M' for 500MB RAM\n",
    "        \n",
    "    Return:\n",
    "        (PipelineTask): the PipelineTask with the desired limitations set\n",
    "    \"\"\"\n",
    "    # return task.set_cpu_limit('1').set_memory_limit('500M')\n",
    "    return task.set_cpu_request(cpu_req)\\\n",
    "            .set_cpu_limit(cpu_lim)\\\n",
    "            .set_memory_request(mem_req)\\\n",
    "            .set_memory_limit(mem_lim)"
   ]
  },
  {
   "cell_type": "markdown",
   "id": "d6e7a3f6-6a00-48bb-86ba-d74e111ebc68",
   "metadata": {},
   "source": [
    "### Simple pipeline\n",
    "* hello world v2 https://www.kubeflow.org/docs/components/pipelines/v2/hello-world/"
   ]
  },
  {
   "cell_type": "code",
   "execution_count": 10,
   "id": "0d81a2ad-e1a8-4e32-87d8-bbbae457f167",
   "metadata": {},
   "outputs": [],
   "source": [
    "from dataclasses import dataclass\n",
    "\n",
    "@dataclass\n",
    "class Settings():\n",
    "    # base_image='python:3.10.13-bullseye' \n",
    "    base_image='python:3.11.7-bullseye'\n",
    "\n",
    "settings = Settings()"
   ]
  },
  {
   "cell_type": "code",
   "execution_count": 20,
   "id": "dbb07cb2-1ecf-4c0a-bb04-44c9dd4109bf",
   "metadata": {},
   "outputs": [],
   "source": [
    "from kfp import dsl\n",
    "\n",
    "@dsl.component(\n",
    "    base_image=settings.base_image,\n",
    ")\n",
    "def say_hello(name: str) -> str:\n",
    "    hello_text = f\"Hello, {name}!\"\n",
    "    print(hello_text)\n",
    "    return hello_text\n",
    "\n",
    "@dsl.pipeline(\n",
    "    name='Helloworld pipeline',\n",
    "    description='An example kfp v2 simple pipeline'\n",
    ")\n",
    "def hello_pipeline(recipient: str) -> str:\n",
    "    hello_task = say_hello(name=recipient)\n",
    "    # set resource limit for the task pod 200Mi, 1CPU\n",
    "    hello_task = set_res_limit(task=hello_task, mem_req=\"200Mi\", cpu_req=\"1000m\", mem_lim=\"500Mi\", cpu_lim='1000m')\n",
    "    return hello_task.output\n",
    "\n",
    "my_pipeline = hello_pipeline"
   ]
  },
  {
   "cell_type": "code",
   "execution_count": 21,
   "id": "fff6e678-7e1f-4b5d-981b-08d8fb7cfab0",
   "metadata": {},
   "outputs": [],
   "source": [
    "from kfp import compiler\n",
    "import os\n",
    "\n",
    "my_pipeline_file_name = \"hello_pipeline_v2\"\n",
    "pipeline_path_dir = \"./compiled\"\n",
    "\n",
    "if not os.path.exists(pipeline_path_dir):\n",
    "    os.makedirs(pipeline_path_dir)\n",
    "\n",
    "compiler.Compiler().compile(\n",
    "    pipeline_func=my_pipeline,\n",
    "    package_path=f\"{pipeline_path_dir}/{my_pipeline_file_name}.yaml\"\n",
    ")"
   ]
  },
  {
   "cell_type": "code",
   "execution_count": 9,
   "id": "d19bc545-e0e8-41b9-8b0e-fd870af81349",
   "metadata": {},
   "outputs": [
    {
     "name": "stdout",
     "output_type": "stream",
     "text": [
      "kubeflow-kindfor\n"
     ]
    }
   ],
   "source": [
    "from kfp.client import Client\n",
    "import warnings\n",
    "\n",
    "'''suppress kfp v2 client FutureWarning\n",
    "https://stackoverflow.com/questions/14463277/how-to-disable-python-warnings/14463362#14463362\n",
    "'''\n",
    "with warnings.catch_warnings(action=\"ignore\", category=FutureWarning):\n",
    "    # kubeflow pipeline poddefault is passing the credential to the client\n",
    "    client = Client()\n",
    "\n",
    "NAMESPACE = client.get_user_namespace()\n",
    "EXPERIMENT_NAME = \"demo\"\n",
    "print(NAMESPACE)"
   ]
  },
  {
   "cell_type": "code",
   "execution_count": null,
   "id": "b1b16a6e-0789-4224-a730-bbfde498fd8e",
   "metadata": {},
   "outputs": [],
   "source": []
  }
 ],
 "metadata": {
  "kernelspec": {
   "display_name": "Python 3 (ipykernel)",
   "language": "python",
   "name": "python3"
  },
  "language_info": {
   "codemirror_mode": {
    "name": "ipython",
    "version": 3
   },
   "file_extension": ".py",
   "mimetype": "text/x-python",
   "name": "python",
   "nbconvert_exporter": "python",
   "pygments_lexer": "ipython3",
   "version": "3.11.6"
  }
 },
 "nbformat": 4,
 "nbformat_minor": 5
}
