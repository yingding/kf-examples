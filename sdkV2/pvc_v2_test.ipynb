{
 "cells": [
  {
   "cell_type": "markdown",
   "id": "c953f0ce-e3c0-4301-b0b4-aea13ef67f61",
   "metadata": {},
   "source": [
    "## Introduction\n",
    "\n",
    "Author: Yingding Wang\\\n",
    "Created on: 17.11.2023\n",
    "\n",
    "Example KFP v2 pipeline to use PVC https://pypi.org/project/kfp-kubernetes/"
   ]
  },
  {
   "cell_type": "code",
   "execution_count": 1,
   "id": "30b4a7c1-0ee1-407d-93c9-3e349094df88",
   "metadata": {},
   "outputs": [],
   "source": [
    "import sys"
   ]
  },
  {
   "cell_type": "code",
   "execution_count": 2,
   "id": "31c00c7a-68a7-4c75-b4ec-1a12916ee736",
   "metadata": {},
   "outputs": [],
   "source": [
    "#!{sys.executable} -m pip install kfp==2.4.0 kfp-kubernetes==1.0.0 kfp-server-api==2.0.5 --upgrade --user"
   ]
  },
  {
   "cell_type": "code",
   "execution_count": 3,
   "id": "021dbdaa-3f7d-4a1d-adba-7b4fabd9a696",
   "metadata": {},
   "outputs": [
    {
     "name": "stdout",
     "output_type": "stream",
     "text": [
      "kfp                           2.4.0\n",
      "kfp-kubernetes                1.0.0\n",
      "kfp-pipeline-spec             0.2.2\n",
      "kfp-server-api                2.0.5\n"
     ]
    }
   ],
   "source": [
    "!{sys.executable} -m pip list | grep kfp"
   ]
  },
  {
   "cell_type": "code",
   "execution_count": 4,
   "id": "9417675c-afb2-4580-99d3-c1791fd1376e",
   "metadata": {},
   "outputs": [],
   "source": [
    "#!{sys.executable} -m pip install --user --upgrade kfp==2.4.0 \n",
    "#!{sys.executable} -m pip install --user --upgrade kfp-kubernetes==1.0.0"
   ]
  },
  {
   "cell_type": "code",
   "execution_count": 5,
   "id": "8f70b389-cb19-4ba8-a56c-47dd8f23b360",
   "metadata": {},
   "outputs": [],
   "source": [
    "#!{sys.executable} -m pip install --user --upgrade kfp[kubernetes]==2.4.0"
   ]
  },
  {
   "cell_type": "code",
   "execution_count": 6,
   "id": "ff83219a-b846-4078-a45b-d5c699d80432",
   "metadata": {},
   "outputs": [],
   "source": [
    "from kfp.dsl.pipeline_task import PipelineTask\n",
    "\n",
    "def set_res_limit(task: PipelineTask, mem_req=\"200Mi\", cpu_req=\"2000m\", mem_lim=\"4000Mi\", cpu_lim='4000m') -> PipelineTask:\n",
    "    \"\"\"set the resource limit for cpu and memory, no cpu and memory requirement sofar.\n",
    "    should the limit is set to small, the Task Pod would be stopped by kubernetes with OOMKilled status.\n",
    "    \n",
    "    Args:\n",
    "        task(PipelineTask): the KFP PipelineTask which need to be set the cpu and memory limits\n",
    "        cpu_limit(str): the str representation of cpu limit e.g. '1' as one cpu time, '0.5' as 1/2 cpu time\n",
    "        mem_limit(str): the str representation of memory limit e.g. '500M' for 500MB RAM\n",
    "        \n",
    "    Return:\n",
    "        (PipelineTask): the PipelineTask with the desired limitations set\n",
    "    \"\"\"\n",
    "    # return task.set_cpu_limit('1').set_memory_limit('500M')\n",
    "    return task.set_cpu_request(cpu_req)\\\n",
    "            .set_cpu_limit(cpu_lim)\\\n",
    "            .set_memory_request(mem_req)\\\n",
    "            .set_memory_limit(mem_lim)"
   ]
  },
  {
   "cell_type": "code",
   "execution_count": 7,
   "id": "cbc08d98-c839-4904-a487-6d34aa875c52",
   "metadata": {},
   "outputs": [],
   "source": [
    "from kfp import dsl\n",
    "from kfp import kubernetes\n",
    "from kfp import compiler\n",
    "\n",
    "@dsl.component(\n",
    "base_image='python:3.10.13-bullseye'\n",
    ")\n",
    "def make_data():\n",
    "    with open('/data/file.txt', 'w') as f:\n",
    "        f.write('my data')\n",
    "\n",
    "@dsl.component(\n",
    "base_image='python:3.10.13-bullseye'\n",
    ")\n",
    "def read_data():\n",
    "    with open('/reused_data/file.txt') as f:\n",
    "        print(f.read())\n",
    "\n",
    "@dsl.pipeline\n",
    "def my_pipeline():\n",
    "    pvc1 = kubernetes.CreatePVC(\n",
    "        # can also use pvc_name instead of pvc_name_suffix to use a pre-existing PVC\n",
    "        pvc_name_suffix='-my-pvc',\n",
    "        access_modes=['ReadWriteOnce'],\n",
    "        size='1Gi',\n",
    "        storage_class_name='kubeflow-nfs-csi', # use the name of your available storage class      \n",
    "    )\n",
    "\n",
    "    task1 = make_data()\n",
    "    task1 = set_res_limit(task=task1, cpu_req='500m', mem_req='200M')\n",
    "    # normally task sequencing is handled by data exchange via component inputs/outputs\n",
    "    # but since data is exchanged via volume, we need to call .after explicitly to sequence tasks\n",
    "    task2 = read_data().after(task1)\n",
    "    task2 = set_res_limit(task=task2, cpu_req='500m', mem_req='200M')\n",
    "    \n",
    "    kubernetes.mount_pvc(\n",
    "         task1,\n",
    "         pvc_name=pvc1.outputs['name'],\n",
    "         mount_path='/data',\n",
    "    )\n",
    "    kubernetes.mount_pvc(\n",
    "         task2,\n",
    "         pvc_name=pvc1.outputs['name'],\n",
    "         mount_path='/reused_data',\n",
    "    )\n",
    "\n",
    "    # wait to delete the PVC until after task2 completes\n",
    "    delete_pvc1 = kubernetes.DeletePVC(\n",
    "        pvc_name=pvc1.outputs['name']).after(task2)"
   ]
  },
  {
   "cell_type": "code",
   "execution_count": 8,
   "id": "d8435a62-2585-4fb1-bb09-95d31b5603a3",
   "metadata": {},
   "outputs": [],
   "source": [
    "compiler.Compiler().compile(\n",
    "    pipeline_func=my_pipeline,\n",
    "    package_path=\"./pvc_pipeline.yaml\"\n",
    ")"
   ]
  },
  {
   "cell_type": "code",
   "execution_count": 9,
   "id": "4b148f9f-1034-4a5d-9b78-fc4603690dec",
   "metadata": {},
   "outputs": [
    {
     "name": "stdout",
     "output_type": "stream",
     "text": [
      "kubeflow-kindfor\n"
     ]
    },
    {
     "name": "stderr",
     "output_type": "stream",
     "text": [
      "/home/jovyan/.local/lib/python3.11/site-packages/kfp/client/client.py:159: FutureWarning: This client only works with Kubeflow Pipeline v2.0.0-beta.2 and later versions.\n",
      "  warnings.warn(\n"
     ]
    }
   ],
   "source": [
    "from kfp.client import Client\n",
    "client = Client()\n",
    "NAMESPACE = client.get_user_namespace()\n",
    "print(NAMESPACE)"
   ]
  },
  {
   "cell_type": "markdown",
   "id": "2bb93a8b-cd1a-4073-83bc-401d05777705",
   "metadata": {},
   "source": [
    "## Enable caching false is causing issue with PVC creationg\n",
    "* https://github.com/kubeflow/pipelines/issues/10188\n",
    "\n",
    "Note:\n",
    "* this error will crash the kfp backend\n",
    "\n",
    "You need to `kubectl -n kubeflow rollout restart deployment` to restart the container."
   ]
  },
  {
   "cell_type": "code",
   "execution_count": 10,
   "id": "cd997aff-680b-4610-80c0-8a02fce52584",
   "metadata": {},
   "outputs": [
    {
     "data": {
      "text/html": [
       "<a href=\"/pipeline/#/experiments/details/20ad43d6-4e20-494c-9a81-52869a440fd3\" target=\"_blank\" >Experiment details</a>."
      ],
      "text/plain": [
       "<IPython.core.display.HTML object>"
      ]
     },
     "metadata": {},
     "output_type": "display_data"
    },
    {
     "data": {
      "text/html": [
       "<a href=\"/pipeline/#/runs/details/9b33874b-d8d4-4a0c-b530-da88a79e4cf6\" target=\"_blank\" >Run details</a>."
      ],
      "text/plain": [
       "<IPython.core.display.HTML object>"
      ]
     },
     "metadata": {},
     "output_type": "display_data"
    },
    {
     "data": {
      "text/plain": [
       "RunPipelineResult(run_id=9b33874b-d8d4-4a0c-b530-da88a79e4cf6)"
      ]
     },
     "execution_count": 10,
     "metadata": {},
     "output_type": "execute_result"
    }
   ],
   "source": [
    "ENABLE_CACHING = True\n",
    "# ENABLE_CACHING = False\n",
    "EXPERIMENT_NAME = \"demo\"\n",
    "\n",
    "run = client.create_run_from_pipeline_func(\n",
    "    pipeline_func=my_pipeline,\n",
    "    arguments = {},\n",
    "    run_name=\"my pvc test\",\n",
    "    experiment_name = EXPERIMENT_NAME,\n",
    "    namespace=NAMESPACE,\n",
    "    enable_caching=ENABLE_CACHING,\n",
    ")\n",
    "run"
   ]
  },
  {
   "cell_type": "code",
   "execution_count": null,
   "id": "ba5bd282-f071-4f02-ba4b-6d03c5a8f29d",
   "metadata": {},
   "outputs": [],
   "source": []
  }
 ],
 "metadata": {
  "kernelspec": {
   "display_name": "Python 3 (ipykernel)",
   "language": "python",
   "name": "python3"
  },
  "language_info": {
   "codemirror_mode": {
    "name": "ipython",
    "version": 3
   },
   "file_extension": ".py",
   "mimetype": "text/x-python",
   "name": "python",
   "nbconvert_exporter": "python",
   "pygments_lexer": "ipython3",
   "version": "3.11.6"
  }
 },
 "nbformat": 4,
 "nbformat_minor": 5
}
