{
 "cells": [
  {
   "cell_type": "markdown",
   "id": "c953f0ce-e3c0-4301-b0b4-aea13ef67f61",
   "metadata": {},
   "source": [
    "## Introduction\n",
    "\n",
    "Author: Yingding Wang\\\n",
    "Created on: 17.11.2023\n",
    "\n",
    "Example KFP v2 pipeline to use PVC https://pypi.org/project/kfp-kubernetes/"
   ]
  },
  {
   "cell_type": "code",
   "execution_count": 1,
   "id": "30b4a7c1-0ee1-407d-93c9-3e349094df88",
   "metadata": {},
   "outputs": [],
   "source": [
    "import sys"
   ]
  },
  {
   "cell_type": "code",
   "execution_count": 2,
   "id": "31c00c7a-68a7-4c75-b4ec-1a12916ee736",
   "metadata": {},
   "outputs": [
    {
     "name": "stdout",
     "output_type": "stream",
     "text": [
      "Requirement already satisfied: kfp==2.6.0 in /home/jovyan/.local/lib/python3.11/site-packages (2.6.0)\n",
      "Requirement already satisfied: kfp-kubernetes==1.1.0 in /home/jovyan/.local/lib/python3.11/site-packages (1.1.0)\n",
      "Requirement already satisfied: kfp-pipeline-spec==0.3.0 in /home/jovyan/.local/lib/python3.11/site-packages (0.3.0)\n",
      "Requirement already satisfied: kfp-server-api==2.0.5 in /home/jovyan/.local/lib/python3.11/site-packages (2.0.5)\n",
      "Requirement already satisfied: click<9,>=8.0.0 in /opt/conda/lib/python3.11/site-packages (from kfp==2.6.0) (8.1.7)\n",
      "Requirement already satisfied: docstring-parser<1,>=0.7.3 in /opt/conda/lib/python3.11/site-packages (from kfp==2.6.0) (0.15)\n",
      "Requirement already satisfied: google-api-core!=2.0.*,!=2.1.*,!=2.2.*,!=2.3.0,<3.0.0dev,>=1.31.5 in /opt/conda/lib/python3.11/site-packages (from kfp==2.6.0) (2.12.0)\n",
      "Requirement already satisfied: google-auth<3,>=1.6.1 in /opt/conda/lib/python3.11/site-packages (from kfp==2.6.0) (2.23.4)\n",
      "Requirement already satisfied: google-cloud-storage<3,>=2.2.1 in /opt/conda/lib/python3.11/site-packages (from kfp==2.6.0) (2.13.0)\n",
      "Requirement already satisfied: kubernetes<27,>=8.0.0 in /home/jovyan/.local/lib/python3.11/site-packages (from kfp==2.6.0) (25.3.0)\n",
      "Requirement already satisfied: protobuf<5,>=4.21.1 in /home/jovyan/.local/lib/python3.11/site-packages (from kfp==2.6.0) (4.25.2)\n",
      "Requirement already satisfied: PyYAML<7,>=5.3 in /opt/conda/lib/python3.11/site-packages (from kfp==2.6.0) (6.0.1)\n",
      "Requirement already satisfied: requests-toolbelt<1,>=0.8.0 in /opt/conda/lib/python3.11/site-packages (from kfp==2.6.0) (0.10.1)\n",
      "Requirement already satisfied: tabulate<1,>=0.8.6 in /opt/conda/lib/python3.11/site-packages (from kfp==2.6.0) (0.9.0)\n",
      "Requirement already satisfied: urllib3<2.0.0 in /opt/conda/lib/python3.11/site-packages (from kfp==2.6.0) (1.26.18)\n",
      "Requirement already satisfied: six>=1.10 in /opt/conda/lib/python3.11/site-packages (from kfp-server-api==2.0.5) (1.16.0)\n",
      "Requirement already satisfied: certifi in /opt/conda/lib/python3.11/site-packages (from kfp-server-api==2.0.5) (2023.7.22)\n",
      "Requirement already satisfied: python-dateutil in /opt/conda/lib/python3.11/site-packages (from kfp-server-api==2.0.5) (2.8.2)\n",
      "Requirement already satisfied: googleapis-common-protos<2.0.dev0,>=1.56.2 in /opt/conda/lib/python3.11/site-packages (from google-api-core!=2.0.*,!=2.1.*,!=2.2.*,!=2.3.0,<3.0.0dev,>=1.31.5->kfp==2.6.0) (1.61.0)\n",
      "Requirement already satisfied: requests<3.0.0.dev0,>=2.18.0 in /opt/conda/lib/python3.11/site-packages (from google-api-core!=2.0.*,!=2.1.*,!=2.2.*,!=2.3.0,<3.0.0dev,>=1.31.5->kfp==2.6.0) (2.31.0)\n",
      "Requirement already satisfied: cachetools<6.0,>=2.0.0 in /opt/conda/lib/python3.11/site-packages (from google-auth<3,>=1.6.1->kfp==2.6.0) (5.3.2)\n",
      "Requirement already satisfied: pyasn1-modules>=0.2.1 in /opt/conda/lib/python3.11/site-packages (from google-auth<3,>=1.6.1->kfp==2.6.0) (0.3.0)\n",
      "Requirement already satisfied: rsa<5,>=3.1.4 in /opt/conda/lib/python3.11/site-packages (from google-auth<3,>=1.6.1->kfp==2.6.0) (4.9)\n",
      "Requirement already satisfied: google-cloud-core<3.0dev,>=2.3.0 in /opt/conda/lib/python3.11/site-packages (from google-cloud-storage<3,>=2.2.1->kfp==2.6.0) (2.3.3)\n",
      "Requirement already satisfied: google-resumable-media>=2.6.0 in /opt/conda/lib/python3.11/site-packages (from google-cloud-storage<3,>=2.2.1->kfp==2.6.0) (2.6.0)\n",
      "Requirement already satisfied: google-crc32c<2.0dev,>=1.0 in /opt/conda/lib/python3.11/site-packages (from google-cloud-storage<3,>=2.2.1->kfp==2.6.0) (1.5.0)\n",
      "Requirement already satisfied: setuptools>=21.0.0 in /opt/conda/lib/python3.11/site-packages (from kubernetes<27,>=8.0.0->kfp==2.6.0) (68.2.2)\n",
      "Requirement already satisfied: websocket-client!=0.40.0,!=0.41.*,!=0.42.*,>=0.32.0 in /opt/conda/lib/python3.11/site-packages (from kubernetes<27,>=8.0.0->kfp==2.6.0) (1.6.4)\n",
      "Requirement already satisfied: requests-oauthlib in /opt/conda/lib/python3.11/site-packages (from kubernetes<27,>=8.0.0->kfp==2.6.0) (1.3.1)\n",
      "Requirement already satisfied: pyasn1<0.6.0,>=0.4.6 in /opt/conda/lib/python3.11/site-packages (from pyasn1-modules>=0.2.1->google-auth<3,>=1.6.1->kfp==2.6.0) (0.5.0)\n",
      "Requirement already satisfied: charset-normalizer<4,>=2 in /opt/conda/lib/python3.11/site-packages (from requests<3.0.0.dev0,>=2.18.0->google-api-core!=2.0.*,!=2.1.*,!=2.2.*,!=2.3.0,<3.0.0dev,>=1.31.5->kfp==2.6.0) (3.3.1)\n",
      "Requirement already satisfied: idna<4,>=2.5 in /opt/conda/lib/python3.11/site-packages (from requests<3.0.0.dev0,>=2.18.0->google-api-core!=2.0.*,!=2.1.*,!=2.2.*,!=2.3.0,<3.0.0dev,>=1.31.5->kfp==2.6.0) (3.4)\n",
      "Requirement already satisfied: oauthlib>=3.0.0 in /opt/conda/lib/python3.11/site-packages (from requests-oauthlib->kubernetes<27,>=8.0.0->kfp==2.6.0) (3.2.2)\n"
     ]
    }
   ],
   "source": [
    "# !{sys.executable} -m pip install --upgrade --user kfp[kubernetes]==2.6.0\n",
    "# installs the following packages\n",
    "!{sys.executable} -m pip install --upgrade --user kfp==2.6.0 kfp-kubernetes==1.1.0 kfp-pipeline-spec==0.3.0 kfp-server-api==2.0.5"
   ]
  },
  {
   "cell_type": "code",
   "execution_count": 3,
   "id": "021dbdaa-3f7d-4a1d-adba-7b4fabd9a696",
   "metadata": {},
   "outputs": [
    {
     "name": "stdout",
     "output_type": "stream",
     "text": [
      "kfp                           2.6.0\n",
      "kfp-kubernetes                1.1.0\n",
      "kfp-pipeline-spec             0.3.0\n",
      "kfp-server-api                2.0.5\n"
     ]
    }
   ],
   "source": [
    "!{sys.executable} -m pip list | grep kfp"
   ]
  },
  {
   "cell_type": "code",
   "execution_count": 4,
   "id": "8f70b389-cb19-4ba8-a56c-47dd8f23b360",
   "metadata": {},
   "outputs": [],
   "source": [
    "#!{sys.executable} -m pip install --user --upgrade kfp[kubernetes]==2.4.0 kfp-server-api==2.0.5"
   ]
  },
  {
   "cell_type": "code",
   "execution_count": 5,
   "id": "ff83219a-b846-4078-a45b-d5c699d80432",
   "metadata": {},
   "outputs": [],
   "source": [
    "from kfp.dsl.pipeline_task import PipelineTask\n",
    "\n",
    "def set_res_limit(task: PipelineTask, mem_req=\"200Mi\", cpu_req=\"2000m\", mem_lim=\"4000Mi\", cpu_lim='4000m') -> PipelineTask:\n",
    "    \"\"\"set the resource limit for cpu and memory, no cpu and memory requirement sofar.\n",
    "    should the limit is set to small, the Task Pod would be stopped by kubernetes with OOMKilled status.\n",
    "    \n",
    "    Args:\n",
    "        task(PipelineTask): the KFP PipelineTask which need to be set the cpu and memory limits\n",
    "        cpu_limit(str): the str representation of cpu limit e.g. '1' as one cpu time, '0.5' as 1/2 cpu time\n",
    "        mem_limit(str): the str representation of memory limit e.g. '500M' for 500MB RAM\n",
    "        \n",
    "    Return:\n",
    "        (PipelineTask): the PipelineTask with the desired limitations set\n",
    "    \"\"\"\n",
    "    # return task.set_cpu_limit('1').set_memory_limit('500M')\n",
    "    return task.set_cpu_request(cpu_req)\\\n",
    "            .set_cpu_limit(cpu_lim)\\\n",
    "            .set_memory_request(mem_req)\\\n",
    "            .set_memory_limit(mem_lim)"
   ]
  },
  {
   "cell_type": "code",
   "execution_count": 6,
   "id": "cbc08d98-c839-4904-a487-6d34aa875c52",
   "metadata": {},
   "outputs": [],
   "source": [
    "from kfp import dsl\n",
    "from kfp import kubernetes\n",
    "\n",
    "@dsl.component(\n",
    "base_image='python:3.10.13-bullseye'\n",
    ")\n",
    "def make_data():\n",
    "    with open('/data/file.txt', 'w') as f:\n",
    "        f.write('my data')\n",
    "\n",
    "@dsl.component(\n",
    "base_image='python:3.10.13-bullseye'\n",
    ")\n",
    "def read_data():\n",
    "    with open('/reused_data/file.txt') as f:\n",
    "        print(f.read())\n",
    "\n",
    "@dsl.pipeline\n",
    "def my_pipeline():\n",
    "    pvc1 = kubernetes.CreatePVC(\n",
    "        # can also use pvc_name instead of pvc_name_suffix to use a pre-existing PVC\n",
    "        pvc_name_suffix='-my-pvc',\n",
    "        access_modes=['ReadWriteOnce'],\n",
    "        size='1Gi',\n",
    "        storage_class_name='kubeflow-nfs-csi', # use the name of your available storage class      \n",
    "    )\n",
    "\n",
    "    task1 = make_data()\n",
    "    task1 = set_res_limit(task=task1, cpu_req='500m', mem_req='200M')\n",
    "    # normally task sequencing is handled by data exchange via component inputs/outputs\n",
    "    # but since data is exchanged via volume, we need to call .after explicitly to sequence tasks\n",
    "    task2 = read_data().after(task1)\n",
    "    task2 = set_res_limit(task=task2, cpu_req='500m', mem_req='200M')\n",
    "    \n",
    "    kubernetes.mount_pvc(\n",
    "         task1,\n",
    "         pvc_name=pvc1.outputs['name'],\n",
    "         mount_path='/data',\n",
    "    )\n",
    "    kubernetes.mount_pvc(\n",
    "         task2,\n",
    "         pvc_name=pvc1.outputs['name'],\n",
    "         mount_path='/reused_data',\n",
    "    )\n",
    "\n",
    "    # wait to delete the PVC until after task2 completes\n",
    "    delete_pvc1 = kubernetes.DeletePVC(\n",
    "        pvc_name=pvc1.outputs['name']).after(task2)"
   ]
  },
  {
   "cell_type": "code",
   "execution_count": 7,
   "id": "d8435a62-2585-4fb1-bb09-95d31b5603a3",
   "metadata": {},
   "outputs": [],
   "source": [
    "from kfp import compiler\n",
    "import os\n",
    "\n",
    "my_pipeline_file_name = \"pvc_pipeline\"\n",
    "pipeline_path_dir = \"./compiled\"\n",
    "\n",
    "if not os.path.exists(pipeline_path_dir):\n",
    "    os.makedirs(pipeline_path_dir)\n",
    "\n",
    "compiler.Compiler().compile(\n",
    "    pipeline_func=my_pipeline,\n",
    "    package_path=f\"{pipeline_path_dir}/{my_pipeline_file_name}.yaml\"\n",
    ")"
   ]
  },
  {
   "cell_type": "code",
   "execution_count": 8,
   "id": "4b148f9f-1034-4a5d-9b78-fc4603690dec",
   "metadata": {},
   "outputs": [
    {
     "name": "stdout",
     "output_type": "stream",
     "text": [
      "kubeflow-kindfor\n"
     ]
    }
   ],
   "source": [
    "from kfp.client import Client\n",
    "import warnings\n",
    "\n",
    "'''suppress kfp v2 client FutureWarning\n",
    "https://stackoverflow.com/questions/14463277/how-to-disable-python-warnings/14463362#14463362\n",
    "'''\n",
    "with warnings.catch_warnings(action=\"ignore\", category=FutureWarning):\n",
    "    # kubeflow pipeline poddefault is passing the credential to the client\n",
    "    client = Client()\n",
    "    \n",
    "NAMESPACE = client.get_user_namespace()\n",
    "print(NAMESPACE)"
   ]
  },
  {
   "cell_type": "markdown",
   "id": "2bb93a8b-cd1a-4073-83bc-401d05777705",
   "metadata": {},
   "source": [
    "## Enable caching false is causing issue with PVC creationg\n",
    "* https://github.com/kubeflow/pipelines/issues/10188\n",
    "\n",
    "Note:\n",
    "* this error will crash the kfp backend\n",
    "\n",
    "You need to `kubectl -n kubeflow rollout restart deployment` to restart the container."
   ]
  },
  {
   "cell_type": "code",
   "execution_count": 9,
   "id": "cd997aff-680b-4610-80c0-8a02fce52584",
   "metadata": {},
   "outputs": [
    {
     "data": {
      "text/html": [
       "<a href=\"/pipeline/#/experiments/details/20ad43d6-4e20-494c-9a81-52869a440fd3\" target=\"_blank\" >Experiment details</a>."
      ],
      "text/plain": [
       "<IPython.core.display.HTML object>"
      ]
     },
     "metadata": {},
     "output_type": "display_data"
    },
    {
     "data": {
      "text/html": [
       "<a href=\"/pipeline/#/runs/details/bbd662c1-d98e-45f5-8a31-8b18bf162ad1\" target=\"_blank\" >Run details</a>."
      ],
      "text/plain": [
       "<IPython.core.display.HTML object>"
      ]
     },
     "metadata": {},
     "output_type": "display_data"
    },
    {
     "data": {
      "text/plain": [
       "RunPipelineResult(run_id=bbd662c1-d98e-45f5-8a31-8b18bf162ad1)"
      ]
     },
     "execution_count": 9,
     "metadata": {},
     "output_type": "execute_result"
    }
   ],
   "source": [
    "ENABLE_CACHING = True\n",
    "# ENABLE_CACHING = False\n",
    "EXPERIMENT_NAME = \"demo\"\n",
    "\n",
    "run = client.create_run_from_pipeline_func(\n",
    "    pipeline_func=my_pipeline,\n",
    "    arguments = {},\n",
    "    run_name=\"my pvc test\",\n",
    "    experiment_name = EXPERIMENT_NAME,\n",
    "    namespace=NAMESPACE,\n",
    "    enable_caching=ENABLE_CACHING,\n",
    ")\n",
    "run"
   ]
  },
  {
   "cell_type": "code",
   "execution_count": null,
   "id": "ba5bd282-f071-4f02-ba4b-6d03c5a8f29d",
   "metadata": {},
   "outputs": [],
   "source": []
  }
 ],
 "metadata": {
  "kernelspec": {
   "display_name": "Python 3 (ipykernel)",
   "language": "python",
   "name": "python3"
  },
  "language_info": {
   "codemirror_mode": {
    "name": "ipython",
    "version": 3
   },
   "file_extension": ".py",
   "mimetype": "text/x-python",
   "name": "python",
   "nbconvert_exporter": "python",
   "pygments_lexer": "ipython3",
   "version": "3.11.6"
  }
 },
 "nbformat": 4,
 "nbformat_minor": 5
}
