{
 "cells": [
  {
   "cell_type": "code",
   "execution_count": 1,
   "id": "30b4a7c1-0ee1-407d-93c9-3e349094df88",
   "metadata": {},
   "outputs": [],
   "source": [
    "import sys"
   ]
  },
  {
   "cell_type": "code",
   "execution_count": 2,
   "id": "9417675c-afb2-4580-99d3-c1791fd1376e",
   "metadata": {},
   "outputs": [
    {
     "name": "stdout",
     "output_type": "stream",
     "text": [
      "Requirement already satisfied: kfp==2.0.0b13 in /home/jovyan/.local/lib/python3.8/site-packages (2.0.0b13)\n",
      "Requirement already satisfied: kfp-kubernetes==1.0.0 in /opt/conda/lib/python3.8/site-packages (1.0.0)\n",
      "Requirement already satisfied: typing-extensions<5,>=3.7.4 in /opt/conda/lib/python3.8/site-packages (from kfp==2.0.0b13) (4.5.0)\n",
      "Requirement already satisfied: google-cloud-storage<3,>=2.2.1 in /home/jovyan/.local/lib/python3.8/site-packages (from kfp==2.0.0b13) (2.10.0)\n",
      "Requirement already satisfied: click<9,>=7.1.2 in /home/jovyan/.local/lib/python3.8/site-packages (from kfp==2.0.0b13) (8.1.3)\n",
      "Requirement already satisfied: kubernetes<24,>=8.0.0 in /opt/conda/lib/python3.8/site-packages (from kfp==2.0.0b13) (12.0.1)\n",
      "Requirement already satisfied: requests-toolbelt<1,>=0.8.0 in /opt/conda/lib/python3.8/site-packages (from kfp==2.0.0b13) (0.10.1)\n",
      "Requirement already satisfied: PyYAML<7,>=5.3 in /opt/conda/lib/python3.8/site-packages (from kfp==2.0.0b13) (5.4.1)\n",
      "Requirement already satisfied: protobuf<4,>=3.13.0 in /opt/conda/lib/python3.8/site-packages (from kfp==2.0.0b13) (3.17.3)\n",
      "Requirement already satisfied: tabulate<1,>=0.8.6 in /opt/conda/lib/python3.8/site-packages (from kfp==2.0.0b13) (0.9.0)\n",
      "Requirement already satisfied: docstring-parser<1,>=0.7.3 in /opt/conda/lib/python3.8/site-packages (from kfp==2.0.0b13) (0.15)\n",
      "Requirement already satisfied: google-auth<3,>=1.6.1 in /opt/conda/lib/python3.8/site-packages (from kfp==2.0.0b13) (1.35.0)\n",
      "Requirement already satisfied: kfp-pipeline-spec==0.2.0 in /home/jovyan/.local/lib/python3.8/site-packages (from kfp==2.0.0b13) (0.2.0)\n",
      "Requirement already satisfied: kfp-server-api==2.0.0a6 in /home/jovyan/.local/lib/python3.8/site-packages (from kfp==2.0.0b13) (2.0.0a6)\n",
      "Requirement already satisfied: google-api-core!=2.0.*,!=2.1.*,!=2.2.*,!=2.3.0,<3.0.0dev,>=1.31.5 in /opt/conda/lib/python3.8/site-packages (from kfp==2.0.0b13) (2.8.2)\n",
      "Requirement already satisfied: urllib3>=1.15 in /opt/conda/lib/python3.8/site-packages (from kfp-server-api==2.0.0a6->kfp==2.0.0b13) (1.26.15)\n",
      "Requirement already satisfied: certifi in /opt/conda/lib/python3.8/site-packages (from kfp-server-api==2.0.0a6->kfp==2.0.0b13) (2022.12.7)\n",
      "Requirement already satisfied: python-dateutil in /opt/conda/lib/python3.8/site-packages (from kfp-server-api==2.0.0a6->kfp==2.0.0b13) (2.8.2)\n",
      "Requirement already satisfied: six>=1.10 in /opt/conda/lib/python3.8/site-packages (from kfp-server-api==2.0.0a6->kfp==2.0.0b13) (1.16.0)\n",
      "Requirement already satisfied: requests<3.0.0dev,>=2.18.0 in /opt/conda/lib/python3.8/site-packages (from google-api-core!=2.0.*,!=2.1.*,!=2.2.*,!=2.3.0,<3.0.0dev,>=1.31.5->kfp==2.0.0b13) (2.28.2)\n",
      "Requirement already satisfied: googleapis-common-protos<2.0dev,>=1.56.2 in /opt/conda/lib/python3.8/site-packages (from google-api-core!=2.0.*,!=2.1.*,!=2.2.*,!=2.3.0,<3.0.0dev,>=1.31.5->kfp==2.0.0b13) (1.56.4)\n",
      "Requirement already satisfied: pyasn1-modules>=0.2.1 in /opt/conda/lib/python3.8/site-packages (from google-auth<3,>=1.6.1->kfp==2.0.0b13) (0.2.8)\n",
      "Requirement already satisfied: rsa<5,>=3.1.4 in /opt/conda/lib/python3.8/site-packages (from google-auth<3,>=1.6.1->kfp==2.0.0b13) (4.9)\n",
      "Requirement already satisfied: cachetools<5.0,>=2.0.0 in /opt/conda/lib/python3.8/site-packages (from google-auth<3,>=1.6.1->kfp==2.0.0b13) (4.2.4)\n",
      "Requirement already satisfied: setuptools>=40.3.0 in /opt/conda/lib/python3.8/site-packages (from google-auth<3,>=1.6.1->kfp==2.0.0b13) (67.6.0)\n",
      "Requirement already satisfied: google-cloud-core<3.0dev,>=2.3.0 in /opt/conda/lib/python3.8/site-packages (from google-cloud-storage<3,>=2.2.1->kfp==2.0.0b13) (2.3.2)\n",
      "Requirement already satisfied: google-resumable-media>=2.3.2 in /opt/conda/lib/python3.8/site-packages (from google-cloud-storage<3,>=2.2.1->kfp==2.0.0b13) (2.4.1)\n",
      "Requirement already satisfied: websocket-client!=0.40.0,!=0.41.*,!=0.42.*,>=0.32.0 in /opt/conda/lib/python3.8/site-packages (from kubernetes<24,>=8.0.0->kfp==2.0.0b13) (1.5.1)\n",
      "Requirement already satisfied: requests-oauthlib in /opt/conda/lib/python3.8/site-packages (from kubernetes<24,>=8.0.0->kfp==2.0.0b13) (1.3.1)\n",
      "Requirement already satisfied: google-crc32c<2.0dev,>=1.0 in /opt/conda/lib/python3.8/site-packages (from google-resumable-media>=2.3.2->google-cloud-storage<3,>=2.2.1->kfp==2.0.0b13) (1.5.0)\n",
      "Requirement already satisfied: pyasn1<0.5.0,>=0.4.6 in /opt/conda/lib/python3.8/site-packages (from pyasn1-modules>=0.2.1->google-auth<3,>=1.6.1->kfp==2.0.0b13) (0.4.8)\n",
      "Requirement already satisfied: idna<4,>=2.5 in /opt/conda/lib/python3.8/site-packages (from requests<3.0.0dev,>=2.18.0->google-api-core!=2.0.*,!=2.1.*,!=2.2.*,!=2.3.0,<3.0.0dev,>=1.31.5->kfp==2.0.0b13) (3.4)\n",
      "Requirement already satisfied: charset-normalizer<4,>=2 in /opt/conda/lib/python3.8/site-packages (from requests<3.0.0dev,>=2.18.0->google-api-core!=2.0.*,!=2.1.*,!=2.2.*,!=2.3.0,<3.0.0dev,>=1.31.5->kfp==2.0.0b13) (2.1.1)\n",
      "Requirement already satisfied: oauthlib>=3.0.0 in /opt/conda/lib/python3.8/site-packages (from requests-oauthlib->kubernetes<24,>=8.0.0->kfp==2.0.0b13) (3.2.2)\n"
     ]
    }
   ],
   "source": [
    "!{sys.executable} -m pip install kfp==2.0.0b13 kfp-kubernetes==1.0.0"
   ]
  },
  {
   "cell_type": "code",
   "execution_count": 7,
   "id": "ff83219a-b846-4078-a45b-d5c699d80432",
   "metadata": {},
   "outputs": [],
   "source": [
    "from kfp.components.pipeline_task import PipelineTask\n",
    "\n",
    "def set_res_limit(task: PipelineTask, cpu_limit: str, mem_limit: str) -> PipelineTask:\n",
    "    \"\"\"set the resource limit for cpu and memory, no cpu and memory requirement sofar.\n",
    "    should the limit is set to small, the Task Pod would be stopped by kubernetes with OOMKilled status.\n",
    "    \n",
    "    Args:\n",
    "        task(PipelineTask): the KFP PipelineTask which need to be set the cpu and memory limits\n",
    "        cpu_limit(str): the str representation of cpu limit e.g. '1' as one cpu time, '0.5' as 1/2 cpu time\n",
    "        mem_limit(str): the str representation of memory limit e.g. '500M' for 500MB RAM\n",
    "        \n",
    "    Return:\n",
    "        (PipelineTask): the PipelineTask with the desired limitations set\n",
    "    \"\"\"\n",
    "    # return task.set_cpu_limit('1').set_memory_limit('500M')\n",
    "    return task.set_cpu_limit(cpu_limit).set_memory_limit(mem_limit)"
   ]
  },
  {
   "cell_type": "code",
   "execution_count": 8,
   "id": "cbc08d98-c839-4904-a487-6d34aa875c52",
   "metadata": {},
   "outputs": [],
   "source": [
    "from kfp import dsl\n",
    "from kfp import kubernetes\n",
    "from kfp import compiler\n",
    "\n",
    "@dsl.component\n",
    "def make_data():\n",
    "    with open('/data/file.txt', 'w') as f:\n",
    "        f.write('my data')\n",
    "\n",
    "@dsl.component\n",
    "def read_data():\n",
    "    with open('/reused_data/file.txt') as f:\n",
    "        print(f.read())\n",
    "\n",
    "@dsl.pipeline\n",
    "def my_pipeline():\n",
    "    pvc1 = kubernetes.CreatePVC(\n",
    "        # can also use pvc_name instead of pvc_name_suffix to use a pre-existing PVC\n",
    "        pvc_name_suffix='-my-pvc',\n",
    "        access_modes=['ReadWriteOnce'],\n",
    "        size='1Gi',\n",
    "        storage_class_name='default',       \n",
    "    )\n",
    "\n",
    "    task1 = make_data()\n",
    "    task1 = set_res_limit(task=task1, cpu_limit='1', mem_limit='500M')\n",
    "    # normally task sequencing is handled by data exchange via component inputs/outputs\n",
    "    # but since data is exchanged via volume, we need to call .after explicitly to sequence tasks\n",
    "    task2 = read_data().after(task1)\n",
    "    task2 = set_res_limit(task=task2, cpu_limit='1', mem_limit='500M')\n",
    "    \n",
    "    # kubernetes.mount_pvc(\n",
    "    #      task1,\n",
    "    #      pvc_name=pvc1.outputs['name'],\n",
    "    #      mount_path='/data',\n",
    "    # )\n",
    "    # kubernetes.mount_pvc(\n",
    "    #      task2,\n",
    "    #      pvc_name=pvc1.outputs['name'],\n",
    "    #      mount_path='/reused_data',\n",
    "    # )\n",
    "\n",
    "    # wait to delete the PVC until after task2 completes\n",
    "    delete_pvc1 = kubernetes.DeletePVC(\n",
    "        pvc_name=pvc1.outputs['name']).after(task2)"
   ]
  },
  {
   "cell_type": "code",
   "execution_count": 9,
   "id": "d8435a62-2585-4fb1-bb09-95d31b5603a3",
   "metadata": {},
   "outputs": [],
   "source": [
    "compiler.Compiler().compile(\n",
    "    pipeline_func=my_pipeline,\n",
    "    package_path=\"./pvc_pipeline.yaml\"\n",
    ")"
   ]
  },
  {
   "cell_type": "code",
   "execution_count": 10,
   "id": "4b148f9f-1034-4a5d-9b78-fc4603690dec",
   "metadata": {},
   "outputs": [
    {
     "name": "stdout",
     "output_type": "stream",
     "text": [
      "kubeflow-kindfor\n"
     ]
    }
   ],
   "source": [
    "from kfp.client import Client\n",
    "client = Client()\n",
    "NAMESPACE = client.get_user_namespace()\n",
    "print(NAMESPACE)"
   ]
  },
  {
   "cell_type": "code",
   "execution_count": null,
   "id": "cd997aff-680b-4610-80c0-8a02fce52584",
   "metadata": {},
   "outputs": [],
   "source": [
    "# ENABLE_CACHING = True\n",
    "ENABLE_CACHING = False\n",
    "EXPERIMENT_NAME = \"demo\"\n",
    "\n",
    "run = client.create_run_from_pipeline_func(\n",
    "    pipeline_func=my_pipeline,\n",
    "    arguments = {},\n",
    "    run_name=\"my pvc test\",\n",
    "    experiment_name = EXPERIMENT_NAME,\n",
    "    namespace=NAMESPACE,\n",
    "    enable_caching=ENABLE_CACHING,\n",
    ")"
   ]
  },
  {
   "cell_type": "code",
   "execution_count": null,
   "id": "ba5bd282-f071-4f02-ba4b-6d03c5a8f29d",
   "metadata": {},
   "outputs": [],
   "source": []
  }
 ],
 "metadata": {
  "kernelspec": {
   "display_name": "Python 3 (ipykernel)",
   "language": "python",
   "name": "python3"
  },
  "language_info": {
   "codemirror_mode": {
    "name": "ipython",
    "version": 3
   },
   "file_extension": ".py",
   "mimetype": "text/x-python",
   "name": "python",
   "nbconvert_exporter": "python",
   "pygments_lexer": "ipython3",
   "version": "3.8.10"
  }
 },
 "nbformat": 4,
 "nbformat_minor": 5
}
