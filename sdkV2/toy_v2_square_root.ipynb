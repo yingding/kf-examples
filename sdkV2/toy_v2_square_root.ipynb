{
 "cells": [
  {
   "cell_type": "markdown",
   "id": "252cdb8f-9f21-4c7a-a9e4-dc4f9c6669b3",
   "metadata": {},
   "source": [
    "## toy notebook for v2 pipeline on KF 1.7.0 manifests\n",
    "* quick start v2 https://www.kubeflow.org/docs/components/pipelines/v2/pipelines/pipeline-basics/\n",
    "* migration guide https://www.kubeflow.org/docs/components/pipelines/v2/migration/\n"
   ]
  },
  {
   "cell_type": "code",
   "execution_count": 1,
   "id": "ce0db978-dac8-4138-871b-2f7aaa010e70",
   "metadata": {},
   "outputs": [],
   "source": [
    "import sys"
   ]
  },
  {
   "cell_type": "code",
   "execution_count": 2,
   "id": "8418f48c-bf85-4c5d-868e-74b8bc6059d6",
   "metadata": {},
   "outputs": [],
   "source": [
    "# KFP sdk 2.0.1 works with Kubeflow Pipeline v2.0.0-beta.2 onwards\n",
    "# KF 1.7.0 manifests has kfp server 2.0.0a7\n",
    "# KFP sdk 2.0.0b13 works with Kubeflow Pipeline 2.0.0a6\n",
    "\n",
    "# !{sys.executable} -m pip install --user --upgrade kfp==2.0.0b13"
   ]
  },
  {
   "cell_type": "code",
   "execution_count": 3,
   "id": "699e0034-12c6-438e-bd9a-8bda308038e2",
   "metadata": {},
   "outputs": [],
   "source": [
    "# !{sys.executable} -m pip uninstall -y kfp-server-api\n",
    "# !{sys.executable} -m pip install --user --upgrade kfp-server-api==2.0.0\n",
    "# !{sys.executable} -m pip install --user --upgrade kfp-pipeline-spec==0.2.2"
   ]
  },
  {
   "cell_type": "code",
   "execution_count": 4,
   "id": "498cadad-1397-4680-9b7d-4e08ebefea51",
   "metadata": {},
   "outputs": [
    {
     "name": "stdout",
     "output_type": "stream",
     "text": [
      "kfp                      2.0.0b13\n",
      "kfp-pipeline-spec        0.2.0\n",
      "kfp-server-api           2.0.0a6\n"
     ]
    }
   ],
   "source": [
    "!{sys.executable} -m pip list | grep kfp"
   ]
  },
  {
   "cell_type": "markdown",
   "id": "9a0ad84e-c5f6-445f-b08a-61851dcc8236",
   "metadata": {},
   "source": [
    "## restart kernel"
   ]
  },
  {
   "cell_type": "code",
   "execution_count": 5,
   "id": "31e7d0be-2e34-4e91-924f-5fef6ded2d7e",
   "metadata": {},
   "outputs": [],
   "source": [
    "from kfp import dsl\n",
    "from kfp import compiler\n",
    "# from kfp.components.pipeline_task import PipelineTask\n",
    "\n",
    "@dsl.component\n",
    "def square(x: float) -> float:\n",
    "    # need to cast to float otherwise will run into an error\n",
    "    return float(x ** 2)\n",
    "\n",
    "## use kubectl -n kubeflow-kindfor logs pythagorean-tr97s-2385800675 to show the error log from console\n",
    "@dsl.component\n",
    "def add(x: float, z: float) -> float:\n",
    "    # for some strange reason, the y param name is changed to \"true\", if i rename to z, it works\n",
    "    return float(x + z)\n",
    "\n",
    "@dsl.component\n",
    "def square_root(x: float) -> float:\n",
    "    return float(x ** .5)\n",
    "\n",
    "# @dsl.pipeline(name='pythagorean-theorem-pipeline',\n",
    "#               description='Solve for the length of a hypotenuse of a triangle with sides length `a` and `b`.',\n",
    "#               pipeline_root='gs://my-pipelines-bucket',\n",
    "#               display_name='Pythagorean pipeline.')\n",
    "@dsl.pipeline\n",
    "def pythagorean(a: float, b: float) -> float:\n",
    "    a_sq_task = square(x=a)\n",
    "    # if the limit is set to small, will be OOMKilled by kubernetes\n",
    "    a_sq_task = a_sq_task.set_cpu_limit('1').set_memory_limit('500M')\n",
    "    b_sq_task = square(x=b)\n",
    "    b_sq_task = b_sq_task.set_cpu_limit('1').set_memory_limit('500M')\n",
    "    # print(type(a_sq_task))\n",
    "    sum_task = add(x=a_sq_task.output, z=b_sq_task.output)\n",
    "    sum_task = sum_task.set_cpu_limit('1').set_memory_limit('500M')\n",
    "\n",
    "    result_task = square_root(x=sum_task.output)\n",
    "    result_task = result_task.set_cpu_limit('1').set_memory_limit('500M')\n",
    "    return result_task.output"
   ]
  },
  {
   "cell_type": "code",
   "execution_count": 6,
   "id": "99ac2fd4-a6ab-43f2-bef8-1ef52abc6c31",
   "metadata": {},
   "outputs": [],
   "source": [
    "compiler.Compiler().compile(\n",
    "    pipeline_func=pythagorean,\n",
    "    package_path=\"./pythagorean.yaml\"\n",
    ")"
   ]
  },
  {
   "cell_type": "code",
   "execution_count": 7,
   "id": "dac7580b-913a-47cb-a784-a2207bc4a65f",
   "metadata": {},
   "outputs": [
    {
     "name": "stdout",
     "output_type": "stream",
     "text": [
      "kubeflow-kindfor\n"
     ]
    },
    {
     "name": "stderr",
     "output_type": "stream",
     "text": [
      "/home/jovyan/.local/lib/python3.8/site-packages/kfp/client/client.py:141: FutureWarning: This client only works with Kubeflow Pipeline v2.0.0-alpha.0 and later versions.\n",
      "  warnings.warn(\n"
     ]
    }
   ],
   "source": [
    "from kfp.client import Client\n",
    "client = Client()\n",
    "NAMESPACE = client.get_user_namespace()\n",
    "print(NAMESPACE)"
   ]
  },
  {
   "cell_type": "code",
   "execution_count": 8,
   "id": "e6cac10e-acb2-44b4-a5c3-33aa3211d3fd",
   "metadata": {},
   "outputs": [
    {
     "data": {
      "text/plain": [
       "{'experiments': [{'created_at': datetime.datetime(2023, 6, 15, 16, 36, 7, tzinfo=tzlocal()),\n",
       "                  'description': None,\n",
       "                  'id': '44688294-d176-4974-a329-d5085422bf76',\n",
       "                  'name': 'demo',\n",
       "                  'resource_references': [{'key': {'id': 'kubeflow-kindfor',\n",
       "                                                   'type': 'NAMESPACE'},\n",
       "                                           'name': None,\n",
       "                                           'relationship': 'OWNER'}],\n",
       "                  'storage_state': 'STORAGESTATE_AVAILABLE'}],\n",
       " 'next_page_token': None,\n",
       " 'total_size': 1}"
      ]
     },
     "execution_count": 8,
     "metadata": {},
     "output_type": "execute_result"
    }
   ],
   "source": [
    "client.list_experiments(namespace=NAMESPACE)"
   ]
  },
  {
   "cell_type": "code",
   "execution_count": 9,
   "id": "a06d57d2-6d7f-4add-8f06-6debf8fac0b4",
   "metadata": {},
   "outputs": [
    {
     "data": {
      "text/html": [
       "<a href=\"/pipeline/#/experiments/details/44688294-d176-4974-a329-d5085422bf76\" target=\"_blank\" >Experiment details</a>."
      ],
      "text/plain": [
       "<IPython.core.display.HTML object>"
      ]
     },
     "metadata": {},
     "output_type": "display_data"
    },
    {
     "data": {
      "text/html": [
       "<a href=\"/pipeline/#/runs/details/1b0198f8-34fa-4e25-becb-e68ff6bb97d9\" target=\"_blank\" >Run details</a>."
      ],
      "text/plain": [
       "<IPython.core.display.HTML object>"
      ]
     },
     "metadata": {},
     "output_type": "display_data"
    }
   ],
   "source": [
    "run = client.create_run_from_pipeline_func(\n",
    "    pipeline_func=pythagorean,\n",
    "    arguments = {\"a\": 1, \"b\": 2},\n",
    "    run_name=\"my test v2 run\",\n",
    "    experiment_name = \"demo\",\n",
    "    namespace=NAMESPACE,\n",
    "    enable_caching=True,\n",
    "    # enable_caching=False,\n",
    ")"
   ]
  },
  {
   "cell_type": "code",
   "execution_count": null,
   "id": "57ed6b38-4178-4932-a937-29f36e10ac6f",
   "metadata": {},
   "outputs": [],
   "source": []
  }
 ],
 "metadata": {
  "kernelspec": {
   "display_name": "Python 3 (ipykernel)",
   "language": "python",
   "name": "python3"
  },
  "language_info": {
   "codemirror_mode": {
    "name": "ipython",
    "version": 3
   },
   "file_extension": ".py",
   "mimetype": "text/x-python",
   "name": "python",
   "nbconvert_exporter": "python",
   "pygments_lexer": "ipython3",
   "version": "3.8.10"
  }
 },
 "nbformat": 4,
 "nbformat_minor": 5
}
