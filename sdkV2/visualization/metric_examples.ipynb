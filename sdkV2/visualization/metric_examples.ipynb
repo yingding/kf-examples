{
 "cells": [
  {
   "cell_type": "markdown",
   "id": "c5fe626f-b5df-45b9-a5e8-27a348c520c9",
   "metadata": {},
   "source": [
    "# Intro\n",
    "\n",
    "Author: Yingding Wang\\\n",
    "Created on: 09.01.2024\n",
    "\n",
    "This notebook file demonstrate metric visualization of Kubeflow V2 pipeline on Kubeflow 1.8.0 manifests deployment with ml pipeline api server 2.0.5. \n",
    "\n",
    "## KFP v2 visualization docs\n",
    "* KFP sdk pipeline visualization https://www.kubeflow.org/docs/components/pipelines/v1/sdk/output-viewer/\n",
    "* example https://github.com/kubeflow/pipelines/blob/sdk/release-1.8/samples/test/metrics_visualization_v2.py\n",
    "* viewer function https://github.com/kubeflow/pipelines/blob/55a2fb5c20011b01945c9867ddff0d39e9db1964/sdk/python/kfp/v2/components/types/artifact_types.py#L255-L256\n"
   ]
  },
  {
   "cell_type": "code",
   "execution_count": 1,
   "id": "c1a3725b-1e1d-4cd1-a57f-abb20bf4cb3b",
   "metadata": {},
   "outputs": [
    {
     "name": "stdout",
     "output_type": "stream",
     "text": [
      "current platform python version: 3.11.6\n"
     ]
    }
   ],
   "source": [
    "import sys\n",
    "from platform import python_version\n",
    "print (f\"current platform python version: {python_version()}\")"
   ]
  },
  {
   "cell_type": "code",
   "execution_count": 2,
   "id": "339f76c9-1465-464b-ad66-3c37cb7fd3eb",
   "metadata": {},
   "outputs": [],
   "source": [
    "# !{sys.executable} -m pip install --upgrade --user kfp[kubernetes]==2.6.0\n",
    "# !{sys.executable} -m pip install --upgrade --user kfp==2.6.0 kfp-kubernetes==1.1.0 kfp-pipeline-spec==0.3.0 kfp-server-api==2.0.5"
   ]
  },
  {
   "cell_type": "code",
   "execution_count": 3,
   "id": "fa236f3f-152d-4607-af20-68168ee50139",
   "metadata": {},
   "outputs": [
    {
     "name": "stdout",
     "output_type": "stream",
     "text": [
      "kfp                           2.6.0\n",
      "kfp-kubernetes                1.1.0\n",
      "kfp-pipeline-spec             0.3.0\n",
      "kfp-server-api                2.0.5\n"
     ]
    }
   ],
   "source": [
    "!{sys.executable} -m pip list | grep kfp"
   ]
  },
  {
   "cell_type": "code",
   "execution_count": 4,
   "id": "ca582974-e68d-42e5-81a8-90ca1e30a9c0",
   "metadata": {},
   "outputs": [],
   "source": [
    "from kfp import dsl\n",
    "\n",
    "from kfp.dsl import (\n",
    "    Input,\n",
    "    Output,\n",
    "    ClassificationMetrics\n",
    ")"
   ]
  },
  {
   "cell_type": "code",
   "execution_count": 5,
   "id": "0d384e76-335a-4d84-98ea-f35b76bae470",
   "metadata": {},
   "outputs": [],
   "source": [
    "@dsl.component(\n",
    "    packages_to_install=['scikit-learn==1.3.2'],\n",
    "    base_image='python:3.11.7-bullseye'\n",
    ")\n",
    "def iris_sgdclassifier(test_samples_fraction: float, metrics: Output[ClassificationMetrics]):\n",
    "    from sklearn import datasets, model_selection\n",
    "    from sklearn.linear_model import SGDClassifier\n",
    "    from sklearn.metrics import confusion_matrix\n",
    "\n",
    "    iris_dataset = datasets.load_iris()\n",
    "    train_x, test_x, train_y, test_y = model_selection.train_test_split(\n",
    "        iris_dataset['data'], iris_dataset['target'], test_size=test_samples_fraction)\n",
    "\n",
    "\n",
    "    classifier = SGDClassifier()\n",
    "    classifier.fit(train_x, train_y)\n",
    "    predictions = model_selection.cross_val_predict(classifier, train_x, train_y, cv=3)\n",
    "    metrics.log_confusion_matrix(\n",
    "        ['Setosa', 'Versicolour', 'Virginica'],\n",
    "        confusion_matrix(train_y, predictions).tolist() # .tolist() to convert np array to list.\n",
    "    )\n",
    "\n",
    "#@dsl.pipeline(name='metrics-visualization-pipeline')\n",
    "\n",
    "@dsl.pipeline()\n",
    "def metrics_visualization_pipeline(test_samples_fraction: float):\n",
    "    iris_sgdclassifier_op = iris_sgdclassifier(test_samples_fraction=test_samples_fraction)\n",
    "\n",
    "my_pipeline = iris_sgdclassifier"
   ]
  },
  {
   "cell_type": "code",
   "execution_count": 6,
   "id": "c2a33805-bbdf-47cb-805a-327f0681d815",
   "metadata": {},
   "outputs": [],
   "source": [
    "def gen_compiled_file_path(file_name: str, pipeline_path_dir=\"./compiled\") -> str:\n",
    "    \"\"\"\n",
    "    In KFP SDK v2, YAML is the preferred serialization format. Json will also work\n",
    "    Reference:\n",
    "    https://www.kubeflow.org/docs/components/pipelines/v2/migration/#sdk-v1-v2-namespace-to-sdk-v2\n",
    "    \"\"\"\n",
    "    return f\"{pipeline_path_dir}/{file_name}.yaml\""
   ]
  },
  {
   "cell_type": "code",
   "execution_count": 7,
   "id": "74a82cc3-d27d-4e42-8247-1322c9f5b4ee",
   "metadata": {},
   "outputs": [],
   "source": [
    "from kfp import compiler\n",
    "import os\n",
    "\n",
    "component_file_name = \"iris_sgdclassifier_component\"\n",
    "component_file_path = gen_compiled_file_path(component_file_name)\n",
    "\n",
    "my_pipeline_file_name = \"metrics_pipeline_v2\"\n",
    "pipeline_package_path = gen_compiled_file_path(my_pipeline_file_name)\n",
    "\n",
    "pipeline_path_dir=\"./compiled\"\n",
    "if not os.path.exists(pipeline_path_dir):\n",
    "    os.makedirs(pipeline_path_dir)\n",
    "\n",
    "# compile component, instead of using output_component_file in the @dsl.component decorator\n",
    "compiler.Compiler().compile(\n",
    "    pipeline_func=iris_sgdclassifier,\n",
    "    package_path=component_file_path\n",
    ")\n",
    "\n",
    "compiler.Compiler().compile(\n",
    "    pipeline_func=my_pipeline,\n",
    "    package_path=pipeline_package_path\n",
    ")"
   ]
  },
  {
   "cell_type": "code",
   "execution_count": 8,
   "id": "d1b5d4b5-5b6c-417e-89b4-0cc76221cfaf",
   "metadata": {},
   "outputs": [
    {
     "name": "stdout",
     "output_type": "stream",
     "text": [
      "kubeflow-kindfor\n"
     ]
    }
   ],
   "source": [
    "from kfp.client import Client\n",
    "import warnings\n",
    "\n",
    "'''suppress kfp v2 client FutureWarning\n",
    "https://stackoverflow.com/questions/14463277/how-to-disable-python-warnings/14463362#14463362\n",
    "'''\n",
    "with warnings.catch_warnings(action=\"ignore\", category=FutureWarning):\n",
    "    # kubeflow pipeline poddefault is passing the credential to the client\n",
    "    client = Client()\n",
    "\n",
    "NAMESPACE = client.get_user_namespace()\n",
    "EXPERIMENT_NAME = \"demo\"\n",
    "print(NAMESPACE)\n",
    "\n",
    "args = {\n",
    "    \"test_samples_fraction\":0.3\n",
    "}\n",
    "\n",
    "# ENABLE_CACHING = True\n",
    "ENABLE_CACHING = False"
   ]
  },
  {
   "cell_type": "code",
   "execution_count": 9,
   "id": "fa80ef07-8de1-4e5c-a562-616d889cf746",
   "metadata": {},
   "outputs": [
    {
     "data": {
      "text/html": [
       "<a href=\"/pipeline/#/experiments/details/20ad43d6-4e20-494c-9a81-52869a440fd3\" target=\"_blank\" >Experiment details</a>."
      ],
      "text/plain": [
       "<IPython.core.display.HTML object>"
      ]
     },
     "metadata": {},
     "output_type": "display_data"
    },
    {
     "data": {
      "text/html": [
       "<a href=\"/pipeline/#/runs/details/6a46416e-015b-4cf5-9d5f-14e2bd8304b4\" target=\"_blank\" >Run details</a>."
      ],
      "text/plain": [
       "<IPython.core.display.HTML object>"
      ]
     },
     "metadata": {},
     "output_type": "display_data"
    },
    {
     "data": {
      "text/plain": [
       "RunPipelineResult(run_id=6a46416e-015b-4cf5-9d5f-14e2bd8304b4)"
      ]
     },
     "execution_count": 9,
     "metadata": {},
     "output_type": "execute_result"
    }
   ],
   "source": [
    "run = client.create_run_from_pipeline_func(\n",
    "    pipeline_func = my_pipeline, \n",
    "    experiment_name = EXPERIMENT_NAME,\n",
    "    namespace = NAMESPACE,\n",
    "    enable_caching=ENABLE_CACHING,\n",
    "    arguments=args,\n",
    ")\n",
    "run"
   ]
  },
  {
   "cell_type": "code",
   "execution_count": null,
   "id": "12ad2616-8bc7-442c-bbb2-bc6e313b0a79",
   "metadata": {},
   "outputs": [],
   "source": []
  }
 ],
 "metadata": {
  "kernelspec": {
   "display_name": "Python 3 (ipykernel)",
   "language": "python",
   "name": "python3"
  },
  "language_info": {
   "codemirror_mode": {
    "name": "ipython",
    "version": 3
   },
   "file_extension": ".py",
   "mimetype": "text/x-python",
   "name": "python",
   "nbconvert_exporter": "python",
   "pygments_lexer": "ipython3",
   "version": "3.11.6"
  }
 },
 "nbformat": 4,
 "nbformat_minor": 5
}
