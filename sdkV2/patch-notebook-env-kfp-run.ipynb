{
 "cells": [
  {
   "cell_type": "markdown",
   "id": "061ca9cb-484a-406e-a4dd-6a18e1d72abd",
   "metadata": {},
   "source": [
    "## Setup the notebook env\n",
    "\n",
    "Notice:\\\n",
    "The default notebook image for kubeflow 1.5.1 contains an **old \"kfp-server-api==1.6.2\"** for calling the kubeflow pipeline server backend, the backend version of KF 1.5.1 is \"1.8.2\", we need a sdk client version to match the back otherwise we will encounter an 500 error.\n",
    "\n",
    "```console\n",
    "ApiException: (500)\n",
    "Reason: Internal Server Error\n",
    "HTTP response headers: HTTPHeaderDict({'content-type': 'application/json', 'date': 'Tue, 11 Oct 2022 11:34:55 GMT', 'x-envoy-upstream-service-time': '25', 'server': 'envoy', 'transfer-encoding': 'chunked'})\n",
    "HTTP response body: {\"error\":\"Internal error: Unauthenticated: Request header error: there is no user identity header.: Request header error: there is no user identity header.\n",
    "```\n",
    "\n",
    "Double check your KFP Server API backend version with\n",
    "```console\n",
    "kubectl -n kubeflow describe deployment ml-pipeline\n",
    "```\n",
    "and you will see as\n",
    "```\n",
    "  Containers:\n",
    "   ml-pipeline-api-server:\n",
    "    Image:       gcr.io/ml-pipeline/api-server:2.0.0-alpha.5\n",
    "```\n",
    "\n",
    "Run the following notebook cell to update the \"kfp-server-api\" version\n",
    "\n",
    "Note:\n",
    "* Use kfp 1.8.14 to run v1 pipeline with kfp-server-api backend 2.0.0a5 of KF 1.6.1 manifests\n",
    "* Use kfp 2.0.0b5 to run v2 pipeline with kfp-server-api backend 2.0.0a5 of KF 1.6.1 manifests"
   ]
  },
  {
   "cell_type": "code",
   "execution_count": 2,
   "id": "0cc246cd-dfe7-485d-b096-503f351f3944",
   "metadata": {
    "tags": []
   },
   "outputs": [],
   "source": [
    "import sys"
   ]
  },
  {
   "cell_type": "code",
   "execution_count": 3,
   "id": "32b90c15-d326-486a-a27d-f45187d761d4",
   "metadata": {},
   "outputs": [
    {
     "name": "stdout",
     "output_type": "stream",
     "text": [
      "Collecting kfp==2.0.1\n",
      "  Downloading kfp-2.0.1.tar.gz (372 kB)\n",
      "\u001b[2K     \u001b[90m━━━━━━━━━━━━━━━━━━━━━━━━━━━━━━━━━━━━━━━\u001b[0m \u001b[32m372.4/372.4 kB\u001b[0m \u001b[31m5.8 MB/s\u001b[0m eta \u001b[36m0:00:00\u001b[0ma \u001b[36m0:00:01\u001b[0m\n",
      "\u001b[?25h  Preparing metadata (setup.py) ... \u001b[?25ldone\n",
      "\u001b[?25hCollecting click<9,>=8.0.0\n",
      "  Downloading click-8.1.3-py3-none-any.whl (96 kB)\n",
      "\u001b[2K     \u001b[90m━━━━━━━━━━━━━━━━━━━━━━━━━━━━━━━━━━━━━━━━\u001b[0m \u001b[32m96.6/96.6 kB\u001b[0m \u001b[31m3.5 MB/s\u001b[0m eta \u001b[36m0:00:00\u001b[0m\n",
      "\u001b[?25hRequirement already satisfied: docstring-parser<1,>=0.7.3 in /opt/conda/lib/python3.8/site-packages (from kfp==2.0.1) (0.15)\n",
      "Requirement already satisfied: google-api-core!=2.0.*,!=2.1.*,!=2.2.*,!=2.3.0,<3.0.0dev,>=1.31.5 in /opt/conda/lib/python3.8/site-packages (from kfp==2.0.1) (2.8.2)\n",
      "Requirement already satisfied: google-auth<3,>=1.6.1 in /opt/conda/lib/python3.8/site-packages (from kfp==2.0.1) (1.35.0)\n",
      "Collecting google-cloud-storage<3,>=2.2.1\n",
      "  Downloading google_cloud_storage-2.10.0-py2.py3-none-any.whl (114 kB)\n",
      "\u001b[2K     \u001b[90m━━━━━━━━━━━━━━━━━━━━━━━━━━━━━━━━━━━━━━━\u001b[0m \u001b[32m114.6/114.6 kB\u001b[0m \u001b[31m2.5 MB/s\u001b[0m eta \u001b[36m0:00:00\u001b[0m00:01\u001b[0m\n",
      "\u001b[?25hCollecting kfp-pipeline-spec==0.2.2\n",
      "  Downloading kfp_pipeline_spec-0.2.2-py3-none-any.whl (20 kB)\n",
      "Collecting kfp-server-api<2.1.0,>=2.0.0\n",
      "  Using cached kfp_server_api-2.0.0-py3-none-any.whl\n",
      "Requirement already satisfied: kubernetes<27,>=8.0.0 in /opt/conda/lib/python3.8/site-packages (from kfp==2.0.1) (12.0.1)\n",
      "Requirement already satisfied: protobuf<4,>=3.13.0 in /opt/conda/lib/python3.8/site-packages (from kfp==2.0.1) (3.17.3)\n",
      "Requirement already satisfied: PyYAML<7,>=5.3 in /opt/conda/lib/python3.8/site-packages (from kfp==2.0.1) (5.4.1)\n",
      "Requirement already satisfied: requests-toolbelt<1,>=0.8.0 in /opt/conda/lib/python3.8/site-packages (from kfp==2.0.1) (0.10.1)\n",
      "Requirement already satisfied: tabulate<1,>=0.8.6 in /opt/conda/lib/python3.8/site-packages (from kfp==2.0.1) (0.9.0)\n",
      "Requirement already satisfied: urllib3<2.0.0 in /opt/conda/lib/python3.8/site-packages (from kfp==2.0.1) (1.26.15)\n",
      "Requirement already satisfied: typing-extensions<5,>=3.7.4 in /opt/conda/lib/python3.8/site-packages (from kfp==2.0.1) (4.5.0)\n",
      "Requirement already satisfied: googleapis-common-protos<2.0dev,>=1.56.2 in /opt/conda/lib/python3.8/site-packages (from google-api-core!=2.0.*,!=2.1.*,!=2.2.*,!=2.3.0,<3.0.0dev,>=1.31.5->kfp==2.0.1) (1.56.4)\n",
      "Requirement already satisfied: requests<3.0.0dev,>=2.18.0 in /opt/conda/lib/python3.8/site-packages (from google-api-core!=2.0.*,!=2.1.*,!=2.2.*,!=2.3.0,<3.0.0dev,>=1.31.5->kfp==2.0.1) (2.28.2)\n",
      "Requirement already satisfied: cachetools<5.0,>=2.0.0 in /opt/conda/lib/python3.8/site-packages (from google-auth<3,>=1.6.1->kfp==2.0.1) (4.2.4)\n",
      "Requirement already satisfied: rsa<5,>=3.1.4 in /opt/conda/lib/python3.8/site-packages (from google-auth<3,>=1.6.1->kfp==2.0.1) (4.9)\n",
      "Requirement already satisfied: six>=1.9.0 in /opt/conda/lib/python3.8/site-packages (from google-auth<3,>=1.6.1->kfp==2.0.1) (1.16.0)\n",
      "Requirement already satisfied: setuptools>=40.3.0 in /opt/conda/lib/python3.8/site-packages (from google-auth<3,>=1.6.1->kfp==2.0.1) (67.6.0)\n",
      "Requirement already satisfied: pyasn1-modules>=0.2.1 in /opt/conda/lib/python3.8/site-packages (from google-auth<3,>=1.6.1->kfp==2.0.1) (0.2.8)\n",
      "Requirement already satisfied: google-cloud-core<3.0dev,>=2.3.0 in /opt/conda/lib/python3.8/site-packages (from google-cloud-storage<3,>=2.2.1->kfp==2.0.1) (2.3.2)\n",
      "Requirement already satisfied: google-resumable-media>=2.3.2 in /opt/conda/lib/python3.8/site-packages (from google-cloud-storage<3,>=2.2.1->kfp==2.0.1) (2.4.1)\n",
      "Requirement already satisfied: python-dateutil in /opt/conda/lib/python3.8/site-packages (from kfp-server-api<2.1.0,>=2.0.0->kfp==2.0.1) (2.8.2)\n",
      "Requirement already satisfied: certifi in /opt/conda/lib/python3.8/site-packages (from kfp-server-api<2.1.0,>=2.0.0->kfp==2.0.1) (2022.12.7)\n",
      "Requirement already satisfied: requests-oauthlib in /opt/conda/lib/python3.8/site-packages (from kubernetes<27,>=8.0.0->kfp==2.0.1) (1.3.1)\n",
      "Requirement already satisfied: websocket-client!=0.40.0,!=0.41.*,!=0.42.*,>=0.32.0 in /opt/conda/lib/python3.8/site-packages (from kubernetes<27,>=8.0.0->kfp==2.0.1) (1.5.1)\n",
      "Requirement already satisfied: google-crc32c<2.0dev,>=1.0 in /opt/conda/lib/python3.8/site-packages (from google-resumable-media>=2.3.2->google-cloud-storage<3,>=2.2.1->kfp==2.0.1) (1.5.0)\n",
      "Requirement already satisfied: pyasn1<0.5.0,>=0.4.6 in /opt/conda/lib/python3.8/site-packages (from pyasn1-modules>=0.2.1->google-auth<3,>=1.6.1->kfp==2.0.1) (0.4.8)\n",
      "Requirement already satisfied: charset-normalizer<4,>=2 in /opt/conda/lib/python3.8/site-packages (from requests<3.0.0dev,>=2.18.0->google-api-core!=2.0.*,!=2.1.*,!=2.2.*,!=2.3.0,<3.0.0dev,>=1.31.5->kfp==2.0.1) (2.1.1)\n",
      "Requirement already satisfied: idna<4,>=2.5 in /opt/conda/lib/python3.8/site-packages (from requests<3.0.0dev,>=2.18.0->google-api-core!=2.0.*,!=2.1.*,!=2.2.*,!=2.3.0,<3.0.0dev,>=1.31.5->kfp==2.0.1) (3.4)\n",
      "Requirement already satisfied: oauthlib>=3.0.0 in /opt/conda/lib/python3.8/site-packages (from requests-oauthlib->kubernetes<27,>=8.0.0->kfp==2.0.1) (3.2.2)\n",
      "Building wheels for collected packages: kfp\n",
      "  Building wheel for kfp (setup.py) ... \u001b[?25ldone\n",
      "\u001b[?25h  Created wheel for kfp: filename=kfp-2.0.1-py3-none-any.whl size=521747 sha256=78e536669bd15d7bbbbfb84747b61ea4e86e5a96ef115021d3fba8a7ea4b2011\n",
      "  Stored in directory: /home/jovyan/.cache/pip/wheels/db/4a/9f/248e239e961c26738609748e862ce19acca8b06039c4ad5ef6\n",
      "Successfully built kfp\n",
      "Installing collected packages: click, kfp-server-api, kfp-pipeline-spec, google-cloud-storage, kfp\n",
      "  Attempting uninstall: kfp\n",
      "    Found existing installation: kfp 1.8.19\n",
      "    Uninstalling kfp-1.8.19:\n",
      "      Successfully uninstalled kfp-1.8.19\n",
      "\u001b[33m  WARNING: The scripts dsl-compile, dsl-compile-deprecated and kfp are installed in '/home/jovyan/.local/bin' which is not on PATH.\n",
      "  Consider adding this directory to PATH or, if you prefer to suppress this warning, use --no-warn-script-location.\u001b[0m\u001b[33m\n",
      "\u001b[0mSuccessfully installed click-8.1.3 google-cloud-storage-2.10.0 kfp-2.0.1 kfp-pipeline-spec-0.2.2 kfp-server-api-2.0.0\n"
     ]
    }
   ],
   "source": [
    "# KFP SDK 2.0.0b13 is the last release with kfp server 2.0.0a7\n",
    "# !{sys.executable} -m pip install --user --upgrade kfp==2.0.1\n",
    "!{sys.executable} -m pip install --user --upgrade kfp==2.0.0b13"
   ]
  },
  {
   "cell_type": "code",
   "execution_count": 5,
   "id": "9f6a5d5b-7c14-4441-b80b-617033f60bcf",
   "metadata": {},
   "outputs": [
    {
     "name": "stdout",
     "output_type": "stream",
     "text": [
      "kfp                      2.0.0b13\n",
      "kfp-pipeline-spec        0.2.0\n",
      "kfp-server-api           2.0.0a6\n"
     ]
    }
   ],
   "source": [
    "!{sys.executable} -m pip list | grep kfp"
   ]
  },
  {
   "cell_type": "code",
   "execution_count": null,
   "id": "958ad805-f44d-4ee5-b116-9dabc11a57f8",
   "metadata": {},
   "outputs": [],
   "source": [
    "\"\"\"\n",
    "upgrade the kfp sdk version 2.0.1 \n",
    "kfp server api version to 2.0.0 for KF 1.7.0\n",
    "Uncomment the following to lines and run this cell to update the 'kfp-server-api' version\n",
    "\"\"\"\n",
    "\n",
    "# !{sys.executable} -m pip uninstall -y kfp-server-api\n",
    "# !{sys.executable} -m pip install --user --upgrade kfp-server-api==2.0.0\n",
    "# !{sys.executable} -m pip install --user --upgrade kfp-pipeline-spec==0.2.2"
   ]
  },
  {
   "cell_type": "code",
   "execution_count": null,
   "id": "d59d8858-0f50-4728-9a4b-e7979b4a6b6e",
   "metadata": {},
   "outputs": [],
   "source": [
    "\"\"\"\n",
    "upgrade kfp sdk for Kubeflow 1.8.0 manifests deployment with kfp-api-server 2.0.5\n",
    "\"\"\"\n",
    "# installs the following packages, the kfp[kubernetes] shall install all the necessary package, some as the secound command\n",
    "# !{sys.executable} -m pip install --upgrade --user kfp[kubernetes]==2.6.0\n",
    "# !{sys.executable} -m pip install --upgrade --user kfp==2.6.0 kfp-kubernetes==1.1.0 kfp-pipeline-spec==0.3.0 kfp-server-api==2.0.5"
   ]
  },
  {
   "cell_type": "code",
   "execution_count": null,
   "id": "5001119a-1366-457b-bf89-b893b88c0d00",
   "metadata": {},
   "outputs": [],
   "source": []
  }
 ],
 "metadata": {
  "kernelspec": {
   "display_name": "Python 3 (ipykernel)",
   "language": "python",
   "name": "python3"
  },
  "language_info": {
   "codemirror_mode": {
    "name": "ipython",
    "version": 3
   },
   "file_extension": ".py",
   "mimetype": "text/x-python",
   "name": "python",
   "nbconvert_exporter": "python",
   "pygments_lexer": "ipython3",
   "version": "3.11.6"
  }
 },
 "nbformat": 4,
 "nbformat_minor": 5
}
