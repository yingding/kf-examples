{
 "cells": [
  {
   "cell_type": "markdown",
   "id": "e9cf2494-3512-4367-92cd-bec016f99f32",
   "metadata": {},
   "source": [
    "# About this Jupyter Notebook\n",
    "\n",
    "@author: Yingding Wang\\\n",
    "@last_update: 19.April 2023\n",
    "\n",
    "This notebook shows how to use KServe to deploy a model in an on-prem kubeflow, and call the inference backend from istio.\n",
    "\n",
    "* KServe Tutorial deprecated: https://www.kubeflow.org/docs/external-add-ons/kserve/first_isvc_kserve/\n",
    "* KServe 0.7.0 Sklearn v2: https://kserve.github.io/website/modelserving/v1beta1/sklearn/v2/\n",
    "* KServe 0.7 and 0.9 Schemas: https://kserve.github.io/website/master/get_started/first_isvc/#2-create-an-inferenceservice\n",
    "\n",
    "Notice:\\\n",
    "Different version of KServe e.g. 0.7.0 has different sklearnserver preloaded with certain version of `joblib` and `scikit-learn`. For KServe to serve a model with sklearnserver, your model must be compiled with the associated `joblib` and `scikit-learn` version from the `sklearnserver`, the setup of the `sklearnserver` can be found at:\n",
    "* https://github.com/kserve/kserve/blob/release-0.7/python/sklearnserver/setup.py\n",
    "* https://github.com/kserve/kserve/blob/release-0.8/python/sklearnserver/setup.py\n",
    "* https://github.com/kserve/kserve/blob/release-0.9/python/sklearnserver/setup.py\n",
    "\n",
    "\n",
    "Additional Resources:\n",
    "* Working Example for KServe backend 0.7.0 from KF 1.5.1 https://kserve.github.io/website/master/get_started/first_isvc/#4-determine-the-ingress-ip-and-ports\n",
    "* Connect with istio-dex (?): https://github.com/KServe/KServe/tree/master/docs/samples/istio-dex\n",
    "\n",
    "KF 1.6.1 has KServe 0.80\n",
    "* Sklearnserver 1.0.1 https://github.com/kserve/kserve/blob/release-0.8/python/sklearnserver/setup.py\n",
    "\n",
    "Issues:\n",
    "* The dashboard of KF 1.6.1 is showing the wrong model endpoint: https://github.com/kubeflow/manifests/issues/2180#issuecomment-1082045570\n",
    "\n",
    "Use `https://<kubeflow_domain>/_/kserve-endpoints/?ns=<namespace>` to see the endpoints or models"
   ]
  },
  {
   "cell_type": "code",
   "execution_count": 1,
   "id": "1d67d644-0f6a-4458-8dff-4bfd2ffbfc2b",
   "metadata": {},
   "outputs": [],
   "source": [
    "import sys"
   ]
  },
  {
   "cell_type": "code",
   "execution_count": 2,
   "id": "77f3fb30-5622-40a3-96a5-94e5722c6ce5",
   "metadata": {},
   "outputs": [
    {
     "name": "stdout",
     "output_type": "stream",
     "text": [
      "\u001b[33mWARNING: Skipping kfserving as it is not installed.\u001b[0m\n",
      "\u001b[33mWARNING: Skipping kserve as it is not installed.\u001b[0m\n",
      "Found existing installation: kfp 1.6.3\n",
      "Uninstalling kfp-1.6.3:\n",
      "  Successfully uninstalled kfp-1.6.3\n"
     ]
    }
   ],
   "source": [
    "# (optional) remove the kfserving before install the kserve\n",
    "!{sys.executable} -m pip uninstall -y kfserving kserve kfp"
   ]
  },
  {
   "cell_type": "code",
   "execution_count": 3,
   "id": "19eaa7dd-2675-4b37-b149-44b16741c3a5",
   "metadata": {},
   "outputs": [
    {
     "name": "stdout",
     "output_type": "stream",
     "text": [
      "Collecting kfp==1.8.19\n",
      "  Using cached kfp-1.8.19-py3-none-any.whl\n",
      "Collecting kserve==0.9.0\n",
      "  Using cached kserve-0.9.0-py3-none-any.whl (304 kB)\n",
      "Requirement already satisfied: google-cloud-storage<3,>=1.20.0 in /opt/conda/lib/python3.8/site-packages (from kfp==1.8.19) (1.42.3)\n",
      "Requirement already satisfied: fire<1,>=0.3.1 in /opt/conda/lib/python3.8/site-packages (from kfp==1.8.19) (0.4.0)\n",
      "Requirement already satisfied: kfp-pipeline-spec<0.2.0,>=0.1.16 in /home/jovyan/.local/lib/python3.8/site-packages (from kfp==1.8.19) (0.1.16)\n",
      "Requirement already satisfied: google-api-core!=2.0.*,!=2.1.*,!=2.2.*,!=2.3.0,<3.0.0dev,>=1.31.5 in /home/jovyan/.local/lib/python3.8/site-packages (from kfp==1.8.19) (1.31.5)\n",
      "Requirement already satisfied: cloudpickle<3,>=2.0.0 in /home/jovyan/.local/lib/python3.8/site-packages (from kfp==1.8.19) (2.0.0)\n",
      "Requirement already satisfied: kfp-server-api<2.0.0,>=1.1.2 in /home/jovyan/.local/lib/python3.8/site-packages (from kfp==1.8.19) (1.8.2)\n",
      "Requirement already satisfied: strip-hints<1,>=0.1.8 in /opt/conda/lib/python3.8/site-packages (from kfp==1.8.19) (0.1.10)\n",
      "Requirement already satisfied: Deprecated<2,>=1.2.7 in /opt/conda/lib/python3.8/site-packages (from kfp==1.8.19) (1.2.13)\n",
      "Requirement already satisfied: google-auth<3,>=1.6.1 in /opt/conda/lib/python3.8/site-packages (from kfp==1.8.19) (1.35.0)\n",
      "Requirement already satisfied: PyYAML<6,>=5.3 in /opt/conda/lib/python3.8/site-packages (from kfp==1.8.19) (5.4.1)\n",
      "Requirement already satisfied: requests-toolbelt<1,>=0.8.0 in /opt/conda/lib/python3.8/site-packages (from kfp==1.8.19) (0.9.1)\n",
      "Requirement already satisfied: absl-py<2,>=0.9 in /home/jovyan/.local/lib/python3.8/site-packages (from kfp==1.8.19) (1.2.0)\n",
      "Requirement already satisfied: typer<1.0,>=0.3.2 in /home/jovyan/.local/lib/python3.8/site-packages (from kfp==1.8.19) (0.4.0)\n",
      "Requirement already satisfied: google-api-python-client<2,>=1.7.8 in /opt/conda/lib/python3.8/site-packages (from kfp==1.8.19) (1.12.8)\n",
      "Requirement already satisfied: docstring-parser<1,>=0.7.3 in /opt/conda/lib/python3.8/site-packages (from kfp==1.8.19) (0.11)\n",
      "Requirement already satisfied: kubernetes<20,>=8.0.0 in /home/jovyan/.local/lib/python3.8/site-packages (from kfp==1.8.19) (18.20.0)\n",
      "Requirement already satisfied: jsonschema<5,>=3.0.1 in /opt/conda/lib/python3.8/site-packages (from kfp==1.8.19) (3.2.0)\n",
      "Requirement already satisfied: click<9,>=7.1.2 in /opt/conda/lib/python3.8/site-packages (from kfp==1.8.19) (7.1.2)\n",
      "Requirement already satisfied: typing-extensions<5,>=3.7.4 in /home/jovyan/.local/lib/python3.8/site-packages (from kfp==1.8.19) (4.5.0)\n",
      "Requirement already satisfied: pydantic<2,>=1.8.2 in /home/jovyan/.local/lib/python3.8/site-packages (from kfp==1.8.19) (1.9.0)\n",
      "Requirement already satisfied: tabulate<1,>=0.8.6 in /home/jovyan/.local/lib/python3.8/site-packages (from kfp==1.8.19) (0.9.0)\n",
      "Requirement already satisfied: uritemplate<4,>=3.0.1 in /opt/conda/lib/python3.8/site-packages (from kfp==1.8.19) (3.0.1)\n",
      "Requirement already satisfied: protobuf<4,>=3.13.0 in /home/jovyan/.local/lib/python3.8/site-packages (from kfp==1.8.19) (3.19.4)\n",
      "Requirement already satisfied: boto3==1.21.0 in /home/jovyan/.local/lib/python3.8/site-packages (from kserve==0.9.0) (1.21.0)\n",
      "Requirement already satisfied: urllib3>=1.26.8 in /home/jovyan/.local/lib/python3.8/site-packages (from kserve==0.9.0) (1.26.12)\n",
      "Requirement already satisfied: azure-identity>=1.8.0 in /home/jovyan/.local/lib/python3.8/site-packages (from kserve==0.9.0) (1.10.0)\n",
      "Requirement already satisfied: grpcio>=1.34.0 in /home/jovyan/.local/lib/python3.8/site-packages (from kserve==0.9.0) (1.43.0)\n",
      "Requirement already satisfied: tritonclient==2.18.0 in /home/jovyan/.local/lib/python3.8/site-packages (from kserve==0.9.0) (2.18.0)\n",
      "Requirement already satisfied: tornado>=6.1 in /opt/conda/lib/python3.8/site-packages (from kserve==0.9.0) (6.1)\n",
      "Requirement already satisfied: numpy~=1.21.5 in /home/jovyan/.local/lib/python3.8/site-packages (from kserve==0.9.0) (1.21.6)\n",
      "Collecting argparse>=1.4.0\n",
      "  Using cached argparse-1.4.0-py2.py3-none-any.whl (23 kB)\n",
      "Requirement already satisfied: python-dateutil>=2.8.0 in /opt/conda/lib/python3.8/site-packages (from kserve==0.9.0) (2.8.1)\n",
      "Requirement already satisfied: six>=1.16.0 in /opt/conda/lib/python3.8/site-packages (from kserve==0.9.0) (1.16.0)\n",
      "Requirement already satisfied: table-logger>=0.3.6 in /opt/conda/lib/python3.8/site-packages (from kserve==0.9.0) (0.3.6)\n",
      "Requirement already satisfied: adal>=1.2.7 in /opt/conda/lib/python3.8/site-packages (from kserve==0.9.0) (1.2.7)\n",
      "Requirement already satisfied: psutil>=5.9.0 in /home/jovyan/.local/lib/python3.8/site-packages (from kserve==0.9.0) (5.9.2)\n",
      "Requirement already satisfied: setuptools>=59.5.0 in /home/jovyan/.local/lib/python3.8/site-packages (from kserve==0.9.0) (65.3.0)\n",
      "Requirement already satisfied: minio<=7.1.3,>=4.0.9 in /opt/conda/lib/python3.8/site-packages (from kserve==0.9.0) (6.0.2)\n",
      "Requirement already satisfied: avro>=1.11.0 in /home/jovyan/.local/lib/python3.8/site-packages (from kserve==0.9.0) (1.11.1)\n",
      "Collecting ray[serve]==1.10.0\n",
      "  Using cached ray-1.10.0-cp38-cp38-manylinux2014_x86_64.whl (59.3 MB)\n",
      "Requirement already satisfied: azure-storage-blob==12.9.0 in /home/jovyan/.local/lib/python3.8/site-packages (from kserve==0.9.0) (12.9.0)\n",
      "Requirement already satisfied: azure-storage-file-share==12.7.0 in /home/jovyan/.local/lib/python3.8/site-packages (from kserve==0.9.0) (12.7.0)\n",
      "Requirement already satisfied: cloudevents>=1.2.0 in /home/jovyan/.local/lib/python3.8/site-packages (from kserve==0.9.0) (1.9.0)\n",
      "Requirement already satisfied: msrest>=0.6.21 in /home/jovyan/.local/lib/python3.8/site-packages (from azure-storage-blob==12.9.0->kserve==0.9.0) (0.7.1)\n",
      "Requirement already satisfied: cryptography>=2.1.4 in /opt/conda/lib/python3.8/site-packages (from azure-storage-blob==12.9.0->kserve==0.9.0) (3.4.7)\n",
      "Requirement already satisfied: azure-core<2.0.0,>=1.10.0 in /home/jovyan/.local/lib/python3.8/site-packages (from azure-storage-blob==12.9.0->kserve==0.9.0) (1.25.1)\n",
      "Requirement already satisfied: botocore<1.25.0,>=1.24.0 in /home/jovyan/.local/lib/python3.8/site-packages (from boto3==1.21.0->kserve==0.9.0) (1.24.46)\n",
      "Requirement already satisfied: jmespath<1.0.0,>=0.7.1 in /home/jovyan/.local/lib/python3.8/site-packages (from boto3==1.21.0->kserve==0.9.0) (0.10.0)\n",
      "Requirement already satisfied: s3transfer<0.6.0,>=0.5.0 in /home/jovyan/.local/lib/python3.8/site-packages (from boto3==1.21.0->kserve==0.9.0) (0.5.2)\n",
      "Requirement already satisfied: attrs in /opt/conda/lib/python3.8/site-packages (from ray[serve]==1.10.0->kserve==0.9.0) (21.2.0)\n",
      "Requirement already satisfied: filelock in /home/jovyan/.local/lib/python3.8/site-packages (from ray[serve]==1.10.0->kserve==0.9.0) (3.8.0)\n",
      "Requirement already satisfied: msgpack<2.0.0,>=1.0.0 in /home/jovyan/.local/lib/python3.8/site-packages (from ray[serve]==1.10.0->kserve==0.9.0) (1.0.4)\n",
      "Requirement already satisfied: redis>=3.5.0 in /home/jovyan/.local/lib/python3.8/site-packages (from ray[serve]==1.10.0->kserve==0.9.0) (4.3.4)\n",
      "Requirement already satisfied: aioredis<2 in /home/jovyan/.local/lib/python3.8/site-packages (from ray[serve]==1.10.0->kserve==0.9.0) (1.3.1)\n",
      "Requirement already satisfied: uvicorn in /home/jovyan/.local/lib/python3.8/site-packages (from ray[serve]==1.10.0->kserve==0.9.0) (0.16.0)\n",
      "Requirement already satisfied: opencensus in /home/jovyan/.local/lib/python3.8/site-packages (from ray[serve]==1.10.0->kserve==0.9.0) (0.11.0)\n",
      "Requirement already satisfied: aiohttp-cors in /home/jovyan/.local/lib/python3.8/site-packages (from ray[serve]==1.10.0->kserve==0.9.0) (0.7.0)\n",
      "Requirement already satisfied: smart-open in /home/jovyan/.local/lib/python3.8/site-packages (from ray[serve]==1.10.0->kserve==0.9.0) (6.1.0)\n",
      "Requirement already satisfied: requests in /home/jovyan/.local/lib/python3.8/site-packages (from ray[serve]==1.10.0->kserve==0.9.0) (2.28.1)\n",
      "Requirement already satisfied: py-spy>=0.2.0 in /home/jovyan/.local/lib/python3.8/site-packages (from ray[serve]==1.10.0->kserve==0.9.0) (0.3.14)\n",
      "Requirement already satisfied: aiohttp>=3.7 in /home/jovyan/.local/lib/python3.8/site-packages (from ray[serve]==1.10.0->kserve==0.9.0) (3.8.1)\n",
      "Requirement already satisfied: aiorwlock in /home/jovyan/.local/lib/python3.8/site-packages (from ray[serve]==1.10.0->kserve==0.9.0) (1.3.0)\n",
      "Requirement already satisfied: frozenlist in /home/jovyan/.local/lib/python3.8/site-packages (from ray[serve]==1.10.0->kserve==0.9.0) (1.3.1)\n",
      "Requirement already satisfied: colorful in /home/jovyan/.local/lib/python3.8/site-packages (from ray[serve]==1.10.0->kserve==0.9.0) (0.5.4)\n",
      "Requirement already satisfied: aiosignal in /home/jovyan/.local/lib/python3.8/site-packages (from ray[serve]==1.10.0->kserve==0.9.0) (1.2.0)\n",
      "Requirement already satisfied: prometheus-client>=0.7.1 in /home/jovyan/.local/lib/python3.8/site-packages (from ray[serve]==1.10.0->kserve==0.9.0) (0.13.1)\n",
      "Requirement already satisfied: starlette in /home/jovyan/.local/lib/python3.8/site-packages (from ray[serve]==1.10.0->kserve==0.9.0) (0.22.0)\n",
      "Requirement already satisfied: fastapi in /home/jovyan/.local/lib/python3.8/site-packages (from ray[serve]==1.10.0->kserve==0.9.0) (0.88.0)\n",
      "Requirement already satisfied: gpustat>=1.0.0b1 in /home/jovyan/.local/lib/python3.8/site-packages (from ray[serve]==1.10.0->kserve==0.9.0) (1.0.0)\n",
      "Requirement already satisfied: python-rapidjson>=0.9.1 in /home/jovyan/.local/lib/python3.8/site-packages (from tritonclient==2.18.0->kserve==0.9.0) (1.8)\n",
      "Requirement already satisfied: PyJWT<3,>=1.0.0 in /opt/conda/lib/python3.8/site-packages (from adal>=1.2.7->kserve==0.9.0) (2.2.0)\n",
      "Requirement already satisfied: yarl<2.0,>=1.0 in /home/jovyan/.local/lib/python3.8/site-packages (from aiohttp>=3.7->ray[serve]==1.10.0->kserve==0.9.0) (1.8.1)\n",
      "Requirement already satisfied: async-timeout<5.0,>=4.0.0a3 in /home/jovyan/.local/lib/python3.8/site-packages (from aiohttp>=3.7->ray[serve]==1.10.0->kserve==0.9.0) (4.0.2)\n",
      "Requirement already satisfied: charset-normalizer<3.0,>=2.0 in /home/jovyan/.local/lib/python3.8/site-packages (from aiohttp>=3.7->ray[serve]==1.10.0->kserve==0.9.0) (2.1.1)\n",
      "Requirement already satisfied: multidict<7.0,>=4.5 in /home/jovyan/.local/lib/python3.8/site-packages (from aiohttp>=3.7->ray[serve]==1.10.0->kserve==0.9.0) (6.0.2)\n",
      "Requirement already satisfied: hiredis in /home/jovyan/.local/lib/python3.8/site-packages (from aioredis<2->ray[serve]==1.10.0->kserve==0.9.0) (2.0.0)\n",
      "Requirement already satisfied: msal-extensions<2.0.0,>=0.3.0 in /home/jovyan/.local/lib/python3.8/site-packages (from azure-identity>=1.8.0->kserve==0.9.0) (1.0.0)\n",
      "Requirement already satisfied: msal<2.0.0,>=1.12.0 in /home/jovyan/.local/lib/python3.8/site-packages (from azure-identity>=1.8.0->kserve==0.9.0) (1.18.0)\n",
      "Requirement already satisfied: deprecation<3.0,>=2.0 in /opt/conda/lib/python3.8/site-packages (from cloudevents>=1.2.0->kserve==0.9.0) (2.1.0)\n",
      "Requirement already satisfied: cffi>=1.12 in /opt/conda/lib/python3.8/site-packages (from cryptography>=2.1.4->azure-storage-blob==12.9.0->kserve==0.9.0) (1.14.5)\n",
      "Requirement already satisfied: pycparser in /opt/conda/lib/python3.8/site-packages (from cffi>=1.12->cryptography>=2.1.4->azure-storage-blob==12.9.0->kserve==0.9.0) (2.20)\n",
      "Requirement already satisfied: wrapt<2,>=1.10 in /opt/conda/lib/python3.8/site-packages (from Deprecated<2,>=1.2.7->kfp==1.8.19) (1.13.1)\n",
      "Requirement already satisfied: packaging in /opt/conda/lib/python3.8/site-packages (from deprecation<3.0,>=2.0->cloudevents>=1.2.0->kserve==0.9.0) (20.9)\n",
      "Requirement already satisfied: termcolor in /opt/conda/lib/python3.8/site-packages (from fire<1,>=0.3.1->kfp==1.8.19) (1.1.0)\n",
      "Requirement already satisfied: pytz in /opt/conda/lib/python3.8/site-packages (from google-api-core!=2.0.*,!=2.1.*,!=2.2.*,!=2.3.0,<3.0.0dev,>=1.31.5->kfp==1.8.19) (2021.1)\n",
      "Requirement already satisfied: googleapis-common-protos<2.0dev,>=1.6.0 in /opt/conda/lib/python3.8/site-packages (from google-api-core!=2.0.*,!=2.1.*,!=2.2.*,!=2.3.0,<3.0.0dev,>=1.31.5->kfp==1.8.19) (1.53.0)\n",
      "Requirement already satisfied: httplib2<1dev,>=0.15.0 in /opt/conda/lib/python3.8/site-packages (from google-api-python-client<2,>=1.7.8->kfp==1.8.19) (0.20.1)\n",
      "Requirement already satisfied: google-auth-httplib2>=0.0.3 in /opt/conda/lib/python3.8/site-packages (from google-api-python-client<2,>=1.7.8->kfp==1.8.19) (0.1.0)\n",
      "Requirement already satisfied: rsa<5,>=3.1.4 in /opt/conda/lib/python3.8/site-packages (from google-auth<3,>=1.6.1->kfp==1.8.19) (4.7.2)\n",
      "Requirement already satisfied: pyasn1-modules>=0.2.1 in /opt/conda/lib/python3.8/site-packages (from google-auth<3,>=1.6.1->kfp==1.8.19) (0.2.8)\n",
      "Requirement already satisfied: cachetools<5.0,>=2.0.0 in /opt/conda/lib/python3.8/site-packages (from google-auth<3,>=1.6.1->kfp==1.8.19) (4.2.4)\n",
      "Requirement already satisfied: google-resumable-media<3.0dev,>=1.3.0 in /opt/conda/lib/python3.8/site-packages (from google-cloud-storage<3,>=1.20.0->kfp==1.8.19) (2.0.3)\n",
      "Requirement already satisfied: google-cloud-core<3.0dev,>=1.6.0 in /opt/conda/lib/python3.8/site-packages (from google-cloud-storage<3,>=1.20.0->kfp==1.8.19) (2.1.0)\n",
      "Requirement already satisfied: google-crc32c<2.0dev,>=1.0 in /opt/conda/lib/python3.8/site-packages (from google-resumable-media<3.0dev,>=1.3.0->google-cloud-storage<3,>=1.20.0->kfp==1.8.19) (1.3.0)\n",
      "Requirement already satisfied: blessed>=1.17.1 in /home/jovyan/.local/lib/python3.8/site-packages (from gpustat>=1.0.0b1->ray[serve]==1.10.0->kserve==0.9.0) (1.19.1)\n",
      "Requirement already satisfied: nvidia-ml-py<=11.495.46,>=11.450.129 in /home/jovyan/.local/lib/python3.8/site-packages (from gpustat>=1.0.0b1->ray[serve]==1.10.0->kserve==0.9.0) (11.495.46)\n",
      "Requirement already satisfied: wcwidth>=0.1.4 in /opt/conda/lib/python3.8/site-packages (from blessed>=1.17.1->gpustat>=1.0.0b1->ray[serve]==1.10.0->kserve==0.9.0) (0.2.5)\n",
      "Requirement already satisfied: pyparsing<3,>=2.4.2 in /opt/conda/lib/python3.8/site-packages (from httplib2<1dev,>=0.15.0->google-api-python-client<2,>=1.7.8->kfp==1.8.19) (2.4.7)\n",
      "Requirement already satisfied: pyrsistent>=0.14.0 in /opt/conda/lib/python3.8/site-packages (from jsonschema<5,>=3.0.1->kfp==1.8.19) (0.17.3)\n",
      "Requirement already satisfied: certifi in /opt/conda/lib/python3.8/site-packages (from kfp-server-api<2.0.0,>=1.1.2->kfp==1.8.19) (2021.5.30)\n",
      "Requirement already satisfied: requests-oauthlib in /opt/conda/lib/python3.8/site-packages (from kubernetes<20,>=8.0.0->kfp==1.8.19) (1.3.0)\n",
      "Requirement already satisfied: websocket-client!=0.40.0,!=0.41.*,!=0.42.*,>=0.32.0 in /opt/conda/lib/python3.8/site-packages (from kubernetes<20,>=8.0.0->kfp==1.8.19) (1.0.1)\n",
      "Requirement already satisfied: configparser in /opt/conda/lib/python3.8/site-packages (from minio<=7.1.3,>=4.0.9->kserve==0.9.0) (5.0.2)\n",
      "Requirement already satisfied: portalocker<3,>=1.0 in /home/jovyan/.local/lib/python3.8/site-packages (from msal-extensions<2.0.0,>=0.3.0->azure-identity>=1.8.0->kserve==0.9.0) (2.5.1)\n",
      "Requirement already satisfied: isodate>=0.6.0 in /home/jovyan/.local/lib/python3.8/site-packages (from msrest>=0.6.21->azure-storage-blob==12.9.0->kserve==0.9.0) (0.6.1)\n",
      "Requirement already satisfied: pyasn1<0.5.0,>=0.4.6 in /opt/conda/lib/python3.8/site-packages (from pyasn1-modules>=0.2.1->google-auth<3,>=1.6.1->kfp==1.8.19) (0.4.8)\n",
      "Requirement already satisfied: idna<4,>=2.5 in /opt/conda/lib/python3.8/site-packages (from requests->ray[serve]==1.10.0->kserve==0.9.0) (2.10)\n",
      "Requirement already satisfied: oauthlib>=3.0.0 in /opt/conda/lib/python3.8/site-packages (from requests-oauthlib->kubernetes<20,>=8.0.0->kfp==1.8.19) (3.1.1)\n",
      "Requirement already satisfied: wheel in /opt/conda/lib/python3.8/site-packages (from strip-hints<1,>=0.1.8->kfp==1.8.19) (0.36.2)\n",
      "Requirement already satisfied: anyio<5,>=3.4.0 in /home/jovyan/.local/lib/python3.8/site-packages (from starlette->ray[serve]==1.10.0->kserve==0.9.0) (3.6.1)\n",
      "Requirement already satisfied: sniffio>=1.1 in /opt/conda/lib/python3.8/site-packages (from anyio<5,>=3.4.0->starlette->ray[serve]==1.10.0->kserve==0.9.0) (1.2.0)\n",
      "Requirement already satisfied: opencensus-context>=0.1.3 in /home/jovyan/.local/lib/python3.8/site-packages (from opencensus->ray[serve]==1.10.0->kserve==0.9.0) (0.1.3)\n",
      "Requirement already satisfied: asgiref>=3.4.0 in /home/jovyan/.local/lib/python3.8/site-packages (from uvicorn->ray[serve]==1.10.0->kserve==0.9.0) (3.6.0)\n",
      "Requirement already satisfied: h11>=0.8 in /home/jovyan/.local/lib/python3.8/site-packages (from uvicorn->ray[serve]==1.10.0->kserve==0.9.0) (0.13.0)\n",
      "Installing collected packages: ray, argparse, kserve, kfp\n",
      "  Attempting uninstall: ray\n",
      "    Found existing installation: ray 2.0.0\n",
      "    Uninstalling ray-2.0.0:\n",
      "      Successfully uninstalled ray-2.0.0\n",
      "\u001b[33m  WARNING: The scripts ray, ray-operator, rllib, serve and tune are installed in '/home/jovyan/.local/bin' which is not on PATH.\n",
      "  Consider adding this directory to PATH or, if you prefer to suppress this warning, use --no-warn-script-location.\u001b[0m\n",
      "\u001b[33m  WARNING: The scripts dsl-compile, dsl-compile-v2 and kfp are installed in '/home/jovyan/.local/bin' which is not on PATH.\n",
      "  Consider adding this directory to PATH or, if you prefer to suppress this warning, use --no-warn-script-location.\u001b[0m\n",
      "Successfully installed argparse-1.4.0 kfp-1.8.19 kserve-0.9.0 ray-1.10.0\n"
     ]
    }
   ],
   "source": [
    "# !{sys.executable} -m pip install --upgrade --user kfp==1.8.19 kserve==0.9.0\n",
    "!{sys.executable} -m pip install --upgrade --user kfp==1.8.19 kserve==0.9.0"
   ]
  },
  {
   "cell_type": "code",
   "execution_count": 4,
   "id": "676fbbed-e09f-4118-9915-919803b3e03d",
   "metadata": {},
   "outputs": [],
   "source": [
    "from kubernetes import client \n",
    "from kserve import KServeClient\n",
    "from kserve import constants\n",
    "from kserve import utils\n",
    "from kserve import V1beta1InferenceService\n",
    "from kserve import V1beta1InferenceServiceSpec\n",
    "from kserve import V1beta1PredictorSpec\n",
    "from kserve import V1beta1SKLearnSpec"
   ]
  },
  {
   "cell_type": "code",
   "execution_count": 5,
   "id": "59481a9b-49aa-43d8-b0cf-c734a885a571",
   "metadata": {},
   "outputs": [],
   "source": [
    "namespace = utils.get_default_target_namespace()\n",
    "name='sklearn-iris'\n",
    "kserve_version='v1beta1'\n",
    "api_version = constants.KSERVE_GROUP + '/' + kserve_version\n",
    "model_storage_uri = \"gs://kfserving-examples/models/sklearn/1.0/model\" # compiled with sklearn 1.0.1\n",
    "# model_storage_uri = \"gs://seldon-models/sklearn/iris\" # compiled with sklearn 0.23.1\n",
    "model_protocol_version = \"v2\""
   ]
  },
  {
   "cell_type": "code",
   "execution_count": 6,
   "id": "7b63ffda-7419-4995-a2aa-b8cf414ed2e0",
   "metadata": {},
   "outputs": [],
   "source": [
    "# this is still the old schema for kserve 0.7.0\n",
    "# From the KServe 0.7.0 example: https://kserve.github.io/website/modelserving/v1beta1/sklearn/v2/\n",
    "# For the new schema for kserve 0.9.0 see: https://kserve.github.io/website/master/get_started/first_isvc/\n",
    "isvc = V1beta1InferenceService(api_version=api_version,\n",
    "                               kind=constants.KSERVE_KIND,\n",
    "                               metadata=client.V1ObjectMeta(\n",
    "                                   name=name, namespace=namespace, annotations={'sidecar.istio.io/inject':'false'}),\n",
    "                               spec=V1beta1InferenceServiceSpec(\n",
    "                               predictor=V1beta1PredictorSpec(\n",
    "                               sklearn=(V1beta1SKLearnSpec(\n",
    "                                   protocol_version=model_protocol_version,\n",
    "                                   storage_uri=model_storage_uri))))\n",
    ")"
   ]
  },
  {
   "cell_type": "code",
   "execution_count": 7,
   "id": "aec6d684-7c10-4f82-9a98-cf70ed53b3cd",
   "metadata": {},
   "outputs": [],
   "source": [
    "KServe = KServeClient()"
   ]
  },
  {
   "cell_type": "code",
   "execution_count": 10,
   "id": "d5317972-9b77-4d29-add1-fe3004d4eff0",
   "metadata": {},
   "outputs": [
    {
     "data": {
      "text/plain": [
       "{'apiVersion': 'serving.kserve.io/v1beta1',\n",
       " 'kind': 'InferenceService',\n",
       " 'metadata': {'annotations': {'sidecar.istio.io/inject': 'false'},\n",
       "  'creationTimestamp': '2023-04-19T20:03:51Z',\n",
       "  'deletionGracePeriodSeconds': 0,\n",
       "  'deletionTimestamp': '2023-04-19T20:12:04Z',\n",
       "  'finalizers': ['inferenceservice.finalizers'],\n",
       "  'generation': 3,\n",
       "  'labels': {'modelClass': 'mlserver_sklearn.SKLearnModel'},\n",
       "  'managedFields': [{'apiVersion': 'serving.kserve.io/v1beta1',\n",
       "    'fieldsType': 'FieldsV1',\n",
       "    'fieldsV1': {'f:metadata': {'f:annotations': {'.': {},\n",
       "       'f:sidecar.istio.io/inject': {}}},\n",
       "     'f:spec': {'.': {},\n",
       "      'f:predictor': {'.': {},\n",
       "       'f:sklearn': {'.': {},\n",
       "        'f:name': {},\n",
       "        'f:protocolVersion': {},\n",
       "        'f:storageUri': {}}}}},\n",
       "    'manager': 'OpenAPI-Generator',\n",
       "    'operation': 'Update',\n",
       "    'time': '2023-04-19T20:03:48Z'},\n",
       "   {'apiVersion': 'serving.kserve.io/v1beta1',\n",
       "    'fieldsType': 'FieldsV1',\n",
       "    'fieldsV1': {'f:metadata': {'f:finalizers': {'.': {},\n",
       "       'v:\"inferenceservice.finalizers\"': {}}},\n",
       "     'f:status': {'.': {},\n",
       "      'f:address': {'.': {}, 'f:url': {}},\n",
       "      'f:components': {'.': {},\n",
       "       'f:predictor': {'.': {},\n",
       "        'f:address': {'.': {}, 'f:url': {}},\n",
       "        'f:latestCreatedRevision': {},\n",
       "        'f:latestReadyRevision': {},\n",
       "        'f:latestRolledoutRevision': {},\n",
       "        'f:traffic': {},\n",
       "        'f:url': {}}},\n",
       "      'f:conditions': {},\n",
       "      'f:url': {}}},\n",
       "    'manager': 'manager',\n",
       "    'operation': 'Update',\n",
       "    'time': '2023-04-19T20:05:24Z'}],\n",
       "  'name': 'sklearn-iris',\n",
       "  'namespace': 'kubeflow-kindfor',\n",
       "  'resourceVersion': '1297955842',\n",
       "  'uid': '85dde5b5-2325-459f-8aa9-4283c5070a29'},\n",
       " 'spec': {'predictor': {'model': {'env': [{'name': 'MLSERVER_MODEL_NAME',\n",
       "      'value': 'sklearn-iris'},\n",
       "     {'name': 'MLSERVER_MODEL_URI', 'value': '/mnt/models'},\n",
       "     {'name': 'MLSERVER_MODEL_NAME', 'value': 'sklearn-iris'},\n",
       "     {'name': 'MLSERVER_MODEL_URI', 'value': '/mnt/models'}],\n",
       "    'modelFormat': {'name': 'sklearn'},\n",
       "    'name': '',\n",
       "    'protocolVersion': 'v2',\n",
       "    'resources': {},\n",
       "    'runtime': 'kserve-mlserver',\n",
       "    'storageUri': 'gs://kfserving-examples/models/sklearn/1.0/model'}}},\n",
       " 'status': {'address': {'url': 'http://sklearn-iris.kubeflow-kindfor.svc.cluster.local/v2/models/sklearn-iris/infer'},\n",
       "  'components': {'predictor': {'address': {'url': 'http://sklearn-iris-predictor-default.kubeflow-kindfor.svc.cluster.local'},\n",
       "    'latestCreatedRevision': 'sklearn-iris-predictor-default-00001',\n",
       "    'latestReadyRevision': 'sklearn-iris-predictor-default-00001',\n",
       "    'latestRolledoutRevision': 'sklearn-iris-predictor-default-00001',\n",
       "    'traffic': [{'latestRevision': True,\n",
       "      'percent': 100,\n",
       "      'revisionName': 'sklearn-iris-predictor-default-00001'}],\n",
       "    'url': 'http://sklearn-iris-predictor-default.kubeflow-kindfor.example.com'}},\n",
       "  'conditions': [{'lastTransitionTime': '2023-04-19T20:11:26Z',\n",
       "    'status': 'True',\n",
       "    'type': 'IngressReady'},\n",
       "   {'lastTransitionTime': '2023-04-19T20:05:24Z',\n",
       "    'severity': 'Info',\n",
       "    'status': 'True',\n",
       "    'type': 'PredictorConfigurationReady'},\n",
       "   {'lastTransitionTime': '2023-04-19T20:11:26Z',\n",
       "    'status': 'True',\n",
       "    'type': 'PredictorReady'},\n",
       "   {'lastTransitionTime': '2023-04-19T20:11:26Z',\n",
       "    'severity': 'Info',\n",
       "    'status': 'True',\n",
       "    'type': 'PredictorRouteReady'},\n",
       "   {'lastTransitionTime': '2023-04-19T20:11:26Z',\n",
       "    'status': 'True',\n",
       "    'type': 'Ready'}],\n",
       "  'url': 'http://sklearn-iris.kubeflow-kindfor.example.com'}}"
      ]
     },
     "execution_count": 10,
     "metadata": {},
     "output_type": "execute_result"
    }
   ],
   "source": [
    "# optional, remove the old model\n",
    "# KServe.delete(name, namespace=namespace)"
   ]
  },
  {
   "cell_type": "code",
   "execution_count": 11,
   "id": "88d52dbf-f64e-4198-8a2a-2143ff0b0cf5",
   "metadata": {},
   "outputs": [
    {
     "data": {
      "text/plain": [
       "{'apiVersion': 'serving.kserve.io/v1beta1',\n",
       " 'kind': 'InferenceService',\n",
       " 'metadata': {'annotations': {'sidecar.istio.io/inject': 'false'},\n",
       "  'creationTimestamp': '2023-04-19T20:12:26Z',\n",
       "  'generation': 1,\n",
       "  'labels': {'modelClass': 'mlserver_sklearn.SKLearnModel'},\n",
       "  'managedFields': [{'apiVersion': 'serving.kserve.io/v1beta1',\n",
       "    'fieldsType': 'FieldsV1',\n",
       "    'fieldsV1': {'f:metadata': {'f:annotations': {'.': {},\n",
       "       'f:sidecar.istio.io/inject': {}}},\n",
       "     'f:spec': {'.': {},\n",
       "      'f:predictor': {'.': {},\n",
       "       'f:sklearn': {'.': {},\n",
       "        'f:name': {},\n",
       "        'f:protocolVersion': {},\n",
       "        'f:storageUri': {}}}}},\n",
       "    'manager': 'OpenAPI-Generator',\n",
       "    'operation': 'Update',\n",
       "    'time': '2023-04-19T20:12:22Z'}],\n",
       "  'name': 'sklearn-iris',\n",
       "  'namespace': 'kubeflow-kindfor',\n",
       "  'resourceVersion': '1297956997',\n",
       "  'uid': 'e2430a61-941e-4a4c-8d4f-aced3844fdc2'},\n",
       " 'spec': {'predictor': {'model': {'env': [{'name': 'MLSERVER_MODEL_NAME',\n",
       "      'value': 'sklearn-iris'},\n",
       "     {'name': 'MLSERVER_MODEL_URI', 'value': '/mnt/models'}],\n",
       "    'modelFormat': {'name': 'sklearn'},\n",
       "    'name': '',\n",
       "    'protocolVersion': 'v2',\n",
       "    'resources': {},\n",
       "    'runtime': 'kserve-mlserver',\n",
       "    'storageUri': 'gs://kfserving-examples/models/sklearn/1.0/model'}}}}"
      ]
     },
     "execution_count": 11,
     "metadata": {},
     "output_type": "execute_result"
    }
   ],
   "source": [
    "KServe.create(isvc)"
   ]
  },
  {
   "cell_type": "code",
   "execution_count": 24,
   "id": "06509f05-0272-4bde-97ec-654196900cdf",
   "metadata": {},
   "outputs": [
    {
     "name": "stdout",
     "output_type": "stream",
     "text": [
      "NAME                 READY                           PREV                    LATEST URL                                                              \n",
      "sklearn-iris         True                               0                       100 http://sklearn-iris.kubeflow-kindfor.example.com                 \n"
     ]
    }
   ],
   "source": [
    "a = KServe.get(name, namespace=namespace, watch=True, timeout_seconds=120)"
   ]
  },
  {
   "cell_type": "markdown",
   "id": "8351bc51-7222-4dbc-b64b-18a1d3677a22",
   "metadata": {
    "tags": []
   },
   "source": [
    "### Call the inference service endpoint\n",
    "* https://kserve.github.io/website/master/get_started/first_isvc/#5-perform-inference\n",
    "* Setup knative gateway: https://knative.dev/docs/serving/setting-up-custom-ingress-gateway/"
   ]
  },
  {
   "cell_type": "code",
   "execution_count": 14,
   "id": "c45f031d-0a1c-468f-a0d7-011767142581",
   "metadata": {},
   "outputs": [
    {
     "name": "stdout",
     "output_type": "stream",
     "text": [
      "URL External http://sklearn-iris.kubeflow-kindfor.example.com\n",
      "URL Internal http://sklearn-iris.kubeflow-kindfor.svc.cluster.local/v2/models/sklearn-iris/infer\n"
     ]
    }
   ],
   "source": [
    "import requests\n",
    "from requests.sessions import Session\n",
    "\n",
    "isvc_resp = KServe.get(name, namespace=namespace)\n",
    "isvc_url_external = isvc_resp['status']['url']\n",
    "isvc_url_internal = isvc_resp['status']['address']['url']\n",
    "print(f\"URL External {isvc_url_external}\")\n",
    "print(f\"URL Internal {isvc_url_internal}\")"
   ]
  },
  {
   "cell_type": "markdown",
   "id": "3fbe7547-2b96-46c8-80c0-94c1466068b6",
   "metadata": {},
   "source": [
    "### Inference with first data sample"
   ]
  },
  {
   "cell_type": "code",
   "execution_count": 15,
   "id": "21341a33-f068-492c-989f-12c6b8cddc7f",
   "metadata": {},
   "outputs": [
    {
     "name": "stdout",
     "output_type": "stream",
     "text": [
      "{\"model_name\":\"sklearn-iris\",\"model_version\":null,\"id\":\"d18f30a9-4440-495d-8594-8c708220a13e\",\"parameters\":null,\"outputs\":[{\"name\":\"predict\",\"shape\":[2],\"datatype\":\"INT32\",\"parameters\":null,\"data\":[1,1]}]}\n",
      "\n",
      "Inference result: [1, 1]\n"
     ]
    }
   ],
   "source": [
    "# https://kserve.github.io/website/modelserving/v1beta1/sklearn/v2/\n",
    "inference_input = {\n",
    "  \"inputs\": [\n",
    "    {\n",
    "      \"name\": \"input-0\",\n",
    "      \"shape\": [2, 4],\n",
    "      \"datatype\": \"FP32\",\n",
    "      \"data\": [\n",
    "        [6.8, 2.8, 4.8, 1.4],\n",
    "        [6.0, 3.4, 4.5, 1.6]\n",
    "      ]\n",
    "    }\n",
    "  ]\n",
    "}\n",
    "\n",
    "response = requests.post(isvc_url_internal, json=inference_input)\n",
    "print(response.text)\n",
    "print(f\"\\nInference result: {response.json()['outputs'][0]['data']}\")"
   ]
  },
  {
   "cell_type": "markdown",
   "id": "acc04b6c-7d37-41b3-b5fa-204ad4f4ddd6",
   "metadata": {},
   "source": [
    "### Inference with second data sample"
   ]
  },
  {
   "cell_type": "code",
   "execution_count": 16,
   "id": "199cb3a0-078e-4206-91b3-388ae24bc800",
   "metadata": {},
   "outputs": [
    {
     "name": "stdout",
     "output_type": "stream",
     "text": [
      "{\"model_name\":\"sklearn-iris\",\"model_version\":null,\"id\":\"1114b2c3-8bb8-48f8-8084-d1a80739acd6\",\"parameters\":null,\"outputs\":[{\"name\":\"predict\",\"shape\":[2],\"datatype\":\"INT32\",\"parameters\":null,\"data\":[2,1]}]}\n",
      "\n",
      "Inference result: [2, 1]\n"
     ]
    }
   ],
   "source": [
    "inference_input = {\n",
    "  \"inputs\": [\n",
    "    {\n",
    "      \"name\": \"input-0\",\n",
    "      \"shape\": [2, 4],\n",
    "      \"datatype\": \"FP32\",\n",
    "      \"data\": [\n",
    "        [9.0, 3.8, 6.8, 2.4],\n",
    "        [6.0, 3.4, 4.5, 1.6]\n",
    "      ]\n",
    "    }\n",
    "  ]\n",
    "}\n",
    "response = requests.post(isvc_url_internal, json=inference_input)\n",
    "print(response.text)\n",
    "print(f\"\\nInference result: {response.json()['outputs'][0]['data']}\")"
   ]
  },
  {
   "cell_type": "code",
   "execution_count": null,
   "id": "21d2a33f-cbf3-4f34-bca7-1e3edb4746a0",
   "metadata": {},
   "outputs": [],
   "source": [
    "# optional\n",
    "# KServe.delete(name, namespace=namespace)"
   ]
  },
  {
   "cell_type": "code",
   "execution_count": null,
   "id": "e1bb62e1-c8bb-43db-9002-b333404bfa16",
   "metadata": {},
   "outputs": [],
   "source": []
  }
 ],
 "metadata": {
  "kernelspec": {
   "display_name": "Python 3",
   "language": "python",
   "name": "python3"
  },
  "language_info": {
   "codemirror_mode": {
    "name": "ipython",
    "version": 3
   },
   "file_extension": ".py",
   "mimetype": "text/x-python",
   "name": "python",
   "nbconvert_exporter": "python",
   "pygments_lexer": "ipython3",
   "version": "3.8.10"
  }
 },
 "nbformat": 4,
 "nbformat_minor": 5
}
