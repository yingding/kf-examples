{
 "cells": [
  {
   "cell_type": "markdown",
   "id": "ea6590e0-9fb1-4fac-bf0c-c0c96a838b2f",
   "metadata": {},
   "source": [
    "## Toy notebook for Kubeflow pipeline V1 on KF 1.7.0 manifests deployement\n",
    "\n",
    "* Python function based componet https://www.kubeflow.org/docs/components/pipelines/v1/sdk/python-function-components/\n",
    "* Build pipeline v1 https://www.kubeflow.org/docs/components/pipelines/v1/sdk/build-pipeline/\n",
    "\n",
    "\n",
    "The default Kubeflow 1.7.0 Notebooks shall use the following KF SDKs libs\n",
    "\n",
    "```console\n",
    "kfp                      1.8.22\n",
    "kfp-pipeline-spec        0.1.16\n",
    "kfp-server-api           1.8.5\n",
    "```"
   ]
  },
  {
   "cell_type": "code",
   "execution_count": 1,
   "id": "4c2847df-f74a-4727-9f2c-a3096a15c33b",
   "metadata": {},
   "outputs": [],
   "source": [
    "import sys"
   ]
  },
  {
   "cell_type": "code",
   "execution_count": 2,
   "id": "dbf9af6d-762a-4831-ab2d-74318d6d3a46",
   "metadata": {},
   "outputs": [
    {
     "name": "stdout",
     "output_type": "stream",
     "text": [
      "current platform python version: 3.8.10\n"
     ]
    }
   ],
   "source": [
    "from platform import python_version\n",
    "print (f\"current platform python version: {python_version()}\")"
   ]
  },
  {
   "cell_type": "code",
   "execution_count": 58,
   "id": "20bcf92f-bc74-43aa-aef9-8af132381390",
   "metadata": {},
   "outputs": [
    {
     "name": "stdout",
     "output_type": "stream",
     "text": [
      "Found existing installation: kfp-server-api 1.8.5\n",
      "Uninstalling kfp-server-api-1.8.5:\n",
      "  Successfully uninstalled kfp-server-api-1.8.5\n",
      "\u001b[33mWARNING: Skipping kfp-kubernetes as it is not installed.\u001b[0m\u001b[33m\n",
      "\u001b[0mFound existing installation: kfp-pipeline-spec 0.1.16\n",
      "Uninstalling kfp-pipeline-spec-0.1.16:\n",
      "  Successfully uninstalled kfp-pipeline-spec-0.1.16\n"
     ]
    }
   ],
   "source": [
    "# safely remove old kfp sdk dependency just in case update doesn't work\n",
    "!{sys.executable} -m pip uninstall -y kfp-server-api kfp-kubernetes kfp-pipeline-spec"
   ]
  },
  {
   "cell_type": "code",
   "execution_count": 59,
   "id": "3ea32c70-926e-4cd4-86c2-f1df2ca326f5",
   "metadata": {},
   "outputs": [
    {
     "name": "stdout",
     "output_type": "stream",
     "text": [
      "Requirement already satisfied: kfp==1.8.22 in ./.local/lib/python3.8/site-packages (1.8.22)\n",
      "Requirement already satisfied: strip-hints<1,>=0.1.8 in /opt/conda/lib/python3.8/site-packages (from kfp==1.8.22) (0.1.10)\n",
      "Requirement already satisfied: PyYAML<7,>=5.3 in /opt/conda/lib/python3.8/site-packages (from kfp==1.8.22) (5.4.1)\n",
      "Requirement already satisfied: kfp-server-api<2.0.0,>=1.1.2 in /opt/conda/lib/python3.8/site-packages (from kfp==1.8.22) (1.6.0)\n",
      "Requirement already satisfied: protobuf<4,>=3.13.0 in /opt/conda/lib/python3.8/site-packages (from kfp==1.8.22) (3.17.3)\n",
      "Requirement already satisfied: typing-extensions<5,>=3.7.4 in /opt/conda/lib/python3.8/site-packages (from kfp==1.8.22) (4.5.0)\n",
      "Requirement already satisfied: kfp-pipeline-spec<0.2.0,>=0.1.16 in /opt/conda/lib/python3.8/site-packages (from kfp==1.8.22) (0.1.16)\n",
      "Requirement already satisfied: uritemplate<4,>=3.0.1 in /opt/conda/lib/python3.8/site-packages (from kfp==1.8.22) (3.0.1)\n",
      "Requirement already satisfied: requests-toolbelt<1,>=0.8.0 in /opt/conda/lib/python3.8/site-packages (from kfp==1.8.22) (0.10.1)\n",
      "Requirement already satisfied: Deprecated<2,>=1.2.7 in /opt/conda/lib/python3.8/site-packages (from kfp==1.8.22) (1.2.13)\n",
      "Requirement already satisfied: jsonschema<5,>=3.0.1 in /opt/conda/lib/python3.8/site-packages (from kfp==1.8.22) (3.2.0)\n",
      "Requirement already satisfied: tabulate<1,>=0.8.6 in /opt/conda/lib/python3.8/site-packages (from kfp==1.8.22) (0.9.0)\n",
      "Requirement already satisfied: google-api-core!=2.0.*,!=2.1.*,!=2.2.*,!=2.3.0,<3.0.0dev,>=1.31.5 in /opt/conda/lib/python3.8/site-packages (from kfp==1.8.22) (2.8.2)\n",
      "Requirement already satisfied: cloudpickle<3,>=2.0.0 in ./.local/lib/python3.8/site-packages (from kfp==1.8.22) (2.2.1)\n",
      "Requirement already satisfied: urllib3<2 in /opt/conda/lib/python3.8/site-packages (from kfp==1.8.22) (1.26.15)\n",
      "Requirement already satisfied: absl-py<2,>=0.9 in /opt/conda/lib/python3.8/site-packages (from kfp==1.8.22) (0.11.0)\n",
      "Requirement already satisfied: google-auth<3,>=1.6.1 in /opt/conda/lib/python3.8/site-packages (from kfp==1.8.22) (1.35.0)\n",
      "Requirement already satisfied: pydantic<2,>=1.8.2 in ./.local/lib/python3.8/site-packages (from kfp==1.8.22) (1.10.9)\n",
      "Requirement already satisfied: click<9,>=7.1.2 in ./.local/lib/python3.8/site-packages (from kfp==1.8.22) (8.1.3)\n",
      "Requirement already satisfied: typer<1.0,>=0.3.2 in ./.local/lib/python3.8/site-packages (from kfp==1.8.22) (0.9.0)\n",
      "Requirement already satisfied: kubernetes<26,>=8.0.0 in /opt/conda/lib/python3.8/site-packages (from kfp==1.8.22) (12.0.1)\n",
      "Requirement already satisfied: fire<1,>=0.3.1 in /opt/conda/lib/python3.8/site-packages (from kfp==1.8.22) (0.5.0)\n",
      "Requirement already satisfied: google-cloud-storage<3,>=1.20.0 in ./.local/lib/python3.8/site-packages (from kfp==1.8.22) (2.10.0)\n",
      "Requirement already satisfied: docstring-parser<1,>=0.7.3 in /opt/conda/lib/python3.8/site-packages (from kfp==1.8.22) (0.15)\n",
      "Requirement already satisfied: google-api-python-client<2,>=1.7.8 in /opt/conda/lib/python3.8/site-packages (from kfp==1.8.22) (1.12.11)\n",
      "Requirement already satisfied: six in /opt/conda/lib/python3.8/site-packages (from absl-py<2,>=0.9->kfp==1.8.22) (1.16.0)\n",
      "Requirement already satisfied: wrapt<2,>=1.10 in /opt/conda/lib/python3.8/site-packages (from Deprecated<2,>=1.2.7->kfp==1.8.22) (1.15.0)\n",
      "Requirement already satisfied: termcolor in /opt/conda/lib/python3.8/site-packages (from fire<1,>=0.3.1->kfp==1.8.22) (2.2.0)\n",
      "Requirement already satisfied: googleapis-common-protos<2.0dev,>=1.56.2 in /opt/conda/lib/python3.8/site-packages (from google-api-core!=2.0.*,!=2.1.*,!=2.2.*,!=2.3.0,<3.0.0dev,>=1.31.5->kfp==1.8.22) (1.56.4)\n",
      "Requirement already satisfied: requests<3.0.0dev,>=2.18.0 in /opt/conda/lib/python3.8/site-packages (from google-api-core!=2.0.*,!=2.1.*,!=2.2.*,!=2.3.0,<3.0.0dev,>=1.31.5->kfp==1.8.22) (2.28.2)\n",
      "Requirement already satisfied: google-auth-httplib2>=0.0.3 in /opt/conda/lib/python3.8/site-packages (from google-api-python-client<2,>=1.7.8->kfp==1.8.22) (0.1.0)\n",
      "Requirement already satisfied: httplib2<1dev,>=0.15.0 in /opt/conda/lib/python3.8/site-packages (from google-api-python-client<2,>=1.7.8->kfp==1.8.22) (0.22.0)\n",
      "Requirement already satisfied: setuptools>=40.3.0 in /opt/conda/lib/python3.8/site-packages (from google-auth<3,>=1.6.1->kfp==1.8.22) (67.6.0)\n",
      "Requirement already satisfied: cachetools<5.0,>=2.0.0 in /opt/conda/lib/python3.8/site-packages (from google-auth<3,>=1.6.1->kfp==1.8.22) (4.2.4)\n",
      "Requirement already satisfied: pyasn1-modules>=0.2.1 in /opt/conda/lib/python3.8/site-packages (from google-auth<3,>=1.6.1->kfp==1.8.22) (0.2.8)\n",
      "Requirement already satisfied: rsa<5,>=3.1.4 in /opt/conda/lib/python3.8/site-packages (from google-auth<3,>=1.6.1->kfp==1.8.22) (4.9)\n",
      "Requirement already satisfied: google-resumable-media>=2.3.2 in /opt/conda/lib/python3.8/site-packages (from google-cloud-storage<3,>=1.20.0->kfp==1.8.22) (2.4.1)\n",
      "Requirement already satisfied: google-cloud-core<3.0dev,>=2.3.0 in /opt/conda/lib/python3.8/site-packages (from google-cloud-storage<3,>=1.20.0->kfp==1.8.22) (2.3.2)\n",
      "Requirement already satisfied: attrs>=17.4.0 in /opt/conda/lib/python3.8/site-packages (from jsonschema<5,>=3.0.1->kfp==1.8.22) (22.2.0)\n",
      "Requirement already satisfied: pyrsistent>=0.14.0 in /opt/conda/lib/python3.8/site-packages (from jsonschema<5,>=3.0.1->kfp==1.8.22) (0.19.3)\n",
      "Requirement already satisfied: python-dateutil in /opt/conda/lib/python3.8/site-packages (from kfp-server-api<2.0.0,>=1.1.2->kfp==1.8.22) (2.8.2)\n",
      "Requirement already satisfied: certifi in /opt/conda/lib/python3.8/site-packages (from kfp-server-api<2.0.0,>=1.1.2->kfp==1.8.22) (2022.12.7)\n",
      "Requirement already satisfied: requests-oauthlib in /opt/conda/lib/python3.8/site-packages (from kubernetes<26,>=8.0.0->kfp==1.8.22) (1.3.1)\n",
      "Requirement already satisfied: websocket-client!=0.40.0,!=0.41.*,!=0.42.*,>=0.32.0 in /opt/conda/lib/python3.8/site-packages (from kubernetes<26,>=8.0.0->kfp==1.8.22) (1.5.1)\n",
      "Requirement already satisfied: wheel in /opt/conda/lib/python3.8/site-packages (from strip-hints<1,>=0.1.8->kfp==1.8.22) (0.40.0)\n",
      "Requirement already satisfied: google-crc32c<2.0dev,>=1.0 in /opt/conda/lib/python3.8/site-packages (from google-resumable-media>=2.3.2->google-cloud-storage<3,>=1.20.0->kfp==1.8.22) (1.5.0)\n",
      "Requirement already satisfied: pyparsing!=3.0.0,!=3.0.1,!=3.0.2,!=3.0.3,<4,>=2.4.2 in /opt/conda/lib/python3.8/site-packages (from httplib2<1dev,>=0.15.0->google-api-python-client<2,>=1.7.8->kfp==1.8.22) (3.0.9)\n",
      "Requirement already satisfied: pyasn1<0.5.0,>=0.4.6 in /opt/conda/lib/python3.8/site-packages (from pyasn1-modules>=0.2.1->google-auth<3,>=1.6.1->kfp==1.8.22) (0.4.8)\n",
      "Requirement already satisfied: idna<4,>=2.5 in /opt/conda/lib/python3.8/site-packages (from requests<3.0.0dev,>=2.18.0->google-api-core!=2.0.*,!=2.1.*,!=2.2.*,!=2.3.0,<3.0.0dev,>=1.31.5->kfp==1.8.22) (3.4)\n",
      "Requirement already satisfied: charset-normalizer<4,>=2 in /opt/conda/lib/python3.8/site-packages (from requests<3.0.0dev,>=2.18.0->google-api-core!=2.0.*,!=2.1.*,!=2.2.*,!=2.3.0,<3.0.0dev,>=1.31.5->kfp==1.8.22) (2.1.1)\n",
      "Requirement already satisfied: oauthlib>=3.0.0 in /opt/conda/lib/python3.8/site-packages (from requests-oauthlib->kubernetes<26,>=8.0.0->kfp==1.8.22) (3.2.2)\n"
     ]
    }
   ],
   "source": [
    "# KF 1.7.0 uses kfp==1.8.22 kfp-server-api==1.8.5 kfp-pipeline-spec==0.1.16\n",
    "# !{sys.executable} -m pip install --upgrade --user kfp==1.8.22 kfp-server-api==1.8.5 kfp-pipeline-spec==0.1.16\n",
    "!{sys.executable} -m pip install --upgrade --user kfp==1.8.22"
   ]
  },
  {
   "cell_type": "code",
   "execution_count": 5,
   "id": "dadbfebe-c6b6-41b3-bd4c-846712460591",
   "metadata": {},
   "outputs": [
    {
     "name": "stdout",
     "output_type": "stream",
     "text": [
      "kfp                      1.8.22\n",
      "kfp-pipeline-spec        0.1.16\n",
      "kfp-server-api           1.8.5\n"
     ]
    }
   ],
   "source": [
    "!{sys.executable} -m pip list | grep kfp"
   ]
  },
  {
   "cell_type": "markdown",
   "id": "b080ea55-813c-4814-a159-905a044b5285",
   "metadata": {},
   "source": [
    "## (Optional) Restart kernel\n",
    "\n",
    "Restart kernel, after update the KFP SDK"
   ]
  },
  {
   "cell_type": "code",
   "execution_count": 6,
   "id": "211c436e-852c-49d0-9571-96535fa20e72",
   "metadata": {},
   "outputs": [],
   "source": [
    "# run kubectl command line to see the quota in the name space\n",
    "# !kubectl describe quota"
   ]
  },
  {
   "cell_type": "markdown",
   "id": "e1d19b26-4633-45db-9809-fc9b0a9b75db",
   "metadata": {
    "tags": []
   },
   "source": [
    "### Define ContinerOp Res Helper Function\n",
    "\n",
    "To define a `set_res_limit` helper function to set the ContainerOp resource for the python function-component in a Quota activated kubernetes namespace\n",
    "\n",
    "* Difference between 2Gi and 2G \n",
    "https://stackoverflow.com/questions/50804915/kubernetes-size-definitions-whats-the-difference-of-gi-and-g/50805048#50805048"
   ]
  },
  {
   "cell_type": "code",
   "execution_count": 45,
   "id": "959d5ef7-ccd8-47e2-bc1b-0d155cebf021",
   "metadata": {},
   "outputs": [],
   "source": [
    "from kfp.dsl import ContainerOp\n",
    "\n",
    "def set_res_limit(op: ContainerOp, mem_req=\"200Mi\", cpu_req=\"2000m\", mem_lim=\"4000Mi\", cpu_lim='4000m'):\n",
    "    \"\"\"\n",
    "    this function helps to set the resource limit for container operators\n",
    "    op.set_memory_limit('1000Mi') = 1GB\n",
    "    op.set_cpu_limit('1000m') = 1 cpu core\n",
    "    \"\"\"\n",
    "    return op.set_memory_request(mem_req)\\\n",
    "            .set_memory_limit(mem_lim)\\\n",
    "            .set_cpu_request(cpu_req)\\\n",
    "            .set_cpu_limit(cpu_lim)"
   ]
  },
  {
   "cell_type": "markdown",
   "id": "1f0fe6ac-9697-417c-bdac-762497864120",
   "metadata": {},
   "source": [
    "### Create a \"compiled\" folder to save the .yaml"
   ]
  },
  {
   "cell_type": "code",
   "execution_count": 46,
   "id": "026eaa5e-3827-4f5c-94b3-325392f8891e",
   "metadata": {},
   "outputs": [],
   "source": [
    "import os\n",
    "\n",
    "# change this folder path, if necessary\n",
    "pipeline_path_dir = \"/home/jovyan/kf-examples/sdkV1/compiled\"\n",
    "\n",
    "if not os.path.exists(pipeline_path_dir):\n",
    "    os.makedirs(pipeline_path_dir)"
   ]
  },
  {
   "cell_type": "markdown",
   "id": "c5401972-94a4-4078-b4b9-d0156ccb52e5",
   "metadata": {},
   "source": [
    "## Building Python function-based components\n",
    "\n",
    "Reference:\n",
    "* python function-based components https://www.kubeflow.org/docs/components/pipelines/v1/sdk/python-function-components/"
   ]
  },
  {
   "cell_type": "code",
   "execution_count": 47,
   "id": "43f85530-1504-48f2-bc74-8b81f373dd7b",
   "metadata": {},
   "outputs": [],
   "source": [
    "from functools import partial\n",
    "from kfp.components import create_component_from_func\n",
    "\n",
    "'''\n",
    "The kfp.components.create_component_from_func() create a ContainerOp obj, which is used in pipeline\n",
    "'''\n",
    "@partial(\n",
    "    create_component_from_func,\n",
    "    output_component_file=f\"{pipeline_path_dir}/square_component.yaml\",\n",
    "    base_image='python:3.10.11', # a base image with python installed\n",
    "    # packages_to_install=[\n",
    "    #     \"scipy==1.10.1\",\n",
    "    # ],\n",
    "    # adding additional libs\n",
    ")\n",
    "def square(x: float) -> float:\n",
    "    # need to cast to float otherwise will run into an error\n",
    "    # return float(x ** 2)\n",
    "    return x ** 2\n",
    "\n",
    "@partial(\n",
    "    create_component_from_func,\n",
    "    output_component_file=f\"{pipeline_path_dir}/add_component.yaml\",\n",
    "    base_image='python:3.10.11', # a base image with python installed\n",
    "    # packages_to_install=[\n",
    "    #     \"scipy==1.10.1\",\n",
    "    # ],\n",
    "    # adding additional libs\n",
    ")\n",
    "def add(x: float, z: float) -> float:\n",
    "    # for some strange reason, the y param name is changed to \"true\", if i rename to z, it works\n",
    "    # return float(x + z)\n",
    "    return x + z\n",
    "\n",
    "@partial(\n",
    "    create_component_from_func,\n",
    "    output_component_file=f\"{pipeline_path_dir}/square_root_component.yaml\",\n",
    "    base_image='python:3.10.11', # a base image with python installed\n",
    "    # packages_to_install=[\n",
    "    #     \"scipy==1.10.1\",\n",
    "    # ],\n",
    "    # adding additional libs\n",
    ")\n",
    "def square_root(x: float) -> float:\n",
    "    # return float(x ** .5)\n",
    "    return x ** .5"
   ]
  },
  {
   "cell_type": "markdown",
   "id": "9ff482a2-68c5-4d60-9d6e-843c4f39c075",
   "metadata": {},
   "source": [
    "## Define Pipeline\n",
    "* Intro Kubeflow pipeline: https://v1-5-branch.kubeflow.org/docs/components/pipelines/introduction/\n",
    "* Kubeflow pipeline SDK v1: https://v1-5-branch.kubeflow.org/docs/components/pipelines/sdk/sdk-overview/"
   ]
  },
  {
   "cell_type": "code",
   "execution_count": 49,
   "id": "cdade2ce-598a-45a0-adb2-87f078c00eeb",
   "metadata": {},
   "outputs": [],
   "source": [
    "from kfp.dsl import pipeline\n",
    "from kfp import dsl\n",
    "\n",
    "EXPERIMENT_NAME = \"demo\"\n",
    "EXPERIMENT_DESC = 'toy pythagorean pipeline'\n",
    "\n",
    "@pipeline(\n",
    "    name = EXPERIMENT_NAME,\n",
    "    description = EXPERIMENT_DESC\n",
    ")\n",
    "def pythagorean(a: float, b: float):\n",
    "    '''local variable'''\n",
    "    no_artifact_cache = \"P0D\"\n",
    "    artifact_cache_today = \"P1D\"\n",
    "    # cache_setting = artifact_cache_today\n",
    "    cache_setting = no_artifact_cache\n",
    "    \n",
    "    a_sq_task = square(a)\n",
    "    # if the limit is set to small, will be OOMKilled by kubernetes\n",
    "    a_sq_task = set_res_limit(a_sq_task, cpu_req='500m', mem_req='200M')\n",
    "    a_sq_task.execution_options.caching_strategy.max_cache_staleness = cache_setting\n",
    "    \n",
    "    b_sq_task = square(x=b)\n",
    "    b_sq_task = set_res_limit(b_sq_task, cpu_req='500m', mem_req='200M')\n",
    "    b_sq_task.execution_options.caching_strategy.max_cache_staleness = cache_setting\n",
    "\n",
    "    sum_task = add(x=a_sq_task.output, z=b_sq_task.output)\n",
    "    sum_task = set_res_limit(sum_task, cpu_req='1', mem_req='500M')\n",
    "    sum_task.execution_options.caching_strategy.max_cache_staleness = cache_setting\n",
    "\n",
    "    result_task = square_root(sum_task.output)\n",
    "    result_task = set_res_limit(result_task, cpu_req='1', mem_req='500M')\n",
    "    result_task.execution_options.caching_strategy.max_cache_staleness = cache_setting\n",
    "\n",
    "my_pipeline = pythagorean"
   ]
  },
  {
   "cell_type": "markdown",
   "id": "99f71887-23af-4d9f-8d11-97928aa16be8",
   "metadata": {},
   "source": [
    "### (optional) pipeline compile step\n",
    "use the following command to compile the pipeline to serialized yaml representation"
   ]
  },
  {
   "cell_type": "code",
   "execution_count": 50,
   "id": "8a1cd012-7465-4c06-89b8-a7631dbac5b9",
   "metadata": {},
   "outputs": [],
   "source": [
    "from kfp import compiler\n",
    "\n",
    "PIPE_LINE_FILE_NAME=f\"{pipeline_path_dir}/pythagorean\"\n",
    "compiler.Compiler().compile(my_pipeline, f\"{PIPE_LINE_FILE_NAME}.yaml\")"
   ]
  },
  {
   "cell_type": "markdown",
   "id": "02a3fc57-3ac5-4667-b418-b69fcc45fa8a",
   "metadata": {},
   "source": [
    "### Create Experiment Run\n",
    "\n",
    "create run label with current data time\n",
    "```python\n",
    "from datetime import datetime\n",
    "from pytz import timezone as ptimezone\n",
    "ts = datetime.strftime(datetime.now(ptimezone(\"Europe/Berlin\")), \"%Y-%m-%d %H-%M-%S\")\n",
    "print(ts)\n",
    "```\n",
    "\n",
    "Reference:\n",
    "* https://stackoverflow.com/questions/25837452/python-get-current-time-in-right-timezone/25887393#25887393"
   ]
  },
  {
   "cell_type": "code",
   "execution_count": 51,
   "id": "c94e1d05-8a87-45bd-a07c-d939b5f01180",
   "metadata": {},
   "outputs": [],
   "source": [
    "from datetime import datetime\n",
    "from pytz import timezone as ptimezone\n",
    "\n",
    "def get_local_time_str(target_tz_str: str = \"Europe/Berlin\", format_str: str = \"%Y-%m-%d %H-%M-%S\") -> str:\n",
    "    \"\"\"\n",
    "    this method is created since the local timezone is miss configured on the server\n",
    "    @param: target timezone str default \"Europe/Berlin\"\n",
    "    @param: \"%Y-%m-%d %H-%M-%S\" returns 2022-07-07 12-08-45\n",
    "    \"\"\"\n",
    "    target_tz = ptimezone(target_tz_str) # create timezone, in python3.9 use standard lib ZoneInfo\n",
    "    # utc_dt = datetime.now(datetime.timezone.utc)\n",
    "    target_dt = datetime.now(target_tz)\n",
    "    return datetime.strftime(target_dt, format_str)"
   ]
  },
  {
   "cell_type": "markdown",
   "id": "303d4526-0e86-474b-88b2-53e49a58dd37",
   "metadata": {},
   "source": [
    "### Config pipeline run\n",
    "* Setting imagePullSecretes for Pipeline with SDK: https://github.com/kubeflow/pipelines/issues/5843#issuecomment-859799181"
   ]
  },
  {
   "cell_type": "code",
   "execution_count": 52,
   "id": "d6750de0-d42b-4e4b-b175-fbf30407d4f0",
   "metadata": {},
   "outputs": [],
   "source": [
    "# from kubernetes import client as k8s_client\n",
    "pipeline_config = dsl.PipelineConf()\n",
    "\n",
    "# pipeline_config.set_image_pull_secrets([k8s_client.V1ObjectReference(name=K8_GIT_SECRET_NAME, namespace=NAME_SPACE)])\n",
    "# pipeline_config.set_image_pull_policy(\"Always\")\n",
    "pipeline_config.set_image_pull_policy(\"IfNotPresent\")\n",
    "\n",
    "pipeline_args = {\"a\": 1, \"b\": 2},"
   ]
  },
  {
   "cell_type": "code",
   "execution_count": 53,
   "id": "b18f8205-d973-4461-b12c-261406cdb4a5",
   "metadata": {},
   "outputs": [
    {
     "name": "stdout",
     "output_type": "stream",
     "text": [
      "kubeflow-kindfor\n"
     ]
    }
   ],
   "source": [
    "import kfp\n",
    "\n",
    "EXPERIMENT_NAME = \"demo\"\n",
    "\n",
    "client = kfp.Client()\n",
    "\n",
    "NAMESPACE = client.get_user_namespace()\n",
    "print(NAMESPACE)"
   ]
  },
  {
   "cell_type": "code",
   "execution_count": 54,
   "id": "26bab500-242b-42a2-8219-2373639f90ae",
   "metadata": {},
   "outputs": [
    {
     "name": "stdout",
     "output_type": "stream",
     "text": [
      "demo\n",
      "kubeflow-kindfor\n"
     ]
    },
    {
     "data": {
      "text/html": [
       "<a href=\"/pipeline/#/experiments/details/44688294-d176-4974-a329-d5085422bf76\" target=\"_blank\" >Experiment details</a>."
      ],
      "text/plain": [
       "<IPython.core.display.HTML object>"
      ]
     },
     "metadata": {},
     "output_type": "display_data"
    },
    {
     "ename": "AttributeError",
     "evalue": "'tuple' object has no attribute 'items'",
     "output_type": "error",
     "traceback": [
      "\u001b[0;31m---------------------------------------------------------------------------\u001b[0m",
      "\u001b[0;31mAttributeError\u001b[0m                            Traceback (most recent call last)",
      "Cell \u001b[0;32mIn[54], line 6\u001b[0m\n\u001b[1;32m      3\u001b[0m \u001b[38;5;28mprint\u001b[39m(NAMESPACE)\n\u001b[1;32m      5\u001b[0m \u001b[38;5;66;03m# client = kfp.Client()\u001b[39;00m\n\u001b[0;32m----> 6\u001b[0m run \u001b[38;5;241m=\u001b[39m \u001b[43mclient\u001b[49m\u001b[38;5;241;43m.\u001b[39;49m\u001b[43mcreate_run_from_pipeline_func\u001b[49m\u001b[43m(\u001b[49m\n\u001b[1;32m      7\u001b[0m \u001b[43m    \u001b[49m\u001b[43mpipeline_func\u001b[49m\u001b[38;5;241;43m=\u001b[39;49m\u001b[43mmy_pipeline\u001b[49m\u001b[43m,\u001b[49m\n\u001b[1;32m      8\u001b[0m \u001b[43m    \u001b[49m\u001b[43marguments\u001b[49m\u001b[43m \u001b[49m\u001b[38;5;241;43m=\u001b[39;49m\u001b[43m \u001b[49m\u001b[43mpipeline_args\u001b[49m\u001b[43m,\u001b[49m\n\u001b[1;32m      9\u001b[0m \u001b[43m    \u001b[49m\u001b[43mrun_name\u001b[49m\u001b[43m \u001b[49m\u001b[38;5;241;43m=\u001b[39;49m\u001b[43m \u001b[49m\u001b[43mRUN_NAME\u001b[49m\u001b[43m,\u001b[49m\n\u001b[1;32m     10\u001b[0m \u001b[43m    \u001b[49m\u001b[43mpipeline_conf\u001b[49m\u001b[38;5;241;43m=\u001b[39;49m\u001b[43mpipeline_config\u001b[49m\u001b[43m,\u001b[49m\n\u001b[1;32m     11\u001b[0m \u001b[43m    \u001b[49m\u001b[43mexperiment_name\u001b[49m\u001b[38;5;241;43m=\u001b[39;49m\u001b[43mEXPERIMENT_NAME\u001b[49m\u001b[43m,\u001b[49m\n\u001b[1;32m     12\u001b[0m \u001b[43m    \u001b[49m\u001b[43mnamespace\u001b[49m\u001b[38;5;241;43m=\u001b[39;49m\u001b[43mNAMESPACE\u001b[49m\u001b[43m,\u001b[49m\n\u001b[1;32m     13\u001b[0m \u001b[43m)\u001b[49m\n",
      "File \u001b[0;32m~/.local/lib/python3.8/site-packages/kfp/_client.py:1000\u001b[0m, in \u001b[0;36mClient.create_run_from_pipeline_func\u001b[0;34m(self, pipeline_func, arguments, run_name, experiment_name, pipeline_conf, namespace, mode, launcher_image, pipeline_root, enable_caching, service_account)\u001b[0m\n\u001b[1;32m    993\u001b[0m pipeline_package_path \u001b[38;5;241m=\u001b[39m os\u001b[38;5;241m.\u001b[39mpath\u001b[38;5;241m.\u001b[39mjoin(tmpdir, \u001b[38;5;124m'\u001b[39m\u001b[38;5;124mpipeline.yaml\u001b[39m\u001b[38;5;124m'\u001b[39m)\n\u001b[1;32m    994\u001b[0m compiler\u001b[38;5;241m.\u001b[39mCompiler(\n\u001b[1;32m    995\u001b[0m     mode\u001b[38;5;241m=\u001b[39mmode, launcher_image\u001b[38;5;241m=\u001b[39mlauncher_image)\u001b[38;5;241m.\u001b[39mcompile(\n\u001b[1;32m    996\u001b[0m         pipeline_func\u001b[38;5;241m=\u001b[39mpipeline_func,\n\u001b[1;32m    997\u001b[0m         package_path\u001b[38;5;241m=\u001b[39mpipeline_package_path,\n\u001b[1;32m    998\u001b[0m         pipeline_conf\u001b[38;5;241m=\u001b[39mpipeline_conf)\n\u001b[0;32m-> 1000\u001b[0m \u001b[38;5;28;01mreturn\u001b[39;00m \u001b[38;5;28;43mself\u001b[39;49m\u001b[38;5;241;43m.\u001b[39;49m\u001b[43mcreate_run_from_pipeline_package\u001b[49m\u001b[43m(\u001b[49m\n\u001b[1;32m   1001\u001b[0m \u001b[43m    \u001b[49m\u001b[43mpipeline_file\u001b[49m\u001b[38;5;241;43m=\u001b[39;49m\u001b[43mpipeline_package_path\u001b[49m\u001b[43m,\u001b[49m\n\u001b[1;32m   1002\u001b[0m \u001b[43m    \u001b[49m\u001b[43marguments\u001b[49m\u001b[38;5;241;43m=\u001b[39;49m\u001b[43marguments\u001b[49m\u001b[43m,\u001b[49m\n\u001b[1;32m   1003\u001b[0m \u001b[43m    \u001b[49m\u001b[43mrun_name\u001b[49m\u001b[38;5;241;43m=\u001b[39;49m\u001b[43mrun_name\u001b[49m\u001b[43m,\u001b[49m\n\u001b[1;32m   1004\u001b[0m \u001b[43m    \u001b[49m\u001b[43mexperiment_name\u001b[49m\u001b[38;5;241;43m=\u001b[39;49m\u001b[43mexperiment_name\u001b[49m\u001b[43m,\u001b[49m\n\u001b[1;32m   1005\u001b[0m \u001b[43m    \u001b[49m\u001b[43mnamespace\u001b[49m\u001b[38;5;241;43m=\u001b[39;49m\u001b[43mnamespace\u001b[49m\u001b[43m,\u001b[49m\n\u001b[1;32m   1006\u001b[0m \u001b[43m    \u001b[49m\u001b[43mpipeline_root\u001b[49m\u001b[38;5;241;43m=\u001b[39;49m\u001b[43mpipeline_root\u001b[49m\u001b[43m,\u001b[49m\n\u001b[1;32m   1007\u001b[0m \u001b[43m    \u001b[49m\u001b[43menable_caching\u001b[49m\u001b[38;5;241;43m=\u001b[39;49m\u001b[43menable_caching\u001b[49m\u001b[43m,\u001b[49m\n\u001b[1;32m   1008\u001b[0m \u001b[43m    \u001b[49m\u001b[43mservice_account\u001b[49m\u001b[38;5;241;43m=\u001b[39;49m\u001b[43mservice_account\u001b[49m\u001b[43m,\u001b[49m\n\u001b[1;32m   1009\u001b[0m \u001b[43m\u001b[49m\u001b[43m)\u001b[49m\n",
      "File \u001b[0;32m~/.local/lib/python3.8/site-packages/kfp/_client.py:1081\u001b[0m, in \u001b[0;36mClient.create_run_from_pipeline_package\u001b[0;34m(self, pipeline_file, arguments, run_name, experiment_name, namespace, pipeline_root, enable_caching, service_account)\u001b[0m\n\u001b[1;32m   1076\u001b[0m run_name \u001b[38;5;241m=\u001b[39m run_name \u001b[38;5;129;01mor\u001b[39;00m (\n\u001b[1;32m   1077\u001b[0m     pipeline_name \u001b[38;5;241m+\u001b[39m \u001b[38;5;124m'\u001b[39m\u001b[38;5;124m \u001b[39m\u001b[38;5;124m'\u001b[39m \u001b[38;5;241m+\u001b[39m\n\u001b[1;32m   1078\u001b[0m     datetime\u001b[38;5;241m.\u001b[39mdatetime\u001b[38;5;241m.\u001b[39mnow()\u001b[38;5;241m.\u001b[39mstrftime(\u001b[38;5;124m'\u001b[39m\u001b[38;5;124m%\u001b[39m\u001b[38;5;124mY-\u001b[39m\u001b[38;5;124m%\u001b[39m\u001b[38;5;124mm-\u001b[39m\u001b[38;5;132;01m%d\u001b[39;00m\u001b[38;5;124m \u001b[39m\u001b[38;5;124m%\u001b[39m\u001b[38;5;124mH-\u001b[39m\u001b[38;5;124m%\u001b[39m\u001b[38;5;124mM-\u001b[39m\u001b[38;5;124m%\u001b[39m\u001b[38;5;124mS\u001b[39m\u001b[38;5;124m'\u001b[39m))\n\u001b[1;32m   1079\u001b[0m experiment \u001b[38;5;241m=\u001b[39m \u001b[38;5;28mself\u001b[39m\u001b[38;5;241m.\u001b[39mcreate_experiment(\n\u001b[1;32m   1080\u001b[0m     name\u001b[38;5;241m=\u001b[39mexperiment_name, namespace\u001b[38;5;241m=\u001b[39mnamespace)\n\u001b[0;32m-> 1081\u001b[0m run_info \u001b[38;5;241m=\u001b[39m \u001b[38;5;28;43mself\u001b[39;49m\u001b[38;5;241;43m.\u001b[39;49m\u001b[43mrun_pipeline\u001b[49m\u001b[43m(\u001b[49m\n\u001b[1;32m   1082\u001b[0m \u001b[43m    \u001b[49m\u001b[43mexperiment_id\u001b[49m\u001b[38;5;241;43m=\u001b[39;49m\u001b[43mexperiment\u001b[49m\u001b[38;5;241;43m.\u001b[39;49m\u001b[43mid\u001b[49m\u001b[43m,\u001b[49m\n\u001b[1;32m   1083\u001b[0m \u001b[43m    \u001b[49m\u001b[43mjob_name\u001b[49m\u001b[38;5;241;43m=\u001b[39;49m\u001b[43mrun_name\u001b[49m\u001b[43m,\u001b[49m\n\u001b[1;32m   1084\u001b[0m \u001b[43m    \u001b[49m\u001b[43mpipeline_package_path\u001b[49m\u001b[38;5;241;43m=\u001b[39;49m\u001b[43mpipeline_file\u001b[49m\u001b[43m,\u001b[49m\n\u001b[1;32m   1085\u001b[0m \u001b[43m    \u001b[49m\u001b[43mparams\u001b[49m\u001b[38;5;241;43m=\u001b[39;49m\u001b[43marguments\u001b[49m\u001b[43m,\u001b[49m\n\u001b[1;32m   1086\u001b[0m \u001b[43m    \u001b[49m\u001b[43mpipeline_root\u001b[49m\u001b[38;5;241;43m=\u001b[39;49m\u001b[43mpipeline_root\u001b[49m\u001b[43m,\u001b[49m\n\u001b[1;32m   1087\u001b[0m \u001b[43m    \u001b[49m\u001b[43menable_caching\u001b[49m\u001b[38;5;241;43m=\u001b[39;49m\u001b[43menable_caching\u001b[49m\u001b[43m,\u001b[49m\n\u001b[1;32m   1088\u001b[0m \u001b[43m    \u001b[49m\u001b[43mservice_account\u001b[49m\u001b[38;5;241;43m=\u001b[39;49m\u001b[43mservice_account\u001b[49m\u001b[43m,\u001b[49m\n\u001b[1;32m   1089\u001b[0m \u001b[43m\u001b[49m\u001b[43m)\u001b[49m\n\u001b[1;32m   1090\u001b[0m \u001b[38;5;28;01mreturn\u001b[39;00m RunPipelineResult(\u001b[38;5;28mself\u001b[39m, run_info)\n",
      "File \u001b[0;32m~/.local/lib/python3.8/site-packages/kfp/_client.py:737\u001b[0m, in \u001b[0;36mClient.run_pipeline\u001b[0;34m(self, experiment_id, job_name, pipeline_package_path, params, pipeline_id, version_id, pipeline_root, enable_caching, service_account)\u001b[0m\n\u001b[1;32m    734\u001b[0m \u001b[38;5;28;01mif\u001b[39;00m pipeline_root \u001b[38;5;129;01mis\u001b[39;00m \u001b[38;5;129;01mnot\u001b[39;00m \u001b[38;5;28;01mNone\u001b[39;00m:\n\u001b[1;32m    735\u001b[0m     params[dsl\u001b[38;5;241m.\u001b[39mROOT_PARAMETER_NAME] \u001b[38;5;241m=\u001b[39m pipeline_root\n\u001b[0;32m--> 737\u001b[0m job_config \u001b[38;5;241m=\u001b[39m \u001b[38;5;28;43mself\u001b[39;49m\u001b[38;5;241;43m.\u001b[39;49m\u001b[43m_create_job_config\u001b[49m\u001b[43m(\u001b[49m\n\u001b[1;32m    738\u001b[0m \u001b[43m    \u001b[49m\u001b[43mexperiment_id\u001b[49m\u001b[38;5;241;43m=\u001b[39;49m\u001b[43mexperiment_id\u001b[49m\u001b[43m,\u001b[49m\n\u001b[1;32m    739\u001b[0m \u001b[43m    \u001b[49m\u001b[43mparams\u001b[49m\u001b[38;5;241;43m=\u001b[39;49m\u001b[43mparams\u001b[49m\u001b[43m,\u001b[49m\n\u001b[1;32m    740\u001b[0m \u001b[43m    \u001b[49m\u001b[43mpipeline_package_path\u001b[49m\u001b[38;5;241;43m=\u001b[39;49m\u001b[43mpipeline_package_path\u001b[49m\u001b[43m,\u001b[49m\n\u001b[1;32m    741\u001b[0m \u001b[43m    \u001b[49m\u001b[43mpipeline_id\u001b[49m\u001b[38;5;241;43m=\u001b[39;49m\u001b[43mpipeline_id\u001b[49m\u001b[43m,\u001b[49m\n\u001b[1;32m    742\u001b[0m \u001b[43m    \u001b[49m\u001b[43mversion_id\u001b[49m\u001b[38;5;241;43m=\u001b[39;49m\u001b[43mversion_id\u001b[49m\u001b[43m,\u001b[49m\n\u001b[1;32m    743\u001b[0m \u001b[43m    \u001b[49m\u001b[43menable_caching\u001b[49m\u001b[38;5;241;43m=\u001b[39;49m\u001b[43menable_caching\u001b[49m\u001b[43m,\u001b[49m\n\u001b[1;32m    744\u001b[0m \u001b[43m\u001b[49m\u001b[43m)\u001b[49m\n\u001b[1;32m    745\u001b[0m run_body \u001b[38;5;241m=\u001b[39m kfp_server_api\u001b[38;5;241m.\u001b[39mmodels\u001b[38;5;241m.\u001b[39mApiRun(\n\u001b[1;32m    746\u001b[0m     pipeline_spec\u001b[38;5;241m=\u001b[39mjob_config\u001b[38;5;241m.\u001b[39mspec,\n\u001b[1;32m    747\u001b[0m     resource_references\u001b[38;5;241m=\u001b[39mjob_config\u001b[38;5;241m.\u001b[39mresource_references,\n\u001b[1;32m    748\u001b[0m     name\u001b[38;5;241m=\u001b[39mjob_name,\n\u001b[1;32m    749\u001b[0m     service_account\u001b[38;5;241m=\u001b[39mservice_account)\n\u001b[1;32m    751\u001b[0m response \u001b[38;5;241m=\u001b[39m \u001b[38;5;28mself\u001b[39m\u001b[38;5;241m.\u001b[39m_run_api\u001b[38;5;241m.\u001b[39mcreate_run(body\u001b[38;5;241m=\u001b[39mrun_body)\n",
      "File \u001b[0;32m~/.local/lib/python3.8/site-packages/kfp/_client.py:912\u001b[0m, in \u001b[0;36mClient._create_job_config\u001b[0;34m(self, experiment_id, params, pipeline_package_path, pipeline_id, version_id, enable_caching)\u001b[0m\n\u001b[1;32m    905\u001b[0m         \u001b[38;5;28mself\u001b[39m\u001b[38;5;241m.\u001b[39m_override_caching_options(pipeline_obj, enable_caching)\n\u001b[1;32m    907\u001b[0m     pipeline_json_string \u001b[38;5;241m=\u001b[39m json\u001b[38;5;241m.\u001b[39mdumps(pipeline_obj)\n\u001b[1;32m    908\u001b[0m api_params \u001b[38;5;241m=\u001b[39m [\n\u001b[1;32m    909\u001b[0m     kfp_server_api\u001b[38;5;241m.\u001b[39mApiParameter(\n\u001b[1;32m    910\u001b[0m         name\u001b[38;5;241m=\u001b[39msanitize_k8s_name(name\u001b[38;5;241m=\u001b[39mk, allow_capital_underscore\u001b[38;5;241m=\u001b[39m\u001b[38;5;28;01mTrue\u001b[39;00m),\n\u001b[1;32m    911\u001b[0m         value\u001b[38;5;241m=\u001b[39m\u001b[38;5;28mstr\u001b[39m(v) \u001b[38;5;28;01mif\u001b[39;00m \u001b[38;5;28mtype\u001b[39m(v) \u001b[38;5;129;01mnot\u001b[39;00m \u001b[38;5;129;01min\u001b[39;00m (\u001b[38;5;28mlist\u001b[39m, \u001b[38;5;28mdict\u001b[39m) \u001b[38;5;28;01melse\u001b[39;00m json\u001b[38;5;241m.\u001b[39mdumps(v))\n\u001b[0;32m--> 912\u001b[0m     \u001b[38;5;28;01mfor\u001b[39;00m k, v \u001b[38;5;129;01min\u001b[39;00m \u001b[43mparams\u001b[49m\u001b[38;5;241;43m.\u001b[39;49m\u001b[43mitems\u001b[49m()\n\u001b[1;32m    913\u001b[0m ]\n\u001b[1;32m    914\u001b[0m resource_references \u001b[38;5;241m=\u001b[39m []\n\u001b[1;32m    915\u001b[0m key \u001b[38;5;241m=\u001b[39m kfp_server_api\u001b[38;5;241m.\u001b[39mmodels\u001b[38;5;241m.\u001b[39mApiResourceKey(\n\u001b[1;32m    916\u001b[0m     \u001b[38;5;28mid\u001b[39m\u001b[38;5;241m=\u001b[39mexperiment_id,\n\u001b[1;32m    917\u001b[0m     \u001b[38;5;28mtype\u001b[39m\u001b[38;5;241m=\u001b[39mkfp_server_api\u001b[38;5;241m.\u001b[39mmodels\u001b[38;5;241m.\u001b[39mApiResourceType\u001b[38;5;241m.\u001b[39mEXPERIMENT)\n",
      "\u001b[0;31mAttributeError\u001b[0m: 'tuple' object has no attribute 'items'"
     ]
    }
   ],
   "source": [
    "RUN_NAME = f\"pythagorean {get_local_time_str()}\"\n",
    "print(EXPERIMENT_NAME)\n",
    "print(NAMESPACE)\n",
    "\n",
    "# client = kfp.Client()\n",
    "run = client.create_run_from_pipeline_func(\n",
    "    pipeline_func=my_pipeline,\n",
    "    arguments = pipeline_args,\n",
    "    run_name = RUN_NAME,\n",
    "    pipeline_conf=pipeline_config,\n",
    "    experiment_name=EXPERIMENT_NAME,\n",
    "    namespace=NAMESPACE,\n",
    ")"
   ]
  },
  {
   "cell_type": "code",
   "execution_count": null,
   "id": "5d44e372-a98f-47a1-ba45-3b35d26c50b0",
   "metadata": {},
   "outputs": [],
   "source": []
  }
 ],
 "metadata": {
  "kernelspec": {
   "display_name": "Python 3 (ipykernel)",
   "language": "python",
   "name": "python3"
  },
  "language_info": {
   "codemirror_mode": {
    "name": "ipython",
    "version": 3
   },
   "file_extension": ".py",
   "mimetype": "text/x-python",
   "name": "python",
   "nbconvert_exporter": "python",
   "pygments_lexer": "ipython3",
   "version": "3.8.10"
  }
 },
 "nbformat": 4,
 "nbformat_minor": 5
}
