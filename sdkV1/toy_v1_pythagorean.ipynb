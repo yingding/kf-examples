{
 "cells": [
  {
   "cell_type": "markdown",
   "id": "ea6590e0-9fb1-4fac-bf0c-c0c96a838b2f",
   "metadata": {},
   "source": [
    "## Toy notebook for Kubeflow pipeline V1 on KF 1.7.0 manifests deployement\n",
    "\n",
    "* Python function based componet https://www.kubeflow.org/docs/components/pipelines/v1/sdk/python-function-components/\n",
    "* Build pipeline v1 https://www.kubeflow.org/docs/components/pipelines/v1/sdk/build-pipeline/\n",
    "\n",
    "\n",
    "The default Kubeflow 1.7.0 Notebooks shall use the following KF SDKs libs\n",
    "\n",
    "```console\n",
    "kfp                      1.8.22\n",
    "kfp-pipeline-spec        0.1.16\n",
    "kfp-server-api           1.8.5\n",
    "```"
   ]
  },
  {
   "cell_type": "code",
   "execution_count": 1,
   "id": "4c2847df-f74a-4727-9f2c-a3096a15c33b",
   "metadata": {},
   "outputs": [],
   "source": [
    "import sys"
   ]
  },
  {
   "cell_type": "code",
   "execution_count": 2,
   "id": "dbf9af6d-762a-4831-ab2d-74318d6d3a46",
   "metadata": {},
   "outputs": [
    {
     "name": "stdout",
     "output_type": "stream",
     "text": [
      "current platform python version: 3.8.10\n"
     ]
    }
   ],
   "source": [
    "from platform import python_version\n",
    "print (f\"current platform python version: {python_version()}\")"
   ]
  },
  {
   "cell_type": "code",
   "execution_count": 3,
   "id": "20bcf92f-bc74-43aa-aef9-8af132381390",
   "metadata": {},
   "outputs": [],
   "source": [
    "# safely remove old kfp sdk dependency just in case update doesn't work\n",
    "# !{sys.executable} -m pip uninstall -y kfp-server-api kfp-kubernetes kfp-pipeline-spec"
   ]
  },
  {
   "cell_type": "code",
   "execution_count": 4,
   "id": "3ea32c70-926e-4cd4-86c2-f1df2ca326f5",
   "metadata": {},
   "outputs": [
    {
     "name": "stdout",
     "output_type": "stream",
     "text": [
      "Requirement already satisfied: kfp==1.8.22 in /home/jovyan/.local/lib/python3.8/site-packages (1.8.22)\n",
      "Requirement already satisfied: typer<1.0,>=0.3.2 in /home/jovyan/.local/lib/python3.8/site-packages (from kfp==1.8.22) (0.9.0)\n",
      "Requirement already satisfied: google-api-core!=2.0.*,!=2.1.*,!=2.2.*,!=2.3.0,<3.0.0dev,>=1.31.5 in /opt/conda/lib/python3.8/site-packages (from kfp==1.8.22) (2.8.2)\n",
      "Requirement already satisfied: docstring-parser<1,>=0.7.3 in /opt/conda/lib/python3.8/site-packages (from kfp==1.8.22) (0.15)\n",
      "Requirement already satisfied: pydantic<2,>=1.8.2 in /home/jovyan/.local/lib/python3.8/site-packages (from kfp==1.8.22) (1.10.9)\n",
      "Requirement already satisfied: uritemplate<4,>=3.0.1 in /opt/conda/lib/python3.8/site-packages (from kfp==1.8.22) (3.0.1)\n",
      "Requirement already satisfied: google-auth<3,>=1.6.1 in /opt/conda/lib/python3.8/site-packages (from kfp==1.8.22) (1.35.0)\n",
      "Requirement already satisfied: typing-extensions<5,>=3.7.4 in /opt/conda/lib/python3.8/site-packages (from kfp==1.8.22) (4.5.0)\n",
      "Requirement already satisfied: requests-toolbelt<1,>=0.8.0 in /opt/conda/lib/python3.8/site-packages (from kfp==1.8.22) (0.10.1)\n",
      "Requirement already satisfied: tabulate<1,>=0.8.6 in /opt/conda/lib/python3.8/site-packages (from kfp==1.8.22) (0.9.0)\n",
      "Requirement already satisfied: fire<1,>=0.3.1 in /opt/conda/lib/python3.8/site-packages (from kfp==1.8.22) (0.5.0)\n",
      "Requirement already satisfied: Deprecated<2,>=1.2.7 in /opt/conda/lib/python3.8/site-packages (from kfp==1.8.22) (1.2.13)\n",
      "Requirement already satisfied: jsonschema<5,>=3.0.1 in /opt/conda/lib/python3.8/site-packages (from kfp==1.8.22) (3.2.0)\n",
      "Requirement already satisfied: PyYAML<7,>=5.3 in /opt/conda/lib/python3.8/site-packages (from kfp==1.8.22) (5.4.1)\n",
      "Requirement already satisfied: absl-py<2,>=0.9 in /opt/conda/lib/python3.8/site-packages (from kfp==1.8.22) (0.11.0)\n",
      "Requirement already satisfied: protobuf<4,>=3.13.0 in /opt/conda/lib/python3.8/site-packages (from kfp==1.8.22) (3.17.3)\n",
      "Requirement already satisfied: google-api-python-client<2,>=1.7.8 in /opt/conda/lib/python3.8/site-packages (from kfp==1.8.22) (1.12.11)\n",
      "Requirement already satisfied: kfp-pipeline-spec<0.2.0,>=0.1.16 in /home/jovyan/.local/lib/python3.8/site-packages (from kfp==1.8.22) (0.1.16)\n",
      "Requirement already satisfied: google-cloud-storage<3,>=1.20.0 in /home/jovyan/.local/lib/python3.8/site-packages (from kfp==1.8.22) (2.10.0)\n",
      "Requirement already satisfied: kfp-server-api<2.0.0,>=1.1.2 in /home/jovyan/.local/lib/python3.8/site-packages (from kfp==1.8.22) (1.8.5)\n",
      "Requirement already satisfied: cloudpickle<3,>=2.0.0 in /home/jovyan/.local/lib/python3.8/site-packages (from kfp==1.8.22) (2.2.1)\n",
      "Requirement already satisfied: strip-hints<1,>=0.1.8 in /opt/conda/lib/python3.8/site-packages (from kfp==1.8.22) (0.1.10)\n",
      "Requirement already satisfied: urllib3<2 in /opt/conda/lib/python3.8/site-packages (from kfp==1.8.22) (1.26.15)\n",
      "Requirement already satisfied: kubernetes<26,>=8.0.0 in /opt/conda/lib/python3.8/site-packages (from kfp==1.8.22) (12.0.1)\n",
      "Requirement already satisfied: click<9,>=7.1.2 in /home/jovyan/.local/lib/python3.8/site-packages (from kfp==1.8.22) (8.1.3)\n",
      "Requirement already satisfied: six in /opt/conda/lib/python3.8/site-packages (from absl-py<2,>=0.9->kfp==1.8.22) (1.16.0)\n",
      "Requirement already satisfied: wrapt<2,>=1.10 in /opt/conda/lib/python3.8/site-packages (from Deprecated<2,>=1.2.7->kfp==1.8.22) (1.15.0)\n",
      "Requirement already satisfied: termcolor in /opt/conda/lib/python3.8/site-packages (from fire<1,>=0.3.1->kfp==1.8.22) (2.2.0)\n",
      "Requirement already satisfied: requests<3.0.0dev,>=2.18.0 in /opt/conda/lib/python3.8/site-packages (from google-api-core!=2.0.*,!=2.1.*,!=2.2.*,!=2.3.0,<3.0.0dev,>=1.31.5->kfp==1.8.22) (2.28.2)\n",
      "Requirement already satisfied: googleapis-common-protos<2.0dev,>=1.56.2 in /opt/conda/lib/python3.8/site-packages (from google-api-core!=2.0.*,!=2.1.*,!=2.2.*,!=2.3.0,<3.0.0dev,>=1.31.5->kfp==1.8.22) (1.56.4)\n",
      "Requirement already satisfied: google-auth-httplib2>=0.0.3 in /opt/conda/lib/python3.8/site-packages (from google-api-python-client<2,>=1.7.8->kfp==1.8.22) (0.1.0)\n",
      "Requirement already satisfied: httplib2<1dev,>=0.15.0 in /opt/conda/lib/python3.8/site-packages (from google-api-python-client<2,>=1.7.8->kfp==1.8.22) (0.22.0)\n",
      "Requirement already satisfied: cachetools<5.0,>=2.0.0 in /opt/conda/lib/python3.8/site-packages (from google-auth<3,>=1.6.1->kfp==1.8.22) (4.2.4)\n",
      "Requirement already satisfied: pyasn1-modules>=0.2.1 in /opt/conda/lib/python3.8/site-packages (from google-auth<3,>=1.6.1->kfp==1.8.22) (0.2.8)\n",
      "Requirement already satisfied: setuptools>=40.3.0 in /opt/conda/lib/python3.8/site-packages (from google-auth<3,>=1.6.1->kfp==1.8.22) (67.6.0)\n",
      "Requirement already satisfied: rsa<5,>=3.1.4 in /opt/conda/lib/python3.8/site-packages (from google-auth<3,>=1.6.1->kfp==1.8.22) (4.9)\n",
      "Requirement already satisfied: google-resumable-media>=2.3.2 in /opt/conda/lib/python3.8/site-packages (from google-cloud-storage<3,>=1.20.0->kfp==1.8.22) (2.4.1)\n",
      "Requirement already satisfied: google-cloud-core<3.0dev,>=2.3.0 in /opt/conda/lib/python3.8/site-packages (from google-cloud-storage<3,>=1.20.0->kfp==1.8.22) (2.3.2)\n",
      "Requirement already satisfied: pyrsistent>=0.14.0 in /opt/conda/lib/python3.8/site-packages (from jsonschema<5,>=3.0.1->kfp==1.8.22) (0.19.3)\n",
      "Requirement already satisfied: attrs>=17.4.0 in /opt/conda/lib/python3.8/site-packages (from jsonschema<5,>=3.0.1->kfp==1.8.22) (22.2.0)\n",
      "Requirement already satisfied: certifi in /opt/conda/lib/python3.8/site-packages (from kfp-server-api<2.0.0,>=1.1.2->kfp==1.8.22) (2022.12.7)\n",
      "Requirement already satisfied: python-dateutil in /opt/conda/lib/python3.8/site-packages (from kfp-server-api<2.0.0,>=1.1.2->kfp==1.8.22) (2.8.2)\n",
      "Requirement already satisfied: websocket-client!=0.40.0,!=0.41.*,!=0.42.*,>=0.32.0 in /opt/conda/lib/python3.8/site-packages (from kubernetes<26,>=8.0.0->kfp==1.8.22) (1.5.1)\n",
      "Requirement already satisfied: requests-oauthlib in /opt/conda/lib/python3.8/site-packages (from kubernetes<26,>=8.0.0->kfp==1.8.22) (1.3.1)\n",
      "Requirement already satisfied: wheel in /opt/conda/lib/python3.8/site-packages (from strip-hints<1,>=0.1.8->kfp==1.8.22) (0.40.0)\n",
      "Requirement already satisfied: google-crc32c<2.0dev,>=1.0 in /opt/conda/lib/python3.8/site-packages (from google-resumable-media>=2.3.2->google-cloud-storage<3,>=1.20.0->kfp==1.8.22) (1.5.0)\n",
      "Requirement already satisfied: pyparsing!=3.0.0,!=3.0.1,!=3.0.2,!=3.0.3,<4,>=2.4.2 in /opt/conda/lib/python3.8/site-packages (from httplib2<1dev,>=0.15.0->google-api-python-client<2,>=1.7.8->kfp==1.8.22) (3.0.9)\n",
      "Requirement already satisfied: pyasn1<0.5.0,>=0.4.6 in /opt/conda/lib/python3.8/site-packages (from pyasn1-modules>=0.2.1->google-auth<3,>=1.6.1->kfp==1.8.22) (0.4.8)\n",
      "Requirement already satisfied: idna<4,>=2.5 in /opt/conda/lib/python3.8/site-packages (from requests<3.0.0dev,>=2.18.0->google-api-core!=2.0.*,!=2.1.*,!=2.2.*,!=2.3.0,<3.0.0dev,>=1.31.5->kfp==1.8.22) (3.4)\n",
      "Requirement already satisfied: charset-normalizer<4,>=2 in /opt/conda/lib/python3.8/site-packages (from requests<3.0.0dev,>=2.18.0->google-api-core!=2.0.*,!=2.1.*,!=2.2.*,!=2.3.0,<3.0.0dev,>=1.31.5->kfp==1.8.22) (2.1.1)\n",
      "Requirement already satisfied: oauthlib>=3.0.0 in /opt/conda/lib/python3.8/site-packages (from requests-oauthlib->kubernetes<26,>=8.0.0->kfp==1.8.22) (3.2.2)\n"
     ]
    }
   ],
   "source": [
    "# KF 1.7.0 uses kfp==1.8.22 kfp-server-api==1.8.5 kfp-pipeline-spec==0.1.16\n",
    "# !{sys.executable} -m pip install --upgrade --user kfp==1.8.22 kfp-server-api==1.8.5 kfp-pipeline-spec==0.1.16\n",
    "!{sys.executable} -m pip install --upgrade --user kfp==1.8.22"
   ]
  },
  {
   "cell_type": "code",
   "execution_count": 5,
   "id": "dadbfebe-c6b6-41b3-bd4c-846712460591",
   "metadata": {},
   "outputs": [
    {
     "name": "stdout",
     "output_type": "stream",
     "text": [
      "kfp                      1.8.22\n",
      "kfp-pipeline-spec        0.1.16\n",
      "kfp-server-api           1.8.5\n"
     ]
    }
   ],
   "source": [
    "!{sys.executable} -m pip list | grep kfp"
   ]
  },
  {
   "cell_type": "markdown",
   "id": "b080ea55-813c-4814-a159-905a044b5285",
   "metadata": {},
   "source": [
    "## (Optional) Restart kernel\n",
    "\n",
    "Restart kernel, after update the KFP SDK"
   ]
  },
  {
   "cell_type": "code",
   "execution_count": 6,
   "id": "211c436e-852c-49d0-9571-96535fa20e72",
   "metadata": {},
   "outputs": [],
   "source": [
    "# run kubectl command line to see the quota in the name space\n",
    "# !kubectl describe quota"
   ]
  },
  {
   "cell_type": "markdown",
   "id": "e1d19b26-4633-45db-9809-fc9b0a9b75db",
   "metadata": {
    "tags": []
   },
   "source": [
    "### Define ContinerOp Res Helper Function\n",
    "\n",
    "To define a `set_res_limit` helper function to set the ContainerOp resource for the python function-component in a Quota activated kubernetes namespace\n",
    "\n",
    "* Difference between 2Gi and 2G \n",
    "https://stackoverflow.com/questions/50804915/kubernetes-size-definitions-whats-the-difference-of-gi-and-g/50805048#50805048"
   ]
  },
  {
   "cell_type": "code",
   "execution_count": 7,
   "id": "959d5ef7-ccd8-47e2-bc1b-0d155cebf021",
   "metadata": {},
   "outputs": [],
   "source": [
    "from kfp.dsl import ContainerOp\n",
    "\n",
    "def set_res_limit(task: ContainerOp, mem_req=\"200Mi\", cpu_req=\"2000m\", mem_lim=\"4000Mi\", cpu_lim='4000m'):\n",
    "    \"\"\"\n",
    "    this function helps to set the resource limit for container operators\n",
    "    op.set_memory_limit('1000Mi') = 1GB\n",
    "    op.set_cpu_limit('1000m') = 1 cpu core\n",
    "    \"\"\"\n",
    "    return task.set_memory_request(mem_req)\\\n",
    "            .set_memory_limit(mem_lim)\\\n",
    "            .set_cpu_request(cpu_req)\\\n",
    "            .set_cpu_limit(cpu_lim)"
   ]
  },
  {
   "cell_type": "markdown",
   "id": "1f0fe6ac-9697-417c-bdac-762497864120",
   "metadata": {},
   "source": [
    "### Create a \"compiled\" folder to save the .yaml"
   ]
  },
  {
   "cell_type": "code",
   "execution_count": 8,
   "id": "026eaa5e-3827-4f5c-94b3-325392f8891e",
   "metadata": {},
   "outputs": [],
   "source": [
    "import os\n",
    "\n",
    "# change this folder path, if necessary\n",
    "pipeline_path_dir = \"/home/jovyan/kf-examples/sdkV1/compiled\"\n",
    "\n",
    "if not os.path.exists(pipeline_path_dir):\n",
    "    os.makedirs(pipeline_path_dir)"
   ]
  },
  {
   "cell_type": "markdown",
   "id": "c5401972-94a4-4078-b4b9-d0156ccb52e5",
   "metadata": {},
   "source": [
    "## Building Python function-based components\n",
    "\n",
    "Reference:\n",
    "* python function-based components https://www.kubeflow.org/docs/components/pipelines/v1/sdk/python-function-components/"
   ]
  },
  {
   "cell_type": "code",
   "execution_count": 9,
   "id": "43f85530-1504-48f2-bc74-8b81f373dd7b",
   "metadata": {},
   "outputs": [],
   "source": [
    "from functools import partial\n",
    "from kfp.components import create_component_from_func\n",
    "\n",
    "BASE_IMAGE = \"python:3.10.13-bullseye\"\n",
    "\n",
    "'''\n",
    "The kfp.components.create_component_from_func() create a ContainerOp obj, which is used in pipeline\n",
    "'''\n",
    "@partial(\n",
    "    create_component_from_func,\n",
    "    output_component_file=f\"{pipeline_path_dir}/square_component.yaml\",\n",
    "    base_image=BASE_IMAGE, # a base image with python installed\n",
    "    # packages_to_install=[\n",
    "    #     \"scipy==1.10.1\",\n",
    "    # ],\n",
    "    # adding additional libs\n",
    ")\n",
    "def square(x: float) -> float:\n",
    "    # need to cast to float otherwise will run into an error\n",
    "    return float(x ** 2)\n",
    "\n",
    "\n",
    "@partial(\n",
    "    create_component_from_func,\n",
    "    output_component_file=f\"{pipeline_path_dir}/add_component.yaml\",\n",
    "    base_image=BASE_IMAGE, # a base image with python installed\n",
    "    # packages_to_install=[\n",
    "    #     \"scipy==1.10.1\",\n",
    "    # ],\n",
    "    # adding additional libs\n",
    ")\n",
    "def add(x: float, z: float) -> float:\n",
    "    # for some strange reason, the y param name is changed to \"true\", if i rename to z, it works\n",
    "    return float(x + z)\n",
    "\n",
    "\n",
    "@partial(\n",
    "    create_component_from_func,\n",
    "    output_component_file=f\"{pipeline_path_dir}/square_root_component.yaml\",\n",
    "    base_image=BASE_IMAGE, # a base image with python installed\n",
    "    packages_to_install=[\n",
    "         \"numpy==1.26.4\",\n",
    "    ],\n",
    "    # adding additional libs, the pip package manager in the base image will install at pod creation\n",
    ")\n",
    "def square_root(x: float) -> float:\n",
    "    import numpy as np # the scope of installed package is inside the python function based component, not outside\n",
    "    # python sqrt implementation : float(x ** .5)\n",
    "    # cast from numpy.float64 to python float\n",
    "    my_result = float(np.sqrt(x))\n",
    "    print(f\"square_root is: {my_result}\") # logs can be seen in the logs plane in pipeline UI\n",
    "    return my_result"
   ]
  },
  {
   "cell_type": "markdown",
   "id": "9ff482a2-68c5-4d60-9d6e-843c4f39c075",
   "metadata": {},
   "source": [
    "## Define Pipeline\n",
    "* Intro Kubeflow pipeline: https://www.kubeflow.org/docs/components/pipelines/v1/introduction/\n",
    "* Kubeflow pipeline SDK v1: https://www.kubeflow.org/docs/components/pipelines/v1/sdk/sdk-overview/\n",
    "* Pipeline v1 caching https://www.kubeflow.org/docs/components/pipelines/v1/overview/caching/"
   ]
  },
  {
   "cell_type": "code",
   "execution_count": 10,
   "id": "cdade2ce-598a-45a0-adb2-87f078c00eeb",
   "metadata": {},
   "outputs": [],
   "source": [
    "from kfp.dsl import pipeline\n",
    "from kfp import dsl\n",
    "\n",
    "EXPERIMENT_NAME = \"demo\"\n",
    "EXPERIMENT_DESC = 'toy pythagorean pipeline'\n",
    "\n",
    "@pipeline(\n",
    "    name = EXPERIMENT_NAME,\n",
    "    description = EXPERIMENT_DESC\n",
    ")\n",
    "def pythagorean(a: float, b: float) -> float:\n",
    "    '''local variable'''\n",
    "    no_artifact_cache = \"P0D\"\n",
    "    artifact_cache_today = \"P1D\"\n",
    "    # cache_setting = artifact_cache_today\n",
    "    cache_setting = no_artifact_cache\n",
    "    \n",
    "    a_sq_task = square(x=a)\n",
    "    # if the limit is set to small, will be OOMKilled by kubernetes\n",
    "    a_sq_task = set_res_limit(a_sq_task, cpu_req='500m', mem_req='200M')\n",
    "    a_sq_task.execution_options.caching_strategy.max_cache_staleness = cache_setting\n",
    "    \n",
    "    b_sq_task = square(x=b)\n",
    "    b_sq_task = set_res_limit(b_sq_task, cpu_req='500m', mem_req='200M')\n",
    "    b_sq_task.execution_options.caching_strategy.max_cache_staleness = cache_setting\n",
    "\n",
    "    sum_task = add(x=a_sq_task.output, z=b_sq_task.output)\n",
    "    sum_task = set_res_limit(sum_task, cpu_req='1', mem_req='500M')\n",
    "    sum_task.execution_options.caching_strategy.max_cache_staleness = cache_setting\n",
    "\n",
    "    result_task = square_root(sum_task.output)\n",
    "    result_task = set_res_limit(result_task, cpu_req='1', mem_req='500M')\n",
    "    result_task.execution_options.caching_strategy.max_cache_staleness = cache_setting\n",
    "    \n",
    "    return result_task.output\n",
    "\n",
    "my_pipeline = pythagorean"
   ]
  },
  {
   "cell_type": "markdown",
   "id": "99f71887-23af-4d9f-8d11-97928aa16be8",
   "metadata": {},
   "source": [
    "### (optional) pipeline compile step\n",
    "use the following command to compile the pipeline to serialized yaml representation"
   ]
  },
  {
   "cell_type": "code",
   "execution_count": 11,
   "id": "8a1cd012-7465-4c06-89b8-a7631dbac5b9",
   "metadata": {},
   "outputs": [],
   "source": [
    "from kfp import compiler\n",
    "\n",
    "PIPE_LINE_FILE_NAME=f\"{pipeline_path_dir}/pythagorean\"\n",
    "compiler.Compiler().compile(my_pipeline, f\"{PIPE_LINE_FILE_NAME}.yaml\")"
   ]
  },
  {
   "cell_type": "markdown",
   "id": "02a3fc57-3ac5-4667-b418-b69fcc45fa8a",
   "metadata": {},
   "source": [
    "### Create Experiment Run\n",
    "\n",
    "create run label with current data time\n",
    "```python\n",
    "from datetime import datetime\n",
    "from pytz import timezone as ptimezone\n",
    "ts = datetime.strftime(datetime.now(ptimezone(\"Europe/Berlin\")), \"%Y-%m-%d %H-%M-%S\")\n",
    "print(ts)\n",
    "```\n",
    "\n",
    "Reference:\n",
    "* https://stackoverflow.com/questions/25837452/python-get-current-time-in-right-timezone/25887393#25887393"
   ]
  },
  {
   "cell_type": "code",
   "execution_count": 12,
   "id": "c94e1d05-8a87-45bd-a07c-d939b5f01180",
   "metadata": {},
   "outputs": [],
   "source": [
    "from datetime import datetime\n",
    "from pytz import timezone as ptimezone\n",
    "\n",
    "def get_local_time_str(target_tz_str: str = \"Europe/Berlin\", format_str: str = \"%Y-%m-%d %H-%M-%S\") -> str:\n",
    "    \"\"\"\n",
    "    this method is created since the local timezone is miss configured on the server\n",
    "    @param: target timezone str default \"Europe/Berlin\"\n",
    "    @param: \"%Y-%m-%d %H-%M-%S\" returns 2022-07-07 12-08-45\n",
    "    \"\"\"\n",
    "    target_tz = ptimezone(target_tz_str) # create timezone, in python3.9 use standard lib ZoneInfo\n",
    "    # utc_dt = datetime.now(datetime.timezone.utc)\n",
    "    target_dt = datetime.now(target_tz)\n",
    "    return datetime.strftime(target_dt, format_str)"
   ]
  },
  {
   "cell_type": "markdown",
   "id": "303d4526-0e86-474b-88b2-53e49a58dd37",
   "metadata": {},
   "source": [
    "### Config pipeline run\n",
    "* Setting imagePullSecretes for Pipeline with SDK: https://github.com/kubeflow/pipelines/issues/5843#issuecomment-859799181"
   ]
  },
  {
   "cell_type": "code",
   "execution_count": 13,
   "id": "d6750de0-d42b-4e4b-b175-fbf30407d4f0",
   "metadata": {},
   "outputs": [],
   "source": [
    "# from kubernetes import client as k8s_client\n",
    "pipeline_config = dsl.PipelineConf()\n",
    "\n",
    "# pipeline_config.set_image_pull_secrets([k8s_client.V1ObjectReference(name=K8_GIT_SECRET_NAME, namespace=NAME_SPACE)])\n",
    "# pipeline_config.set_image_pull_policy(\"Always\")\n",
    "pipeline_config.set_image_pull_policy(\"IfNotPresent\")\n",
    "\n",
    "pipeline_args = {\n",
    "    \"a\": 1,\n",
    "    \"b\": 2\n",
    "}"
   ]
  },
  {
   "cell_type": "code",
   "execution_count": 14,
   "id": "b18f8205-d973-4461-b12c-261406cdb4a5",
   "metadata": {},
   "outputs": [
    {
     "name": "stdout",
     "output_type": "stream",
     "text": [
      "kubeflow-kindfor\n"
     ]
    }
   ],
   "source": [
    "import kfp\n",
    "\n",
    "EXPERIMENT_NAME = \"demo\"\n",
    "\n",
    "client = kfp.Client()\n",
    "\n",
    "NAMESPACE = client.get_user_namespace()\n",
    "print(NAMESPACE)"
   ]
  },
  {
   "cell_type": "code",
   "execution_count": 15,
   "id": "26bab500-242b-42a2-8219-2373639f90ae",
   "metadata": {},
   "outputs": [
    {
     "name": "stdout",
     "output_type": "stream",
     "text": [
      "demo\n",
      "kubeflow-kindfor\n"
     ]
    },
    {
     "data": {
      "text/html": [
       "<a href=\"/pipeline/#/experiments/details/44688294-d176-4974-a329-d5085422bf76\" target=\"_blank\" >Experiment details</a>."
      ],
      "text/plain": [
       "<IPython.core.display.HTML object>"
      ]
     },
     "metadata": {},
     "output_type": "display_data"
    },
    {
     "data": {
      "text/html": [
       "<a href=\"/pipeline/#/runs/details/b98bc2bc-9b5c-407f-9f77-88bdc61748c7\" target=\"_blank\" >Run details</a>."
      ],
      "text/plain": [
       "<IPython.core.display.HTML object>"
      ]
     },
     "metadata": {},
     "output_type": "display_data"
    }
   ],
   "source": [
    "RUN_NAME = f\"pythagorean {get_local_time_str()}\"\n",
    "print(EXPERIMENT_NAME)\n",
    "print(NAMESPACE)\n",
    "\n",
    "# client = kfp.Client()\n",
    "run = client.create_run_from_pipeline_func(\n",
    "    pipeline_func=my_pipeline,\n",
    "    arguments = pipeline_args,\n",
    "    run_name = RUN_NAME,\n",
    "    pipeline_conf=pipeline_config,\n",
    "    experiment_name=EXPERIMENT_NAME,\n",
    "    namespace=NAMESPACE,\n",
    ")"
   ]
  },
  {
   "cell_type": "markdown",
   "id": "50da606a-1ed1-45e1-a6a2-b7505a72913a",
   "metadata": {},
   "source": [
    "### (Optional) parsen ApiRunDetails for further automated processing\n",
    "\n",
    "* https://stackoverflow.com/questions/71527961/read-the-output-of-a-kubeflow-pipeline-programatically/71666087#71666087"
   ]
  },
  {
   "cell_type": "code",
   "execution_count": 16,
   "id": "5d44e372-a98f-47a1-ba45-3b35d26c50b0",
   "metadata": {},
   "outputs": [
    {
     "name": "stdout",
     "output_type": "stream",
     "text": [
      "<class 'kfp_server_api.models.api_run_detail.ApiRunDetail'>\n"
     ]
    }
   ],
   "source": [
    "# be cautious, wait_for_run_completion is a blocking call.\n",
    "one_off_run_details = run.wait_for_run_completion()\n",
    "print(type(one_off_run_details))"
   ]
  },
  {
   "cell_type": "code",
   "execution_count": 17,
   "id": "9591beb8-e6e8-4229-b1ae-d32212e889ae",
   "metadata": {},
   "outputs": [],
   "source": [
    "import json\n",
    "from typing import Dict\n",
    "from typing import List\n",
    "\n",
    "from kfp_server_api.models.api_run_detail import ApiRunDetail\n",
    "\n",
    "class PipelineResult:\n",
    "    DATASET_PATH_NAME = \"data-load-features-DATA_SET_PATH\"\n",
    "\n",
    "    def __init__(self, run_description: ApiRunDetail):\n",
    "        self._run_description = run_description\n",
    "\n",
    "    @property\n",
    "    def workflow_manifest(self) -> dict:\n",
    "        return json.loads(self._run_description.pipeline_runtime.workflow_manifest)\n",
    "\n",
    "    @property\n",
    "    def status(self) -> str:\n",
    "        return self.workflow_manifest[\"status\"][\"phase\"]\n",
    "\n",
    "    @property\n",
    "    def params(self) -> List[Dict]:\n",
    "        params_list = []\n",
    "        for k, v in self.workflow_manifest[\"status\"][\"nodes\"].items():\n",
    "\n",
    "            for params in v.get(\"inputs\", {}).get(\"parameters\", []):\n",
    "                params_list.append({\"node_name\": k, **params})\n",
    "        return params_list\n",
    "\n",
    "    def get_param(self, param_name: str):\n",
    "        for el in self.params:\n",
    "            if el[\"name\"] == param_name:\n",
    "                return el[\"value\"]\n",
    "\n",
    "    @property\n",
    "    def training_set_path(self):\n",
    "        return self.get_param(self.DATASET_PATH_NAME)\n",
    "\n",
    "    @property\n",
    "    def run_name(self):\n",
    "        return self.workflow_manifest[\"metadata\"][\"annotations\"][\"pipelines.kubeflow.org/run_name\"]\n",
    "\n",
    "    def as_dict(self):\n",
    "        return {\n",
    "            \"status\": self.status,\n",
    "            \"training_set_path\": self.training_set_path,\n",
    "            \"run_name\": self.run_name,\n",
    "        }"
   ]
  },
  {
   "cell_type": "code",
   "execution_count": 18,
   "id": "f8c2a44a-acac-4173-bb81-b84e6af1e298",
   "metadata": {},
   "outputs": [
    {
     "data": {
      "text/html": [
       "<div>\n",
       "<style scoped>\n",
       "    .dataframe tbody tr th:only-of-type {\n",
       "        vertical-align: middle;\n",
       "    }\n",
       "\n",
       "    .dataframe tbody tr th {\n",
       "        vertical-align: top;\n",
       "    }\n",
       "\n",
       "    .dataframe thead th {\n",
       "        text-align: right;\n",
       "    }\n",
       "</style>\n",
       "<table border=\"1\" class=\"dataframe\">\n",
       "  <thead>\n",
       "    <tr style=\"text-align: right;\">\n",
       "      <th></th>\n",
       "      <th>status</th>\n",
       "      <th>training_set_path</th>\n",
       "      <th>run_name</th>\n",
       "    </tr>\n",
       "  </thead>\n",
       "  <tbody>\n",
       "    <tr>\n",
       "      <th>0</th>\n",
       "      <td>Succeeded</td>\n",
       "      <td>None</td>\n",
       "      <td>pythagorean 2024-02-12 14-05-19</td>\n",
       "    </tr>\n",
       "  </tbody>\n",
       "</table>\n",
       "</div>"
      ],
      "text/plain": [
       "      status training_set_path                         run_name\n",
       "0  Succeeded              None  pythagorean 2024-02-12 14-05-19"
      ]
     },
     "execution_count": 18,
     "metadata": {},
     "output_type": "execute_result"
    }
   ],
   "source": [
    "import pandas as pd\n",
    "runs = pd.DataFrame([PipelineResult(one_off_run_details).as_dict()])\n",
    "runs"
   ]
  },
  {
   "cell_type": "code",
   "execution_count": null,
   "id": "c7d27089-4c30-49f4-825f-27dbc215ac54",
   "metadata": {},
   "outputs": [],
   "source": []
  }
 ],
 "metadata": {
  "kernelspec": {
   "display_name": "Python 3 (ipykernel)",
   "language": "python",
   "name": "python3"
  },
  "language_info": {
   "codemirror_mode": {
    "name": "ipython",
    "version": 3
   },
   "file_extension": ".py",
   "mimetype": "text/x-python",
   "name": "python",
   "nbconvert_exporter": "python",
   "pygments_lexer": "ipython3",
   "version": "3.8.10"
  }
 },
 "nbformat": 4,
 "nbformat_minor": 5
}
