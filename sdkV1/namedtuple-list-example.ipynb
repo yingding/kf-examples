{
 "cells": [
  {
   "cell_type": "markdown",
   "id": "1911965a-8817-4a9a-805e-d9de8f021f3f",
   "metadata": {},
   "source": [
    "## About this Jupyter Notebook\n",
    "\n",
    "@author: Yingding Wang\\\n",
    "@updated: 11.09.2023\n",
    "\n",
    "This notebook demonstrate an example of passing NamedTuple List object between components"
   ]
  },
  {
   "cell_type": "markdown",
   "id": "c6c321cd-a970-4799-b894-b87acc93f900",
   "metadata": {},
   "source": [
    "## Install KFP Python SDK to build a V1 pipeline\n",
    "\n",
    "Build KF pipeline with python SDK: https://www.kubeflow.org/docs/components/pipelines/sdk/build-pipeline/\n",
    "Current KFP python SDK version on pypi.org: https://pypi.org/project/kfp/"
   ]
  },
  {
   "cell_type": "code",
   "execution_count": 1,
   "id": "c12cfed4-7232-48cb-b593-c99d9c0d3141",
   "metadata": {},
   "outputs": [
    {
     "name": "stdout",
     "output_type": "stream",
     "text": [
      "Requirement already satisfied: kfp==1.8.22 in /home/jovyan/.local/lib/python3.8/site-packages (1.8.22)\n",
      "Requirement already satisfied: Deprecated<2,>=1.2.7 in /opt/conda/lib/python3.8/site-packages (from kfp==1.8.22) (1.2.13)\n",
      "Requirement already satisfied: uritemplate<4,>=3.0.1 in /opt/conda/lib/python3.8/site-packages (from kfp==1.8.22) (3.0.1)\n",
      "Requirement already satisfied: click<9,>=7.1.2 in /home/jovyan/.local/lib/python3.8/site-packages (from kfp==1.8.22) (8.1.3)\n",
      "Requirement already satisfied: google-api-core!=2.0.*,!=2.1.*,!=2.2.*,!=2.3.0,<3.0.0dev,>=1.31.5 in /opt/conda/lib/python3.8/site-packages (from kfp==1.8.22) (2.8.2)\n",
      "Requirement already satisfied: tabulate<1,>=0.8.6 in /opt/conda/lib/python3.8/site-packages (from kfp==1.8.22) (0.9.0)\n",
      "Requirement already satisfied: typing-extensions<5,>=3.7.4 in /opt/conda/lib/python3.8/site-packages (from kfp==1.8.22) (4.5.0)\n",
      "Requirement already satisfied: strip-hints<1,>=0.1.8 in /opt/conda/lib/python3.8/site-packages (from kfp==1.8.22) (0.1.10)\n",
      "Requirement already satisfied: jsonschema<5,>=3.0.1 in /opt/conda/lib/python3.8/site-packages (from kfp==1.8.22) (3.2.0)\n",
      "Requirement already satisfied: PyYAML<7,>=5.3 in /opt/conda/lib/python3.8/site-packages (from kfp==1.8.22) (5.4.1)\n",
      "Requirement already satisfied: google-api-python-client<2,>=1.7.8 in /opt/conda/lib/python3.8/site-packages (from kfp==1.8.22) (1.12.11)\n",
      "Requirement already satisfied: protobuf<4,>=3.13.0 in /opt/conda/lib/python3.8/site-packages (from kfp==1.8.22) (3.17.3)\n",
      "Requirement already satisfied: typer<1.0,>=0.3.2 in /home/jovyan/.local/lib/python3.8/site-packages (from kfp==1.8.22) (0.9.0)\n",
      "Requirement already satisfied: requests-toolbelt<1,>=0.8.0 in /opt/conda/lib/python3.8/site-packages (from kfp==1.8.22) (0.10.1)\n",
      "Requirement already satisfied: fire<1,>=0.3.1 in /opt/conda/lib/python3.8/site-packages (from kfp==1.8.22) (0.5.0)\n",
      "Requirement already satisfied: urllib3<2 in /opt/conda/lib/python3.8/site-packages (from kfp==1.8.22) (1.26.15)\n",
      "Requirement already satisfied: kubernetes<26,>=8.0.0 in /opt/conda/lib/python3.8/site-packages (from kfp==1.8.22) (12.0.1)\n",
      "Requirement already satisfied: docstring-parser<1,>=0.7.3 in /opt/conda/lib/python3.8/site-packages (from kfp==1.8.22) (0.15)\n",
      "Requirement already satisfied: absl-py<2,>=0.9 in /opt/conda/lib/python3.8/site-packages (from kfp==1.8.22) (0.11.0)\n",
      "Requirement already satisfied: cloudpickle<3,>=2.0.0 in /home/jovyan/.local/lib/python3.8/site-packages (from kfp==1.8.22) (2.2.1)\n",
      "Requirement already satisfied: kfp-pipeline-spec<0.2.0,>=0.1.16 in /home/jovyan/.local/lib/python3.8/site-packages (from kfp==1.8.22) (0.1.16)\n",
      "Requirement already satisfied: google-cloud-storage<3,>=1.20.0 in /home/jovyan/.local/lib/python3.8/site-packages (from kfp==1.8.22) (2.10.0)\n",
      "Requirement already satisfied: google-auth<3,>=1.6.1 in /opt/conda/lib/python3.8/site-packages (from kfp==1.8.22) (1.35.0)\n",
      "Requirement already satisfied: kfp-server-api<2.0.0,>=1.1.2 in /home/jovyan/.local/lib/python3.8/site-packages (from kfp==1.8.22) (1.8.5)\n",
      "Requirement already satisfied: pydantic<2,>=1.8.2 in /home/jovyan/.local/lib/python3.8/site-packages (from kfp==1.8.22) (1.10.9)\n",
      "Requirement already satisfied: six in /opt/conda/lib/python3.8/site-packages (from absl-py<2,>=0.9->kfp==1.8.22) (1.16.0)\n",
      "Requirement already satisfied: wrapt<2,>=1.10 in /opt/conda/lib/python3.8/site-packages (from Deprecated<2,>=1.2.7->kfp==1.8.22) (1.15.0)\n",
      "Requirement already satisfied: termcolor in /opt/conda/lib/python3.8/site-packages (from fire<1,>=0.3.1->kfp==1.8.22) (2.2.0)\n",
      "Requirement already satisfied: googleapis-common-protos<2.0dev,>=1.56.2 in /opt/conda/lib/python3.8/site-packages (from google-api-core!=2.0.*,!=2.1.*,!=2.2.*,!=2.3.0,<3.0.0dev,>=1.31.5->kfp==1.8.22) (1.56.4)\n",
      "Requirement already satisfied: requests<3.0.0dev,>=2.18.0 in /opt/conda/lib/python3.8/site-packages (from google-api-core!=2.0.*,!=2.1.*,!=2.2.*,!=2.3.0,<3.0.0dev,>=1.31.5->kfp==1.8.22) (2.28.2)\n",
      "Requirement already satisfied: httplib2<1dev,>=0.15.0 in /opt/conda/lib/python3.8/site-packages (from google-api-python-client<2,>=1.7.8->kfp==1.8.22) (0.22.0)\n",
      "Requirement already satisfied: google-auth-httplib2>=0.0.3 in /opt/conda/lib/python3.8/site-packages (from google-api-python-client<2,>=1.7.8->kfp==1.8.22) (0.1.0)\n",
      "Requirement already satisfied: cachetools<5.0,>=2.0.0 in /opt/conda/lib/python3.8/site-packages (from google-auth<3,>=1.6.1->kfp==1.8.22) (4.2.4)\n",
      "Requirement already satisfied: pyasn1-modules>=0.2.1 in /opt/conda/lib/python3.8/site-packages (from google-auth<3,>=1.6.1->kfp==1.8.22) (0.2.8)\n",
      "Requirement already satisfied: setuptools>=40.3.0 in /opt/conda/lib/python3.8/site-packages (from google-auth<3,>=1.6.1->kfp==1.8.22) (67.6.0)\n",
      "Requirement already satisfied: rsa<5,>=3.1.4 in /opt/conda/lib/python3.8/site-packages (from google-auth<3,>=1.6.1->kfp==1.8.22) (4.9)\n",
      "Requirement already satisfied: google-resumable-media>=2.3.2 in /opt/conda/lib/python3.8/site-packages (from google-cloud-storage<3,>=1.20.0->kfp==1.8.22) (2.4.1)\n",
      "Requirement already satisfied: google-cloud-core<3.0dev,>=2.3.0 in /opt/conda/lib/python3.8/site-packages (from google-cloud-storage<3,>=1.20.0->kfp==1.8.22) (2.3.2)\n",
      "Requirement already satisfied: attrs>=17.4.0 in /opt/conda/lib/python3.8/site-packages (from jsonschema<5,>=3.0.1->kfp==1.8.22) (22.2.0)\n",
      "Requirement already satisfied: pyrsistent>=0.14.0 in /opt/conda/lib/python3.8/site-packages (from jsonschema<5,>=3.0.1->kfp==1.8.22) (0.19.3)\n",
      "Requirement already satisfied: certifi in /opt/conda/lib/python3.8/site-packages (from kfp-server-api<2.0.0,>=1.1.2->kfp==1.8.22) (2022.12.7)\n",
      "Requirement already satisfied: python-dateutil in /opt/conda/lib/python3.8/site-packages (from kfp-server-api<2.0.0,>=1.1.2->kfp==1.8.22) (2.8.2)\n",
      "Requirement already satisfied: requests-oauthlib in /opt/conda/lib/python3.8/site-packages (from kubernetes<26,>=8.0.0->kfp==1.8.22) (1.3.1)\n",
      "Requirement already satisfied: websocket-client!=0.40.0,!=0.41.*,!=0.42.*,>=0.32.0 in /opt/conda/lib/python3.8/site-packages (from kubernetes<26,>=8.0.0->kfp==1.8.22) (1.5.1)\n",
      "Requirement already satisfied: wheel in /opt/conda/lib/python3.8/site-packages (from strip-hints<1,>=0.1.8->kfp==1.8.22) (0.40.0)\n",
      "Requirement already satisfied: google-crc32c<2.0dev,>=1.0 in /opt/conda/lib/python3.8/site-packages (from google-resumable-media>=2.3.2->google-cloud-storage<3,>=1.20.0->kfp==1.8.22) (1.5.0)\n",
      "Requirement already satisfied: pyparsing!=3.0.0,!=3.0.1,!=3.0.2,!=3.0.3,<4,>=2.4.2 in /opt/conda/lib/python3.8/site-packages (from httplib2<1dev,>=0.15.0->google-api-python-client<2,>=1.7.8->kfp==1.8.22) (3.0.9)\n",
      "Requirement already satisfied: pyasn1<0.5.0,>=0.4.6 in /opt/conda/lib/python3.8/site-packages (from pyasn1-modules>=0.2.1->google-auth<3,>=1.6.1->kfp==1.8.22) (0.4.8)\n",
      "Requirement already satisfied: charset-normalizer<4,>=2 in /opt/conda/lib/python3.8/site-packages (from requests<3.0.0dev,>=2.18.0->google-api-core!=2.0.*,!=2.1.*,!=2.2.*,!=2.3.0,<3.0.0dev,>=1.31.5->kfp==1.8.22) (2.1.1)\n",
      "Requirement already satisfied: idna<4,>=2.5 in /opt/conda/lib/python3.8/site-packages (from requests<3.0.0dev,>=2.18.0->google-api-core!=2.0.*,!=2.1.*,!=2.2.*,!=2.3.0,<3.0.0dev,>=1.31.5->kfp==1.8.22) (3.4)\n",
      "Requirement already satisfied: oauthlib>=3.0.0 in /opt/conda/lib/python3.8/site-packages (from requests-oauthlib->kubernetes<26,>=8.0.0->kfp==1.8.22) (3.2.2)\n"
     ]
    }
   ],
   "source": [
    "import sys\n",
    "!{sys.executable} -m pip install --upgrade --user kfp==1.8.22"
   ]
  },
  {
   "cell_type": "markdown",
   "id": "69feee25-ee58-4b97-a8a7-3b0625051f9c",
   "metadata": {},
   "source": [
    "## Restart the Kernel\n",
    "After the installation of KFP python SDK, the notebook kernel must be restarted."
   ]
  },
  {
   "cell_type": "code",
   "execution_count": 2,
   "id": "4d0b6d32-1091-42a1-8cb2-6238d3d80cc9",
   "metadata": {},
   "outputs": [
    {
     "name": "stdout",
     "output_type": "stream",
     "text": [
      "current platform python version: 3.8.10\n"
     ]
    }
   ],
   "source": [
    "from platform import python_version\n",
    "print (f\"current platform python version: {python_version()}\")"
   ]
  },
  {
   "cell_type": "code",
   "execution_count": 3,
   "id": "2915154e-cf07-482d-9807-a511e5ec393e",
   "metadata": {},
   "outputs": [
    {
     "name": "stdout",
     "output_type": "stream",
     "text": [
      "Name:                                                         kf-resource-quota\n",
      "Namespace:                                                    kubeflow-kindfor\n",
      "Resource                                                      Used   Hard\n",
      "--------                                                      ----   ----\n",
      "basic-csi.storageclass.storage.k8s.io/persistentvolumeclaims  4      15\n",
      "basic-csi.storageclass.storage.k8s.io/requests.storage        115Gi  150Gi\n",
      "cpu                                                           290m   128\n",
      "longhorn.storageclass.storage.k8s.io/persistentvolumeclaims   1      15\n",
      "longhorn.storageclass.storage.k8s.io/requests.storage         250Gi  500Gi\n",
      "memory                                                        902Mi  512Gi\n",
      "requests.nvidia.com/mig-1g.10gb                               0      2\n",
      "requests.nvidia.com/mig-1g.20gb                               0      1\n",
      "requests.nvidia.com/mig-2g.20gb                               0      1\n"
     ]
    }
   ],
   "source": [
    "# run kubectl command line to see the quota in the name space\n",
    "!kubectl describe quota"
   ]
  },
  {
   "cell_type": "markdown",
   "id": "039a5811-c127-406a-8a85-54185a87f138",
   "metadata": {},
   "source": [
    "## Getting familiar with Jupyter Notebook ENV "
   ]
  },
  {
   "cell_type": "code",
   "execution_count": 4,
   "id": "6421f7eb-c37d-4b3c-ae62-2545a0d13cd1",
   "metadata": {},
   "outputs": [
    {
     "name": "stdout",
     "output_type": "stream",
     "text": [
      "kfp                      1.8.22\n",
      "kfp-pipeline-spec        0.1.16\n",
      "kfp-server-api           1.8.5\n"
     ]
    }
   ],
   "source": [
    "# examing the kfp python sdk version inside a KubeFlow v1.5.1\n",
    "!{sys.executable} -m pip list | grep kfp"
   ]
  },
  {
   "cell_type": "markdown",
   "id": "c15f28ed-1ba0-4e74-96f8-c75ea9c1f522",
   "metadata": {},
   "source": [
    "## Define global variable"
   ]
  },
  {
   "cell_type": "code",
   "execution_count": 5,
   "id": "4756712d-1c42-4067-b197-5c65407b7580",
   "metadata": {},
   "outputs": [
    {
     "name": "stdout",
     "output_type": "stream",
     "text": [
      "kubeflow-kindfor\n"
     ]
    }
   ],
   "source": [
    "import kfp\n",
    "client = kfp.Client()\n",
    "NAMESPACE = client.get_user_namespace()\n",
    "EXPERIMENT_NAME = 'default' # Name of the experiment in the KF webapp UI\n",
    "EXPERIMENT_DESC = 'pass list obj between components'\n",
    "PREFIX = \"demo_\"\n",
    "\n",
    "print(NAMESPACE)"
   ]
  },
  {
   "cell_type": "code",
   "execution_count": 6,
   "id": "9fc21801-1a1f-4b1c-9ffc-8b5e19299e89",
   "metadata": {},
   "outputs": [],
   "source": [
    "from dataclasses import dataclass\n",
    "@dataclass\n",
    "class Config:\n",
    "    # python 3.8\n",
    "    base_image: str = \"python:3.8.18\"\n",
    "    \n",
    "config = Config()"
   ]
  },
  {
   "cell_type": "markdown",
   "id": "1412e986-1e73-490f-99c2-0f1285efbe2e",
   "metadata": {},
   "source": [
    "## Creating KubeFlow component from python function"
   ]
  },
  {
   "cell_type": "code",
   "execution_count": 7,
   "id": "a096a6f3-8252-46f4-a808-3dc407b449c4",
   "metadata": {},
   "outputs": [],
   "source": [
    "import kfp.dsl as dsl\n",
    "from functools import partial\n",
    "from kfp.dsl import (\n",
    "    pipeline,\n",
    "    ContainerOp\n",
    ")\n",
    "from kfp.components import (\n",
    "    InputPath,\n",
    "    OutputPath,\n",
    "    create_component_from_func\n",
    ")"
   ]
  },
  {
   "cell_type": "markdown",
   "id": "efda7fe2-4c62-4c72-a1c6-88d15edd0506",
   "metadata": {},
   "source": [
    "## List Write Component"
   ]
  },
  {
   "cell_type": "code",
   "execution_count": 8,
   "id": "44703bfb-f72d-48b3-a0a6-99d637d39db3",
   "metadata": {},
   "outputs": [],
   "source": [
    "from typing import NamedTuple\n",
    "@partial(\n",
    "    create_component_from_func,\n",
    "    output_component_file=f\"{PREFIX}list_write_component.yaml\",\n",
    "    base_image=config.base_image,\n",
    "    packages_to_install=[\n",
    "    ] # adding additional libs,\n",
    ")\n",
    "def upstream_write_task() -> NamedTuple(\"output\", [('mylist', list)]):\n",
    "    from collections import namedtuple\n",
    "    content_list = [f\"string numer {i}\" for i in range(10)]\n",
    "    output = namedtuple('output',['mylist'])  \n",
    "    return output(content_list)\n",
    "    \n",
    "    \n",
    "    "
   ]
  },
  {
   "cell_type": "code",
   "execution_count": 9,
   "id": "0d505926-d998-42c2-a4a2-1050efc2c831",
   "metadata": {},
   "outputs": [],
   "source": [
    "# must use the default list type, not typing.List \n",
    "@partial(\n",
    "    create_component_from_func,\n",
    "    output_component_file=f\"{PREFIX}list_read_component.yaml\",\n",
    "    base_image=config.base_image,\n",
    "    packages_to_install=[\n",
    "    ] # adding additional libs,\n",
    ")\n",
    "def downstream_read_task(my_list: list):\n",
    "    print(my_list)"
   ]
  },
  {
   "cell_type": "markdown",
   "id": "3e2c627d-d703-4e61-8ccf-41c18d368c71",
   "metadata": {},
   "source": [
    "## Define Helper Function\n",
    "Difference between 2Gi and 2G\n",
    "https://stackoverflow.com/questions/50804915/kubernetes-size-definitions-whats-the-difference-of-gi-and-g/50805048#50805048"
   ]
  },
  {
   "cell_type": "code",
   "execution_count": 10,
   "id": "60d20ff7-80c5-4131-8265-8a6d5a8d3f65",
   "metadata": {},
   "outputs": [],
   "source": [
    "def pod_resource_transformer(op: ContainerOp, mem_req=\"200Mi\", cpu_req=\"2000m\", mem_lim=\"4000Mi\", cpu_lim='4000m'):\n",
    "    \"\"\"\n",
    "    this function helps to set the resource limit for container operators\n",
    "    op.set_memory_limit('1000Mi') = 1GB\n",
    "    op.set_cpu_limit('1000m') = 1 cpu core\n",
    "    \"\"\"\n",
    "    return op.set_memory_request(mem_req)\\\n",
    "            .set_memory_limit(mem_lim)\\\n",
    "            .set_cpu_request(cpu_req)\\\n",
    "            .set_cpu_limit(cpu_lim)"
   ]
  },
  {
   "cell_type": "markdown",
   "id": "c5be1b8e-7615-4247-bf4f-21833b91958d",
   "metadata": {},
   "source": [
    "## Define Pipeline\n",
    "* Intro Kubeflow pipeline: https://v1-5-branch.kubeflow.org/docs/components/pipelines/introduction/\n",
    "* Kubeflow pipeline SDK v1: https://v1-5-branch.kubeflow.org/docs/components/pipelines/sdk/sdk-overview/"
   ]
  },
  {
   "cell_type": "code",
   "execution_count": 11,
   "id": "d1f2bfaf-421c-42cc-bf34-74535112d348",
   "metadata": {},
   "outputs": [],
   "source": [
    "@pipeline(\n",
    "    name = EXPERIMENT_NAME,\n",
    "    description = EXPERIMENT_DESC\n",
    ")\n",
    "def custom_pipeline(epochs: int):\n",
    "    '''local variable'''\n",
    "    no_artifact_cache = \"P0D\"\n",
    "    # artifact_cache_today = \"P1D\"\n",
    "    cache_setting = no_artifact_cache\n",
    "    batch_size = 50\n",
    "    # epochs = 100\n",
    "    \n",
    "    '''pipeline'''   \n",
    "    task1 = upstream_write_task() \n",
    "    task1 = pod_resource_transformer(task1, mem_req=\"1000Mi\", cpu_req=\"1000m\")\n",
    "    task1.execution_options.caching_strategy.max_cache_staleness = cache_setting\n",
    "    task1.set_display_name(\"create list\")\n",
    "    \n",
    "    task2 = downstream_read_task(task1.outputs['mylist']) \n",
    "    task2 = pod_resource_transformer(task2, mem_req=\"1000Mi\", cpu_req=\"1000m\")\n",
    "    task2.execution_options.caching_strategy.max_cache_staleness = cache_setting\n",
    "    task2.set_display_name(\"read list\")"
   ]
  },
  {
   "cell_type": "markdown",
   "id": "c9d2862f-644c-4dad-80ee-c619f4322a43",
   "metadata": {},
   "source": [
    "### (optional) pipeline compile step\n",
    "use the following command to compile the pipeline"
   ]
  },
  {
   "cell_type": "code",
   "execution_count": 12,
   "id": "fc70b2dc-9e29-4fd0-8b9e-86b1373059b7",
   "metadata": {},
   "outputs": [],
   "source": [
    "PIPE_LINE_FILE_NAME=f\"{PREFIX}kfp_pass_list_pipeline\"\n",
    "kfp.compiler.Compiler().compile(custom_pipeline, f\"{PIPE_LINE_FILE_NAME}.yaml\")"
   ]
  },
  {
   "cell_type": "markdown",
   "id": "800a2766-a070-4801-bb19-c086b374a4b7",
   "metadata": {},
   "source": [
    "### Create Experiment Run\n",
    "\n",
    "create run label with current data time\n",
    "```python\n",
    "from datetime import datetime\n",
    "from pytz import timezone as ptimezone\n",
    "ts = datetime.strftime(datetime.now(ptimezone(\"Europe/Berlin\")), \"%Y-%m-%d %H-%M-%S\")\n",
    "print(ts)\n",
    "```\n",
    "\n",
    "Reference:\n",
    "* https://stackoverflow.com/questions/25837452/python-get-current-time-in-right-timezone/25887393#25887393"
   ]
  },
  {
   "cell_type": "code",
   "execution_count": 13,
   "id": "778f1c01-133b-4fe6-929a-6afadf1b4162",
   "metadata": {},
   "outputs": [],
   "source": [
    "from datetime import datetime\n",
    "from pytz import timezone as ptimezone\n",
    "\n",
    "def get_local_time_str(target_tz_str: str = \"Europe/Berlin\", format_str: str = \"%Y-%m-%d %H-%M-%S\") -> str:\n",
    "    \"\"\"\n",
    "    this method is created since the local timezone is miss configured on the server\n",
    "    @param: target timezone str default \"Europe/Berlin\"\n",
    "    @param: \"%Y-%m-%d %H-%M-%S\" returns 2022-07-07 12-08-45\n",
    "    \"\"\"\n",
    "    target_tz = ptimezone(target_tz_str) # create timezone, in python3.9 use standard lib ZoneInfo\n",
    "    # utc_dt = datetime.now(datetime.timezone.utc)\n",
    "    target_dt = datetime.now(target_tz)\n",
    "    return datetime.strftime(target_dt, format_str)"
   ]
  },
  {
   "cell_type": "code",
   "execution_count": 14,
   "id": "1070e391-b6a2-4317-bddf-1f6c1290ed71",
   "metadata": {},
   "outputs": [],
   "source": [
    "# from kubernetes import client as k8s_client\n",
    "pipeline_config = dsl.PipelineConf()\n",
    "\n",
    "# pipeline_config.set_image_pull_secrets([k8s_client.V1ObjectReference(name=K8_GIT_SECRET_NAME, namespace=NAME_SPACE)])\n",
    "# pipeline_config.set_image_pull_policy(\"Always\")\n",
    "pipeline_config.set_image_pull_policy(\"IfNotPresent\")\n",
    "\n",
    "pipeline_args = {}"
   ]
  },
  {
   "cell_type": "code",
   "execution_count": 15,
   "id": "f0250c8d-b97d-4884-82fd-b1702238ab0a",
   "metadata": {},
   "outputs": [
    {
     "data": {
      "text/html": [
       "<a href=\"/pipeline/#/experiments/details/544ccf26-fa4a-46bb-95c5-79eb07ef27a1\" target=\"_blank\" >Experiment details</a>."
      ],
      "text/plain": [
       "<IPython.core.display.HTML object>"
      ]
     },
     "metadata": {},
     "output_type": "display_data"
    },
    {
     "data": {
      "text/html": [
       "<a href=\"/pipeline/#/runs/details/14e5ed59-4a6a-4db3-ae7c-ba53071d1dde\" target=\"_blank\" >Run details</a>."
      ],
      "text/plain": [
       "<IPython.core.display.HTML object>"
      ]
     },
     "metadata": {},
     "output_type": "display_data"
    },
    {
     "data": {
      "text/plain": [
       "RunPipelineResult(run_id=14e5ed59-4a6a-4db3-ae7c-ba53071d1dde)"
      ]
     },
     "execution_count": 15,
     "metadata": {},
     "output_type": "execute_result"
    }
   ],
   "source": [
    "RUN_NAME = f\"{PREFIX}kfp_pass_list_pipeline {get_local_time_str()}\"\n",
    "\n",
    "# client = kfp.Client()\n",
    "client.create_run_from_pipeline_func(\n",
    "    pipeline_func=custom_pipeline,\n",
    "    arguments = pipeline_args, #{}\n",
    "    run_name = RUN_NAME,\n",
    "    pipeline_conf=pipeline_config,\n",
    "    experiment_name=EXPERIMENT_NAME,\n",
    "    namespace=NAMESPACE,\n",
    ")"
   ]
  }
 ],
 "metadata": {
  "kernelspec": {
   "display_name": "Python 3 (ipykernel)",
   "language": "python",
   "name": "python3"
  },
  "language_info": {
   "codemirror_mode": {
    "name": "ipython",
    "version": 3
   },
   "file_extension": ".py",
   "mimetype": "text/x-python",
   "name": "python",
   "nbconvert_exporter": "python",
   "pygments_lexer": "ipython3",
   "version": "3.8.10"
  }
 },
 "nbformat": 4,
 "nbformat_minor": 5
}
