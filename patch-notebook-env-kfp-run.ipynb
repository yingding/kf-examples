{
 "cells": [
  {
   "cell_type": "markdown",
   "id": "061ca9cb-484a-406e-a4dd-6a18e1d72abd",
   "metadata": {},
   "source": [
    "## Setup the notebook env\n",
    "\n",
    "Notice:\\\n",
    "The default notebook image for kubeflow 1.5.1 contains an **old \"kfp-server-api==1.6.2\"** for calling the kubeflow pipeline server backend, the backend version of KF 1.5.1 is \"1.8.2\", we need a sdk client version to match the back otherwise we will encounter an 500 error.\n",
    "\n",
    "Run the following notebook cell to update the \"kfp-server-api\" version"
   ]
  },
  {
   "cell_type": "code",
   "execution_count": 3,
   "id": "0cc246cd-dfe7-485d-b096-503f351f3944",
   "metadata": {
    "tags": []
   },
   "outputs": [],
   "source": [
    "import sys"
   ]
  },
  {
   "cell_type": "code",
   "execution_count": 5,
   "id": "9f6a5d5b-7c14-4441-b80b-617033f60bcf",
   "metadata": {},
   "outputs": [
    {
     "name": "stdout",
     "output_type": "stream",
     "text": [
      "kfp                          1.8.14\n",
      "kfp-pipeline-spec            0.1.16\n",
      "kfp-server-api               1.8.2\n"
     ]
    }
   ],
   "source": [
    "!{sys.executable} -m pip list | grep kfp"
   ]
  },
  {
   "cell_type": "code",
   "execution_count": null,
   "id": "0bf146d9-5f9b-4c7b-bdd0-391339974904",
   "metadata": {},
   "outputs": [],
   "source": [
    "\"\"\"upgrade the kfp server api version to 1.8.0 for KF 1.5.1\n",
    "Uncomment the following to lines and run this cell to update the 'kfp-server-api' version\n",
    "\"\"\"\n",
    "\n",
    "#!{sys.executable} -m pip uninstall -y kfp-server-api\n",
    "#!{sys.executable} -m pip install --user --upgrade kfp-server-api==1.8.2"
   ]
  }
 ],
 "metadata": {
  "kernelspec": {
   "display_name": "Python 3",
   "language": "python",
   "name": "python3"
  },
  "language_info": {
   "codemirror_mode": {
    "name": "ipython",
    "version": 3
   },
   "file_extension": ".py",
   "mimetype": "text/x-python",
   "name": "python",
   "nbconvert_exporter": "python",
   "pygments_lexer": "ipython3",
   "version": "3.8.10"
  }
 },
 "nbformat": 4,
 "nbformat_minor": 5
}
