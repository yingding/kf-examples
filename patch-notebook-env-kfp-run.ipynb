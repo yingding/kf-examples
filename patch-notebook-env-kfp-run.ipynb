{
 "cells": [
  {
   "cell_type": "markdown",
   "id": "061ca9cb-484a-406e-a4dd-6a18e1d72abd",
   "metadata": {},
   "source": [
    "## Setup the notebook env\n",
    "\n",
    "Notice:\\\n",
    "The default notebook image for kubeflow 1.5.1 contains an **old \"kfp-server-api==1.6.2\"** for calling the kubeflow pipeline server backend, the backend version of KF 1.5.1 is \"1.8.2\", we need a sdk client version to match the back otherwise we will encounter an 500 error.\n",
    "\n",
    "```console\n",
    "ApiException: (500)\n",
    "Reason: Internal Server Error\n",
    "HTTP response headers: HTTPHeaderDict({'content-type': 'application/json', 'date': 'Tue, 11 Oct 2022 11:34:55 GMT', 'x-envoy-upstream-service-time': '25', 'server': 'envoy', 'transfer-encoding': 'chunked'})\n",
    "HTTP response body: {\"error\":\"Internal error: Unauthenticated: Request header error: there is no user identity header.: Request header error: there is no user identity header.\n",
    "```\n",
    "\n",
    "Double check your KFP Server API backend version with\n",
    "```console\n",
    "kubectl -n kubeflow describe deployment ml-pipeline\n",
    "```\n",
    "and you will see as\n",
    "```\n",
    "  Containers:\n",
    "   ml-pipeline-api-server:\n",
    "    Image:       gcr.io/ml-pipeline/api-server:2.0.0-alpha.5\n",
    "```\n",
    "\n",
    "Run the following notebook cell to update the \"kfp-server-api\" version\n",
    "\n",
    "Note:\n",
    "* Use kfp 1.8.14 to run v1 pipeline with kfp-server-api backend 2.0.0a5 of KF 1.6.1 manifests\n",
    "* Use kfp 2.0.0b5 to run v2 pipeline with kfp-server-api backend 2.0.0a5 of KF 1.6.1 manifests"
   ]
  },
  {
   "cell_type": "code",
   "execution_count": 1,
   "id": "0cc246cd-dfe7-485d-b096-503f351f3944",
   "metadata": {
    "tags": []
   },
   "outputs": [],
   "source": [
    "import sys"
   ]
  },
  {
   "cell_type": "code",
   "execution_count": 2,
   "id": "9f6a5d5b-7c14-4441-b80b-617033f60bcf",
   "metadata": {},
   "outputs": [
    {
     "name": "stdout",
     "output_type": "stream",
     "text": [
      "kfp                      1.8.14\n",
      "kfp-pipeline-spec        0.1.16\n",
      "kfp-server-api           1.6.0\n"
     ]
    }
   ],
   "source": [
    "!{sys.executable} -m pip list | grep kfp"
   ]
  },
  {
   "cell_type": "code",
   "execution_count": 5,
   "id": "0bf146d9-5f9b-4c7b-bdd0-391339974904",
   "metadata": {},
   "outputs": [
    {
     "data": {
      "text/plain": [
       "\"upgrade the kfp server api version to 1.8.0 for KF 1.5.1\\nUncomment the following to lines and run this cell to update the 'kfp-server-api' version\\n\""
      ]
     },
     "execution_count": 5,
     "metadata": {},
     "output_type": "execute_result"
    }
   ],
   "source": [
    "\"\"\"upgrade the kfp server api version to 1.8.0 for KF 1.5.1\n",
    "Uncomment the following to lines and run this cell to update the 'kfp-server-api' version\n",
    "\"\"\"\n",
    "\n",
    "#!{sys.executable} -m pip uninstall -y kfp-server-api\n",
    "#!{sys.executable} -m pip install --user --upgrade kfp-server-api==1.8.2"
   ]
  },
  {
   "cell_type": "code",
   "execution_count": 3,
   "id": "92bb8d82-b246-4eeb-8898-fb095d4027ad",
   "metadata": {},
   "outputs": [
    {
     "name": "stdout",
     "output_type": "stream",
     "text": [
      "Found existing installation: kfp-server-api 1.6.0\n",
      "Uninstalling kfp-server-api-1.6.0:\n",
      "  Successfully uninstalled kfp-server-api-1.6.0\n",
      "Collecting kfp-server-api==1.8.5\n",
      "  Downloading kfp-server-api-1.8.5.tar.gz (58 kB)\n",
      "\u001b[2K     \u001b[90m━━━━━━━━━━━━━━━━━━━━━━━━━━━━━━━━━━━━━━━━\u001b[0m \u001b[32m58.1/58.1 kB\u001b[0m \u001b[31m4.5 MB/s\u001b[0m eta \u001b[36m0:00:00\u001b[0m\n",
      "\u001b[?25h  Preparing metadata (setup.py) ... \u001b[?25ldone\n",
      "\u001b[?25hRequirement already satisfied: urllib3>=1.15 in /opt/conda/lib/python3.8/site-packages (from kfp-server-api==1.8.5) (1.26.11)\n",
      "Requirement already satisfied: six>=1.10 in /opt/conda/lib/python3.8/site-packages (from kfp-server-api==1.8.5) (1.16.0)\n",
      "Requirement already satisfied: certifi in /opt/conda/lib/python3.8/site-packages (from kfp-server-api==1.8.5) (2022.9.24)\n",
      "Requirement already satisfied: python-dateutil in /opt/conda/lib/python3.8/site-packages (from kfp-server-api==1.8.5) (2.8.2)\n",
      "Building wheels for collected packages: kfp-server-api\n",
      "  Building wheel for kfp-server-api (setup.py) ... \u001b[?25ldone\n",
      "\u001b[?25h  Created wheel for kfp-server-api: filename=kfp_server_api-1.8.5-py3-none-any.whl size=99701 sha256=0a788789c97a242904f562586fd53d45e45c5e6ac7b8d8aab239b3dbb6283b7e\n",
      "  Stored in directory: /home/jovyan/.cache/pip/wheels/93/b7/87/8884b574029455610a5b99752115d2ac857f8cfe8b846a1225\n",
      "Successfully built kfp-server-api\n",
      "Installing collected packages: kfp-server-api\n",
      "Successfully installed kfp-server-api-1.8.5\n"
     ]
    }
   ],
   "source": [
    "\"\"\"upgrade the kfp server api version to 2.0.0alpha5 for KF 1.6.1\n",
    "Uncomment the following to lines and run this cell to update the 'kfp-server-api' version\n",
    "\"\"\"\n",
    "\n",
    "!{sys.executable} -m pip uninstall -y kfp-server-api\n",
    "!{sys.executable} -m pip install --user --upgrade kfp-server-api==1.8.5"
   ]
  },
  {
   "cell_type": "code",
   "execution_count": 6,
   "id": "5342157d-1688-4365-a28c-79a141d5e5c5",
   "metadata": {},
   "outputs": [
    {
     "name": "stdout",
     "output_type": "stream",
     "text": [
      "Found existing installation: kfp-server-api 1.6.0\n",
      "Uninstalling kfp-server-api-1.6.0:\n",
      "  Successfully uninstalled kfp-server-api-1.6.0\n",
      "Collecting kfp-server-api==2.0.0a5\n",
      "  Downloading kfp-server-api-2.0.0a5.tar.gz (60 kB)\n",
      "\u001b[2K     \u001b[90m━━━━━━━━━━━━━━━━━━━━━━━━━━━━━━━━━━━━━━━━\u001b[0m \u001b[32m60.5/60.5 kB\u001b[0m \u001b[31m4.7 MB/s\u001b[0m eta \u001b[36m0:00:00\u001b[0m\n",
      "\u001b[?25h  Preparing metadata (setup.py) ... \u001b[?25ldone\n",
      "\u001b[?25hRequirement already satisfied: urllib3>=1.15 in /opt/conda/lib/python3.8/site-packages (from kfp-server-api==2.0.0a5) (1.26.11)\n",
      "Requirement already satisfied: six>=1.10 in /opt/conda/lib/python3.8/site-packages (from kfp-server-api==2.0.0a5) (1.16.0)\n",
      "Requirement already satisfied: certifi in /opt/conda/lib/python3.8/site-packages (from kfp-server-api==2.0.0a5) (2022.9.24)\n",
      "Requirement already satisfied: python-dateutil in /opt/conda/lib/python3.8/site-packages (from kfp-server-api==2.0.0a5) (2.8.2)\n",
      "Building wheels for collected packages: kfp-server-api\n",
      "  Building wheel for kfp-server-api (setup.py) ... \u001b[?25ldone\n",
      "\u001b[?25h  Created wheel for kfp-server-api: filename=kfp_server_api-2.0.0a5-py3-none-any.whl size=104201 sha256=c2c88d3c3557351af309b43282acf0a9cfba3884d87b923e00ac84ad9108977c\n",
      "  Stored in directory: /home/jovyan/.cache/pip/wheels/01/a1/ea/570cfa94b04bf6bab68cee4a8754301050926fd9052a4daee3\n",
      "Successfully built kfp-server-api\n",
      "Installing collected packages: kfp-server-api\n",
      "\u001b[31mERROR: pip's dependency resolver does not currently take into account all the packages that are installed. This behaviour is the source of the following dependency conflicts.\n",
      "kfp 1.8.14 requires kfp-server-api<2.0.0,>=1.1.2, but you have kfp-server-api 2.0.0a5 which is incompatible.\u001b[0m\u001b[31m\n",
      "\u001b[0mSuccessfully installed kfp-server-api-2.0.0a5\n"
     ]
    }
   ],
   "source": [
    "\"\"\"upgrade the kfp server api version to 2.0.0-alpha.5 for KF 1.6.1\n",
    "Uncomment the following to lines and run this cell to update the 'kfp-server-api' version\n",
    "\"\"\"\n",
    "\n",
    "# !{sys.executable} -m pip uninstall -y kfp-server-api\n",
    "# !{sys.executable} -m pip install --user --upgrade kfp-server-api==2.0.0a5"
   ]
  },
  {
   "cell_type": "code",
   "execution_count": null,
   "id": "5001119a-1366-457b-bf89-b893b88c0d00",
   "metadata": {},
   "outputs": [],
   "source": []
  }
 ],
 "metadata": {
  "kernelspec": {
   "display_name": "Python 3 (ipykernel)",
   "language": "python",
   "name": "python3"
  },
  "language_info": {
   "codemirror_mode": {
    "name": "ipython",
    "version": 3
   },
   "file_extension": ".py",
   "mimetype": "text/x-python",
   "name": "python",
   "nbconvert_exporter": "python",
   "pygments_lexer": "ipython3",
   "version": "3.8.10"
  }
 },
 "nbformat": 4,
 "nbformat_minor": 5
}
